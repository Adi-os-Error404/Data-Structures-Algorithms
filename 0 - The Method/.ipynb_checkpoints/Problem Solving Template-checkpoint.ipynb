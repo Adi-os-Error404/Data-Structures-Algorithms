{
 "cells": [
  {
   "cell_type": "markdown",
   "id": "28412111",
   "metadata": {},
   "source": [
    "## The Method\n",
    "<br>\n",
    "1. State the problem clearly. Identify the input & output formats.<br><br>\n",
    "2. Come up with some example inputs & outputs. Try to cover all edge cases.<br><br>\n",
    "3. Come up with a correct solution for the problem. State it in plain English.<br><br>\n",
    "4. Implement the solution and test it using example inputs. Fix bugs, if any.<br><br>\n",
    "5. Analyze the algorithm's complexity and identify inefficiencies, if any.<br><br>\n",
    "6. Apply the right technique to overcome the inefficiency. Repeat steps 3 to 6.<br><br>"
   ]
  },
  {
   "cell_type": "markdown",
   "id": "cede29b4",
   "metadata": {},
   "source": [
    "## Solution\n",
    "<hr><br>\n",
    "\n",
    "### 1. State the problem clearly. Identify the input & output formats.\n",
    "<br>\n",
    "\n",
    "**Problem**\n",
    "\n",
    "> **???** (express the problem clearly in our own words, and in absract terms)\n",
    "\n",
    "<br/>\n",
    "\n",
    "\n",
    "**Input**\n",
    "\n",
    "1. **???**\n",
    "2. **???**\n",
    "\n",
    "(add more if required)\n",
    "\n",
    "<br>\n",
    "\n",
    "**Output**\n",
    "\n",
    "1. **???**\n",
    "\n",
    "\n",
    "(add more if required)\n",
    "\n",
    "<br/>\n",
    "\n",
    "Based on the above, we can now create a signature of our function:"
   ]
  },
  {
   "cell_type": "code",
   "execution_count": 3,
   "id": "b618d1a4",
   "metadata": {},
   "outputs": [],
   "source": [
    "# Create a function signature here. \n",
    "#The body of the function can contain a single statement: pass"
   ]
  },
  {
   "cell_type": "markdown",
   "id": "d9d55881",
   "metadata": {},
   "source": [
    "<hr><br>\n",
    "\n",
    "### 2. Come up with some example inputs & outputs. Try to cover all edge cases.\n",
    "\n",
    "1. **???**\n",
    "2. **???**\n",
    "3. **???**\n",
    "4. **???**\n",
    "5. **???**\n",
    "\n",
    "(add more if required)\n"
   ]
  },
  {
   "cell_type": "code",
   "execution_count": 4,
   "id": "29e19467",
   "metadata": {},
   "outputs": [
    {
     "ename": "SyntaxError",
     "evalue": "invalid syntax (3361374256.py, line 4)",
     "output_type": "error",
     "traceback": [
      "\u001b[0;36m  Cell \u001b[0;32mIn[4], line 4\u001b[0;36m\u001b[0m\n\u001b[0;31m    ???\u001b[0m\n\u001b[0m    ^\u001b[0m\n\u001b[0;31mSyntaxError\u001b[0m\u001b[0;31m:\u001b[0m invalid syntax\n"
     ]
    }
   ],
   "source": [
    "tests = []\n",
    "tests.append({\n",
    "    'input': {\n",
    "        ???\n",
    "    },\n",
    "    'output': ???\n",
    "})\n",
    "# add more test casesm"
   ]
  },
  {
   "cell_type": "markdown",
   "id": "1ca49628",
   "metadata": {},
   "source": [
    "<hr><br>\n",
    "\n",
    "### 3. Come up with a correct solution for the problem. State it in plain English.\n",
    "\n",
    "1. **???**\n",
    "2. **???**\n",
    "3. **???**\n",
    "4. **???**\n",
    "5. **???**\n",
    "\n",
    "(add more steps if required)\n"
   ]
  },
  {
   "cell_type": "markdown",
   "id": "be9fa298",
   "metadata": {},
   "source": [
    "<hr><br>\n",
    "\n",
    "###  4. Implement the solution and test it using example inputs. Fix bugs, if any."
   ]
  },
  {
   "cell_type": "code",
   "execution_count": 5,
   "id": "55cd026e",
   "metadata": {},
   "outputs": [],
   "source": [
    "# TEST and FIX BUGS "
   ]
  },
  {
   "cell_type": "markdown",
   "id": "69e9a951",
   "metadata": {},
   "source": [
    "<hr><br>\n",
    "\n",
    "### 5. Analyze the algorithm's complexity and identify inefficiencies, if any."
   ]
  },
  {
   "cell_type": "markdown",
   "id": "efade488",
   "metadata": {},
   "source": [
    "<hr><br>\n",
    "\n",
    "### 6. Apply the right technique to overcome the inefficiency. Repeat steps 3 to 6."
   ]
  }
 ],
 "metadata": {
  "kernelspec": {
   "display_name": "Python 3 (ipykernel)",
   "language": "python",
   "name": "python3"
  },
  "language_info": {
   "codemirror_mode": {
    "name": "ipython",
    "version": 3
   },
   "file_extension": ".py",
   "mimetype": "text/x-python",
   "name": "python",
   "nbconvert_exporter": "python",
   "pygments_lexer": "ipython3",
   "version": "3.11.2"
  },
  "vscode": {
   "interpreter": {
    "hash": "aee8b7b246df8f9039afb4144a1f6fd8d2ca17a180786b69acc140d282b71a49"
   }
  }
 },
 "nbformat": 4,
 "nbformat_minor": 5
}
