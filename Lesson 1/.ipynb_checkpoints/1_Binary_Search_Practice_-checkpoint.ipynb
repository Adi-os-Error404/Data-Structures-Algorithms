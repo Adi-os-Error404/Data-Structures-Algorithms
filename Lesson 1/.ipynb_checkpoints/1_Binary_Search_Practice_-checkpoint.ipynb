{
 "cells": [
  {
   "cell_type": "markdown",
   "id": "119b2fdc",
   "metadata": {},
   "source": [
    "## Question 1:\n",
    "<br>\n",
    "\n",
    "Given an array of integers `nums` which is sorted in ascending order, and an integer `target`, write a function to search `target` in `nums`. If `target` exists, then return its index. Otherwise, return `-1`.\n",
    "\n",
    "You must write an algorithm with O(log n) runtime complexity."
   ]
  },
  {
   "cell_type": "markdown",
   "id": "f87969f1",
   "metadata": {},
   "source": [
    "## Solution\n",
    "<hr><br>\n",
    "\n",
    "### 1. State the problem clearly. Identify the input & output formats.\n",
    "<br>\n",
    "\n",
    "**Problem**\n",
    "\n",
    "> **There is a list of numbers in ascending order, and the task is the target number. If the target number does not exist, retrun -1.**\n",
    "\n",
    "<br/>\n",
    "\n",
    "\n",
    "**Input**\n",
    "\n",
    "1. **nums**\n",
    "2. **target**\n",
    "\n",
    "\n",
    "<br>\n",
    "\n",
    "**Output**\n",
    "\n",
    "1. **pos or -1**\n",
    "\n",
    "\n",
    "<br/>\n",
    "\n",
    "Based on the above, we can now create a signature of our function:"
   ]
  },
  {
   "cell_type": "code",
   "execution_count": 1,
   "id": "d25fec37",
   "metadata": {},
   "outputs": [],
   "source": [
    "from typing import List\n",
    "class Solution:\n",
    "    def search(self, nums: List[int], target: int) -> int:\n",
    "        pass"
   ]
  },
  {
   "cell_type": "markdown",
   "id": "43920883",
   "metadata": {},
   "source": [
    "<hr><br>\n",
    "\n",
    "### 2. Come up with some example inputs & outputs. Try to cover all edge cases.\n",
    "\n",
    "1. **A basic test case**\n",
    "2. **Target does not exist**\n",
    "3. **Target is the first number in the list**\n",
    "4. **Target is the last number in the list**\n",
    "5. **Target appears multiple times in the list**\n"
   ]
  },
  {
   "cell_type": "code",
   "execution_count": 2,
   "id": "153e5a9b",
   "metadata": {},
   "outputs": [],
   "source": [
    "tests = []\n",
    "#1\n",
    "tests.append({\n",
    "    'input': {\n",
    "        'nums': [1,2,3,4,5,6],\n",
    "        'target': 2\n",
    "    },\n",
    "    'output': 1\n",
    "})\n",
    "#2\n",
    "tests.append({\n",
    "    'input': {\n",
    "        'nums': [1,2,3,4,5,6],\n",
    "        'target': 7\n",
    "    },\n",
    "    'output': -1\n",
    "})\n",
    "#3\n",
    "tests.append({\n",
    "    'input': {\n",
    "        'nums': [1,2,3,4,5,6],\n",
    "        'target': 1\n",
    "    },\n",
    "    'output': 0\n",
    "})\n",
    "#4\n",
    "tests.append({\n",
    "    'input': {\n",
    "        'nums': [1,2,3,4,5,6],\n",
    "        'target': 6\n",
    "    },\n",
    "    'output': 5\n",
    "})\n",
    "#5\n",
    "tests.append({\n",
    "    'input': {\n",
    "        'nums': [1,2,3,4,5,6,7,9,9,9,11],\n",
    "        'target': 9\n",
    "    },\n",
    "    'output': 7\n",
    "})"
   ]
  },
  {
   "cell_type": "markdown",
   "id": "19d4f9be",
   "metadata": {},
   "source": [
    "<hr><br>\n",
    "\n",
    "### 3. Come up with a correct solution for the problem. State it in plain English.\n",
    "\n",
    "1. **Find the middle element in nums**\n",
    "2. **Check if the middle element is the target**\n",
    "3. **If the first middle el is the target, check if the element before is the same as target**\n",
    "4. **If the element before the mid el is the same as target, find a new mid el to the left**\n",
    "5. **Else, return the mid index**\n",
    "6. **If mid el is not the same as target, check if the middle el is greater or smaller than target**\n",
    "7. **If greater, find a new middle element left to the old middle el; vice versa for smaller**\n",
    "8. **Still cant find the target if the mid el is unable to change, retrun -1**\n"
   ]
  },
  {
   "cell_type": "markdown",
   "id": "6a157021",
   "metadata": {},
   "source": [
    "<hr><br>\n",
    "\n",
    "###  4. Implement the solution and test it using example inputs. Fix bugs, if any."
   ]
  },
  {
   "cell_type": "code",
   "execution_count": 3,
   "id": "5c4f1852",
   "metadata": {},
   "outputs": [],
   "source": [
    "from typing import List\n",
    "class Solution:\n",
    "    def __init__(self, nums, target):\n",
    "        self.nums = nums\n",
    "        self.target = target\n",
    "    \n",
    "    def binary_search(self, lo, hi, condition):\n",
    "        while lo <= hi:\n",
    "            mid = (lo + hi)//2\n",
    "            result = condition(mid)\n",
    "            if result == 'found':\n",
    "                return mid\n",
    "            elif result == 'left':\n",
    "                hi = mid-1\n",
    "            elif result == 'right':\n",
    "                lo = mid+1\n",
    "        return -1\n",
    "\n",
    "    def search(self, nums, target) -> int:\n",
    "        def condition(mid):\n",
    "            if nums[mid] == target:\n",
    "                if mid > 0 and nums[mid-1] == target:\n",
    "                    return 'left'\n",
    "                else:\n",
    "                    return 'found'\n",
    "            elif nums[mid] > target:\n",
    "                return 'left'\n",
    "            elif nums[mid] < target:\n",
    "                return 'right'\n",
    "        return self.binary_search(0, len(nums)-1, condition)\n",
    "    "
   ]
  },
  {
   "cell_type": "code",
   "execution_count": 11,
   "id": "38e15266",
   "metadata": {},
   "outputs": [
    {
     "name": "stdout",
     "output_type": "stream",
     "text": [
      "Test 1 Passed\n",
      "Test 2 Passed\n",
      "Test 3 Passed\n",
      "Test 4 Passed\n",
      "Test 5 Passed\n"
     ]
    }
   ],
   "source": [
    "for i in range(len(tests)):\n",
    "    nums, target = tests[i]['input']['nums'], tests[i]['input']['target']\n",
    "    output = tests[i]['output']\n",
    "    sol = Solution(nums, target)\n",
    "    \n",
    "    if sol.search(nums, target) == output:\n",
    "        print(\"Test\", i+1, \"Passed\")\n",
    "       "
   ]
  }
 ],
 "metadata": {
  "kernelspec": {
   "display_name": "Python 3",
   "language": "python",
   "name": "python3"
  },
  "language_info": {
   "codemirror_mode": {
    "name": "ipython",
    "version": 3
   },
   "file_extension": ".py",
   "mimetype": "text/x-python",
   "name": "python",
   "nbconvert_exporter": "python",
   "pygments_lexer": "ipython3",
   "version": "3.11.2 (v3.11.2:878ead1ac1, Feb  7 2023, 10:02:41) [Clang 13.0.0 (clang-1300.0.29.30)]"
  },
  "vscode": {
   "interpreter": {
    "hash": "aee8b7b246df8f9039afb4144a1f6fd8d2ca17a180786b69acc140d282b71a49"
   }
  }
 },
 "nbformat": 4,
 "nbformat_minor": 5
}
