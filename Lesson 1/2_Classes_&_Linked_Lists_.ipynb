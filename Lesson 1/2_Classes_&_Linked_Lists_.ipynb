{
 "cells": [
  {
   "cell_type": "markdown",
   "id": "banned-tissue",
   "metadata": {},
   "source": [
    "# Introduction to Python Classes and Linked Lists\n"
   ]
  },
  {
   "cell_type": "markdown",
   "id": "eligible-kuwait",
   "metadata": {},
   "source": [
    "## Problem\n",
    "\n",
    "In this notebook, we'll focus our discussion on the following problem:\n",
    "\n",
    "> **QUESTION**: Write a function to reverse a linked list\n",
    "\n",
    "Before we answer this question, we need to answer:\n",
    "\n",
    "- What do we mean by linked list? \n",
    "- How do we create a linked list in Python?\n",
    "- How do we store numbers in a linked list?\n",
    "- How do we retrieve numbers in a linked list\n"
   ]
  },
  {
   "cell_type": "markdown",
   "id": "prime-lucas",
   "metadata": {},
   "source": [
    "## Linked List\n",
    "\n",
    "A linked list is a _data structure_ used for storing a sequence of elements. It's data with some structure (the sequence).\n",
    "\n",
    "![](https://cdn.programiz.com/sites/tutorial2program/files/linked-list-concept_0.png)\n",
    "\n",
    "We'll implement linked lists which support the following operations:\n",
    "\n",
    "- Create a list with given elements\n",
    "- Display the elements in a list\n",
    "- Find the number of elements in a list\n",
    "- Retrieve the element at a given position\n",
    "- Add or remove element(s)\n",
    "- (can you think of any more?)"
   ]
  },
  {
   "cell_type": "markdown",
   "id": "heard-hungary",
   "metadata": {},
   "source": [
    "### A Quick Primer on Classes in Python"
   ]
  },
  {
   "cell_type": "code",
   "execution_count": 325,
   "id": "administrative-spencer",
   "metadata": {},
   "outputs": [],
   "source": [
    "class Node():\n",
    "    pass"
   ]
  },
  {
   "cell_type": "markdown",
   "id": "pressing-cursor",
   "metadata": {},
   "source": [
    "We can create an object with nothing in it."
   ]
  },
  {
   "cell_type": "code",
   "execution_count": 326,
   "id": "ignored-hearing",
   "metadata": {},
   "outputs": [
    {
     "name": "stdout",
     "output_type": "stream",
     "text": [
      "<__main__.Node object at 0x10bba12d0>\n"
     ]
    }
   ],
   "source": [
    "print(Node())"
   ]
  },
  {
   "cell_type": "markdown",
   "id": "future-structure",
   "metadata": {},
   "source": [
    "We just created an object of the class `Node`. However, we have to have a way to access the object. We can do so by creating a variable."
   ]
  },
  {
   "cell_type": "code",
   "execution_count": 327,
   "id": "driven-separate",
   "metadata": {},
   "outputs": [],
   "source": [
    "node1 = Node()"
   ]
  },
  {
   "cell_type": "markdown",
   "id": "helpful-roberts",
   "metadata": {},
   "source": [
    "The *variable* `node1` holds a reference the object, and can be used to retrieve the object."
   ]
  },
  {
   "cell_type": "code",
   "execution_count": 328,
   "id": "humanitarian-wireless",
   "metadata": {},
   "outputs": [
    {
     "data": {
      "text/plain": [
       "<__main__.Node at 0x10bb71550>"
      ]
     },
     "execution_count": 328,
     "metadata": {},
     "output_type": "execute_result"
    }
   ],
   "source": [
    "node1"
   ]
  },
  {
   "cell_type": "markdown",
   "id": "ready-tours",
   "metadata": {},
   "source": [
    "When we call the `Node()` again, it creates a new object."
   ]
  },
  {
   "cell_type": "code",
   "execution_count": 329,
   "id": "mature-reflection",
   "metadata": {},
   "outputs": [],
   "source": [
    "node2 = Node()"
   ]
  },
  {
   "cell_type": "code",
   "execution_count": 330,
   "id": "naval-ocean",
   "metadata": {
    "scrolled": true
   },
   "outputs": [
    {
     "data": {
      "text/plain": [
       "<__main__.Node at 0x10bba2810>"
      ]
     },
     "execution_count": 330,
     "metadata": {},
     "output_type": "execute_result"
    }
   ],
   "source": [
    "node2"
   ]
  },
  {
   "cell_type": "markdown",
   "id": "tamil-genealogy",
   "metadata": {},
   "source": [
    "You can tell that the objects are different because they are at different addresses in the RAM (more on that later)."
   ]
  },
  {
   "cell_type": "markdown",
   "id": "acknowledged-senate",
   "metadata": {},
   "source": [
    "We can have multiple variables pointing to the same object."
   ]
  },
  {
   "cell_type": "code",
   "execution_count": 331,
   "id": "fabulous-settle",
   "metadata": {},
   "outputs": [],
   "source": [
    "node3 = node1"
   ]
  },
  {
   "cell_type": "code",
   "execution_count": 332,
   "id": "seven-religion",
   "metadata": {},
   "outputs": [
    {
     "data": {
      "text/plain": [
       "<__main__.Node at 0x10bb71550>"
      ]
     },
     "execution_count": 332,
     "metadata": {},
     "output_type": "execute_result"
    }
   ],
   "source": [
    "node3"
   ]
  },
  {
   "cell_type": "markdown",
   "id": "possible-petroleum",
   "metadata": {},
   "source": [
    "Lets add a constructor in our Node class"
   ]
  },
  {
   "cell_type": "markdown",
   "id": "tired-disclaimer",
   "metadata": {},
   "source": [
    "Two things to note:\n",
    "* The double underscores\n",
    "* The self (a replacement for `this`)\n",
    "* `self.data` creates a property called. We can name a property anything we wish (`val`, `number`, `the_thing_inside` etc. )\n",
    "\n",
    "So internally what's happening is that Python first creates an empty object, stores the reference to the empty object in an temporary variable called `self`, calls the `__init__` function with `self` as the argument, which then sets the property `data` on the created object with the value 0."
   ]
  },
  {
   "cell_type": "code",
   "execution_count": 333,
   "id": "narrow-missile",
   "metadata": {},
   "outputs": [],
   "source": [
    "class Node():\n",
    "    def __init__(self, a_number):\n",
    "        self.data = a_number\n",
    "        self.next = None"
   ]
  },
  {
   "cell_type": "code",
   "execution_count": 334,
   "id": "falling-setup",
   "metadata": {},
   "outputs": [],
   "source": [
    "node1 = Node(2)\n",
    "node2 = Node(3)\n",
    "node3 = Node(5)"
   ]
  },
  {
   "cell_type": "code",
   "execution_count": 335,
   "id": "typical-anniversary",
   "metadata": {},
   "outputs": [
    {
     "name": "stdout",
     "output_type": "stream",
     "text": [
      "node1.data: 2   node1.next: None <__main__.Node object at 0x10bb59e50>\n",
      "node2.data: 3   node2.next: None <__main__.Node object at 0x10bb5b6d0>\n",
      "node3.data: 5   node3.next: None <__main__.Node object at 0x10bb58350>\n"
     ]
    }
   ],
   "source": [
    "print('node1.data:', node1.data, '  node1.next:', node1.next, node1)\n",
    "print('node2.data:', node2.data, '  node2.next:', node2.next, node2)\n",
    "print('node3.data:', node3.data, '  node3.next:', node3.next, node3)\n"
   ]
  },
  {
   "cell_type": "markdown",
   "id": "double-adjustment",
   "metadata": {},
   "source": [
    "Now we are ready to define a class for our Linked list."
   ]
  },
  {
   "cell_type": "code",
   "execution_count": 336,
   "id": "aware-track",
   "metadata": {},
   "outputs": [],
   "source": [
    "class LinkedList():\n",
    "    def __init__(self):\n",
    "        self.head = None\n"
   ]
  },
  {
   "cell_type": "code",
   "execution_count": 337,
   "id": "entire-value",
   "metadata": {},
   "outputs": [],
   "source": [
    "list1 = LinkedList() # list1 = the daddy list"
   ]
  },
  {
   "cell_type": "code",
   "execution_count": 338,
   "id": "competent-batch",
   "metadata": {},
   "outputs": [],
   "source": [
    "list1.head = Node(1) # list1 head = node1; node1 data = 1"
   ]
  },
  {
   "cell_type": "code",
   "execution_count": 339,
   "id": "integrated-damages",
   "metadata": {},
   "outputs": [],
   "source": [
    "list1.head.next = Node(2) # node1 next = node2; node2 data = 2"
   ]
  },
  {
   "cell_type": "code",
   "execution_count": 340,
   "id": "accepting-correlation",
   "metadata": {},
   "outputs": [],
   "source": [
    "list1.head.next.next = Node(3) # node2 next = node3; node3 data = 3"
   ]
  },
  {
   "cell_type": "code",
   "execution_count": 341,
   "id": "given-quarter",
   "metadata": {},
   "outputs": [
    {
     "name": "stdout",
     "output_type": "stream",
     "text": [
      "List1 head = node1: data- 1\n",
      "Node1 next = node2: data- 2\n",
      "Node2 next = node3: data- 3\n"
     ]
    }
   ],
   "source": [
    "print('List1 head = node1:', 'data-',list1.head.data)\n",
    "# node1 = list1.head\n",
    "\n",
    "print('Node1 next = node2:', 'data-',list1.head.next.data) \n",
    "# node2 = list1.head.next OR node1.next\n",
    "\n",
    "print('Node2 next = node3:', 'data-',list1.head.next.next.data) \n",
    "# node3 = list1.head.next.next OR node1.next.next OR node2.next"
   ]
  },
  {
   "cell_type": "markdown",
   "id": "extensive-freedom",
   "metadata": {},
   "source": [
    "![](https://cdn.programiz.com/sites/tutorial2program/files/linked-list-concept_0.png)"
   ]
  },
  {
   "cell_type": "markdown",
   "id": "sunrise-focus",
   "metadata": {},
   "source": [
    "While it's OK to set value like this, we can add a couple of arguments."
   ]
  },
  {
   "cell_type": "code",
   "execution_count": 342,
   "id": "defensive-monitoring",
   "metadata": {},
   "outputs": [],
   "source": [
    "class LinkedList():\n",
    "    def __init__(self):\n",
    "        self.head = None\n",
    "        \n",
    "    def append(self, value):\n",
    "        if self.head is None:\n",
    "            self.head = Node(value)\n",
    "        else:\n",
    "            current_node = self.head\n",
    "            while current_node.next is not None:\n",
    "                current_node = current_node.next\n",
    "            current_node.next = Node(value)"
   ]
  },
  {
   "cell_type": "code",
   "execution_count": 343,
   "id": "streaming-bunny",
   "metadata": {},
   "outputs": [],
   "source": [
    "list2 = LinkedList()\n",
    "list2.append(1)\n",
    "list2.append(2)\n",
    "list2.append(3)"
   ]
  },
  {
   "cell_type": "code",
   "execution_count": 344,
   "id": "novel-treasury",
   "metadata": {},
   "outputs": [
    {
     "data": {
      "text/plain": [
       "(1, 2, 3)"
      ]
     },
     "execution_count": 344,
     "metadata": {},
     "output_type": "execute_result"
    }
   ],
   "source": [
    "list2.head.data, list2.head.next.data, list2.head.next.next.data"
   ]
  },
  {
   "cell_type": "markdown",
   "id": "constitutional-edinburgh",
   "metadata": {},
   "source": [
    "Next, let's add a method to print the value in a list."
   ]
  },
  {
   "cell_type": "code",
   "execution_count": 345,
   "id": "involved-helena",
   "metadata": {},
   "outputs": [],
   "source": [
    "class LinkedList():\n",
    "    def __init__(self):\n",
    "        self.head = None\n",
    "        \n",
    "    def append(self, value):\n",
    "        if self.head is None:\n",
    "            self.head = Node(value)\n",
    "        else:\n",
    "            current_node = self.head\n",
    "            while current_node.next is not None:\n",
    "                current_node = current_node.next\n",
    "            current_node.next = Node(value)\n",
    "            \n",
    "    def show_elements(self):\n",
    "        current = self.head\n",
    "        while current is not None:\n",
    "            print(current.data)\n",
    "            current = current.next"
   ]
  },
  {
   "cell_type": "code",
   "execution_count": 346,
   "id": "usual-vacation",
   "metadata": {},
   "outputs": [],
   "source": [
    "list2 = LinkedList()\n",
    "list2.append(2)\n",
    "list2.append(3)\n",
    "list2.append(5)"
   ]
  },
  {
   "cell_type": "code",
   "execution_count": 347,
   "id": "rolled-sierra",
   "metadata": {},
   "outputs": [
    {
     "name": "stdout",
     "output_type": "stream",
     "text": [
      "2\n",
      "3\n",
      "5\n"
     ]
    }
   ],
   "source": [
    "list2.show_elements()"
   ]
  },
  {
   "cell_type": "markdown",
   "id": "finnish-marriage",
   "metadata": {},
   "source": [
    "Let's add a couple of more functions: `length` and `get_element` to get an element at a specific position."
   ]
  },
  {
   "cell_type": "code",
   "execution_count": 348,
   "id": "enclosed-warrior",
   "metadata": {},
   "outputs": [],
   "source": [
    "class LinkedList():\n",
    "    def __init__(self):\n",
    "        self.head = None\n",
    "        \n",
    "    def append(self, value):\n",
    "        if self.head is None:\n",
    "            self.head = Node(value)\n",
    "        else:\n",
    "            current_node = self.head\n",
    "            while current_node.next is not None:\n",
    "                current_node = current_node.next\n",
    "            current_node.next = Node(value)\n",
    "            \n",
    "    def show_elements(self):\n",
    "        current = self.head\n",
    "        while current is not None:\n",
    "            print(current.data)\n",
    "            current = current.next\n",
    "            \n",
    "    def length(self):\n",
    "        result = 0\n",
    "        current = self.head\n",
    "        while current is not None:\n",
    "            result += 1\n",
    "            current = current.next\n",
    "        return result\n",
    "            \n",
    "    def get_element(self, position):\n",
    "        i = 0\n",
    "        current = self.head\n",
    "        while current is not None:\n",
    "            if i == position:\n",
    "                return current.data\n",
    "            current = current.next\n",
    "            i += 1\n",
    "        return None"
   ]
  },
  {
   "cell_type": "code",
   "execution_count": 349,
   "id": "previous-incentive",
   "metadata": {},
   "outputs": [],
   "source": [
    "list2 = LinkedList()\n",
    "list2.append(100)\n",
    "list2.append(101)\n",
    "list2.append(102)\n",
    "list2.append(103)"
   ]
  },
  {
   "cell_type": "code",
   "execution_count": 350,
   "id": "bizarre-syndication",
   "metadata": {},
   "outputs": [
    {
     "data": {
      "text/plain": [
       "4"
      ]
     },
     "execution_count": 350,
     "metadata": {},
     "output_type": "execute_result"
    }
   ],
   "source": [
    "list2.length()"
   ]
  },
  {
   "cell_type": "code",
   "execution_count": 351,
   "id": "active-bracket",
   "metadata": {},
   "outputs": [
    {
     "data": {
      "text/plain": [
       "100"
      ]
     },
     "execution_count": 351,
     "metadata": {},
     "output_type": "execute_result"
    }
   ],
   "source": [
    "list2.get_element(0)"
   ]
  },
  {
   "cell_type": "code",
   "execution_count": 352,
   "id": "closing-album",
   "metadata": {},
   "outputs": [
    {
     "data": {
      "text/plain": [
       "101"
      ]
     },
     "execution_count": 352,
     "metadata": {},
     "output_type": "execute_result"
    }
   ],
   "source": [
    "list2.get_element(1)"
   ]
  },
  {
   "cell_type": "code",
   "execution_count": 353,
   "id": "broken-banner",
   "metadata": {},
   "outputs": [
    {
     "data": {
      "text/plain": [
       "102"
      ]
     },
     "execution_count": 353,
     "metadata": {},
     "output_type": "execute_result"
    }
   ],
   "source": [
    "list2.get_element(2)"
   ]
  },
  {
   "cell_type": "code",
   "execution_count": 354,
   "id": "entitled-houston",
   "metadata": {},
   "outputs": [
    {
     "data": {
      "text/plain": [
       "103"
      ]
     },
     "execution_count": 354,
     "metadata": {},
     "output_type": "execute_result"
    }
   ],
   "source": [
    "list2.get_element(3)"
   ]
  },
  {
   "cell_type": "markdown",
   "id": "surface-antenna",
   "metadata": {},
   "source": [
    "Given a list of size `N`, the the number of statements executed for each of the steps:\n",
    "\n",
    "- `append`: N steps\n",
    "- `length`: N steps\n",
    "- `get_element`: N steps\n",
    "- `show_element`: N steps\n"
   ]
  },
  {
   "cell_type": "markdown",
   "id": "homeless-prisoner",
   "metadata": {},
   "source": [
    "## Reversing a Linked List - Solution\n",
    "\n",
    "Here's a simple program to reverse a linked list."
   ]
  },
  {
   "cell_type": "code",
   "execution_count": 355,
   "id": "dedicated-millennium",
   "metadata": {},
   "outputs": [],
   "source": [
    "def reverse(head):\n",
    "    current_node = head\n",
    "    prev_node = None\n",
    "    \n",
    "    while current_node is not None:\n",
    "        # Track the next node\n",
    "        next_node = current_node.next\n",
    "        \n",
    "        # Modify the current node\n",
    "        current_node.next = prev_node\n",
    "        \n",
    "        # Update prev and current\n",
    "        prev_node = current_node\n",
    "        current_node = next_node\n",
    "    return prev_node"
   ]
  },
  {
   "cell_type": "code",
   "execution_count": 356,
   "id": "7af7c688",
   "metadata": {},
   "outputs": [],
   "source": [
    "def reverseListRecursive(head):\n",
    "    def reverse(cur, prev):\n",
    "        if cur is not None:\n",
    "            nxt = cur.next\n",
    "            cur.next = prev\n",
    "            return reverse(nxt, cur)\n",
    "        else:\n",
    "            return prev\n",
    "    return reverse(head, None)"
   ]
  },
  {
   "cell_type": "code",
   "execution_count": 357,
   "id": "typical-amino",
   "metadata": {},
   "outputs": [],
   "source": [
    "list2 = LinkedList()\n",
    "list2.append(2)\n",
    "list2.append(3)\n",
    "list2.append(5)\n",
    "list2.append(9)"
   ]
  },
  {
   "cell_type": "code",
   "execution_count": 358,
   "id": "stunning-creek",
   "metadata": {},
   "outputs": [
    {
     "name": "stdout",
     "output_type": "stream",
     "text": [
      "9\n",
      "5\n",
      "3\n",
      "2\n"
     ]
    }
   ],
   "source": [
    "list2.head = reverse(list2.head)\n",
    "list2.show_elements()"
   ]
  },
  {
   "cell_type": "code",
   "execution_count": 359,
   "id": "several-tyler",
   "metadata": {
    "scrolled": true
   },
   "outputs": [
    {
     "name": "stdout",
     "output_type": "stream",
     "text": [
      "2\n",
      "3\n",
      "5\n",
      "9\n"
     ]
    }
   ],
   "source": [
    "list2.head = reverseListRecursive(list2.head)\n",
    "list2.show_elements()"
   ]
  },
  {
   "cell_type": "code",
   "execution_count": null,
   "id": "cf1ac801",
   "metadata": {},
   "outputs": [],
   "source": []
  }
 ],
 "metadata": {
  "kernelspec": {
   "display_name": "Python 3",
   "language": "python",
   "name": "python3"
  },
  "language_info": {
   "codemirror_mode": {
    "name": "ipython",
    "version": 3
   },
   "file_extension": ".py",
   "mimetype": "text/x-python",
   "name": "python",
   "nbconvert_exporter": "python",
   "pygments_lexer": "ipython3",
   "version": "3.11.2"
  },
  "vscode": {
   "interpreter": {
    "hash": "aee8b7b246df8f9039afb4144a1f6fd8d2ca17a180786b69acc140d282b71a49"
   }
  }
 },
 "nbformat": 4,
 "nbformat_minor": 5
}
