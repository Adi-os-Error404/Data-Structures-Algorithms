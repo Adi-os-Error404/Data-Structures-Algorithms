{
  "cells": [
    {
      "cell_type": "markdown",
      "id": "comfortable-review",
      "metadata": {
        "id": "comfortable-review"
      },
      "source": [
        "# Subarray with Given Sum\n",
        "\n",
        "The following question was asked during a coding interview for Amazon:\n",
        "\n",
        "> You are given an array of numbers (non-negative). Find a continuous subarray of the list which adds up to a given sum. \n",
        "\n",
        "\n",
        "![](https://i.imgur.com/tLEBF7x.png)"
      ]
    },
    {
      "cell_type": "code",
      "execution_count": null,
      "id": "patient-adelaide",
      "metadata": {
        "id": "patient-adelaide"
      },
      "outputs": [],
      "source": [
        "# Solve the problem here\n",
        "\n"
      ]
    },
    {
      "cell_type": "code",
      "execution_count": null,
      "id": "sought-norman",
      "metadata": {
        "id": "sought-norman"
      },
      "outputs": [],
      "source": [
        "# Test the solution here\n",
        "\n"
      ]
    },
    {
      "cell_type": "code",
      "execution_count": null,
      "id": "married-january",
      "metadata": {
        "id": "married-january"
      },
      "outputs": [],
      "source": []
    },
    {
      "cell_type": "code",
      "execution_count": null,
      "id": "unavailable-dairy",
      "metadata": {
        "id": "unavailable-dairy"
      },
      "outputs": [],
      "source": []
    },
    {
      "cell_type": "code",
      "execution_count": null,
      "id": "favorite-motorcycle",
      "metadata": {
        "id": "favorite-motorcycle"
      },
      "outputs": [],
      "source": [
        "import jovian"
      ]
    },
    {
      "cell_type": "code",
      "execution_count": null,
      "id": "amino-relay",
      "metadata": {
        "id": "amino-relay",
        "outputId": "9d719343-beeb-45e7-ca75-61b4afb4259a"
      },
      "outputs": [
        {
          "data": {
            "application/javascript": [
              "window.require && require([\"base/js/namespace\"],function(Jupyter){Jupyter.notebook.save_checkpoint()})"
            ],
            "text/plain": [
              "<IPython.core.display.Javascript object>"
            ]
          },
          "metadata": {},
          "output_type": "display_data"
        },
        {
          "name": "stdout",
          "output_type": "stream",
          "text": [
            "[jovian] Attempting to save notebook..\u001b[0m\n"
          ]
        }
      ],
      "source": [
        "jovian.commit()"
      ]
    },
    {
      "cell_type": "code",
      "execution_count": null,
      "id": "patient-mounting",
      "metadata": {
        "id": "patient-mounting"
      },
      "outputs": [],
      "source": []
    },
    {
      "cell_type": "code",
      "execution_count": null,
      "id": "behavioral-thumb",
      "metadata": {
        "id": "behavioral-thumb"
      },
      "outputs": [],
      "source": []
    },
    {
      "cell_type": "code",
      "execution_count": null,
      "id": "norman-revolution",
      "metadata": {
        "id": "norman-revolution"
      },
      "outputs": [],
      "source": []
    },
    {
      "cell_type": "markdown",
      "id": "indoor-marshall",
      "metadata": {
        "id": "indoor-marshall"
      },
      "source": [
        "## Solution\n",
        "\n",
        "Test case:"
      ]
    },
    {
      "cell_type": "code",
      "execution_count": null,
      "id": "becoming-brooks",
      "metadata": {
        "id": "becoming-brooks"
      },
      "outputs": [],
      "source": [
        "arr1 = [1, 7, 4, 2, 1, 3, 11, 5]\n",
        "target1 = 10"
      ]
    },
    {
      "cell_type": "markdown",
      "id": "later-organization",
      "metadata": {
        "id": "later-organization"
      },
      "source": [
        "Brute force $O(n^3)$:"
      ]
    },
    {
      "cell_type": "code",
      "execution_count": null,
      "id": "overall-cornwall",
      "metadata": {
        "id": "overall-cornwall"
      },
      "outputs": [],
      "source": [
        "def subarray_sum1(arr, target):\n",
        "    n = len(arr)\n",
        "    for i in range(n):\n",
        "        for j in range(i, n+1):\n",
        "            if sum(arr[i:j]) == target:\n",
        "                return i, j\n",
        "    return None, None"
      ]
    },
    {
      "cell_type": "code",
      "execution_count": null,
      "id": "conceptual-lincoln",
      "metadata": {
        "id": "conceptual-lincoln",
        "outputId": "c33cb482-f5a1-4d67-ed97-e8863cd6858d"
      },
      "outputs": [
        {
          "data": {
            "text/plain": [
              "(2, 6, [4, 2, 1, 3])"
            ]
          },
          "execution_count": 17,
          "metadata": {},
          "output_type": "execute_result"
        }
      ],
      "source": [
        "i, j = subarray_sum1(arr1, target1)\n",
        "i, j, arr1[i:j]"
      ]
    },
    {
      "cell_type": "markdown",
      "id": "hundred-herald",
      "metadata": {
        "id": "hundred-herald"
      },
      "source": [
        "Better brute force $O(n^2)$:"
      ]
    },
    {
      "cell_type": "code",
      "execution_count": null,
      "id": "pursuant-connection",
      "metadata": {
        "id": "pursuant-connection"
      },
      "outputs": [],
      "source": [
        "def subarray_sum2(arr, target):\n",
        "    n = len(arr)\n",
        "    for i in range(n):\n",
        "        s = 0\n",
        "        for j in range(i, n+1):\n",
        "            if s == target:\n",
        "                return i,j\n",
        "            s += arr[j]\n",
        "    return None, None"
      ]
    },
    {
      "cell_type": "code",
      "execution_count": null,
      "id": "oriental-exhibition",
      "metadata": {
        "id": "oriental-exhibition",
        "outputId": "2fd83e61-237a-42a9-9dab-c4f0f8f5c7ef"
      },
      "outputs": [
        {
          "data": {
            "text/plain": [
              "(2, 6, [4, 2, 1, 3])"
            ]
          },
          "execution_count": 19,
          "metadata": {},
          "output_type": "execute_result"
        }
      ],
      "source": [
        "i, j = subarray_sum2(arr1, target1)\n",
        "i, j, arr1[i:j]"
      ]
    },
    {
      "cell_type": "markdown",
      "id": "prime-photograph",
      "metadata": {
        "id": "prime-photograph"
      },
      "source": [
        "Greedy algorithm $O(n)$:"
      ]
    },
    {
      "cell_type": "code",
      "execution_count": null,
      "id": "round-least",
      "metadata": {
        "id": "round-least"
      },
      "outputs": [],
      "source": [
        "def subarray_sum3(arr, target):\n",
        "    n = len(arr)\n",
        "    i, j, s = 0, 0, 0\n",
        "    while i < n and j <= n:\n",
        "        if s == target:\n",
        "            return i, j\n",
        "        elif s < target:\n",
        "            s += arr[j]\n",
        "            j += 1\n",
        "        elif s > target:\n",
        "            s -= arr[i]\n",
        "            i += 1\n",
        "    return None, None\n",
        "        "
      ]
    },
    {
      "cell_type": "code",
      "execution_count": null,
      "id": "wrong-walnut",
      "metadata": {
        "id": "wrong-walnut",
        "outputId": "debbbd29-49e2-4763-8363-13f9643f58c4"
      },
      "outputs": [
        {
          "data": {
            "text/plain": [
              "(2, 6, [4, 2, 1, 3])"
            ]
          },
          "execution_count": 25,
          "metadata": {},
          "output_type": "execute_result"
        }
      ],
      "source": [
        "i, j = subarray_sum3(arr1, target1)\n",
        "i, j, arr1[i:j]"
      ]
    },
    {
      "cell_type": "code",
      "execution_count": null,
      "id": "administrative-blind",
      "metadata": {
        "id": "administrative-blind"
      },
      "outputs": [],
      "source": []
    }
  ],
  "metadata": {
    "kernelspec": {
      "display_name": "Python 3",
      "language": "python",
      "name": "python3"
    },
    "language_info": {
      "codemirror_mode": {
        "name": "ipython",
        "version": 3
      },
      "file_extension": ".py",
      "mimetype": "text/x-python",
      "name": "python",
      "nbconvert_exporter": "python",
      "pygments_lexer": "ipython3",
      "version": "3.6.12"
    },
    "colab": {
      "provenance": []
    }
  },
  "nbformat": 4,
  "nbformat_minor": 5
}