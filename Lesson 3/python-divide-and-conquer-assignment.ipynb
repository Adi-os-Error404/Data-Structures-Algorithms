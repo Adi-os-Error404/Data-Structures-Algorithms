{
 "cells": [
  {
   "attachments": {},
   "cell_type": "markdown",
   "id": "difficult-valuation",
   "metadata": {},
   "source": [
    "# Assignment 3 - Divide-n-Conquer Algorithms in Python\n",
    "\n"
   ]
  },
  {
   "cell_type": "markdown",
   "id": "final-database",
   "metadata": {},
   "source": [
    "## Problem Statement - Polynomial Multiplication\n",
    "\n",
    "> Given two polynomials represented by two lists, write a function that efficiently multiplies given two polynomials. For example, the lists `[2, 0, 5, 7]` and `[3, 4, 2]` represent the polynomials $2 + 5x^2 + 7x^3$ and $3 + 4x + 2x^2$. \n",
    "> \n",
    "> Their product is \n",
    ">\n",
    "> $(2 \\times 3) + (2 \\times 4 + 0 \\times 3)x + (2 \\times 2 + 3 \\times 5 + 4 \\times 0)x^2 + (7 \\times 3 + 5 \\times 4 + 0 \\times 2)x^3 + (7 \\times 4 + 5 \\times 2)x^4 + (7 \\times 2)x^5$ i.e. \n",
    ">\n",
    ">$6 + 8x + 19x^2 + 41x^3 + 38x^4 + 14x^5$\n",
    "> \n",
    ">It can be represented by the list `[6, 8, 19, 41, 38, 14]`.\n"
   ]
  },
  {
   "attachments": {},
   "cell_type": "markdown",
   "id": "compressed-intellectual",
   "metadata": {},
   "source": [
    "## Solution\n",
    "\n",
    "\n",
    "### 1. State the problem clearly. Identify the input & output formats.\n",
    "\n",
    "While this problem is stated clearly enough, it's always useful to try and express in your own words, in a way that makes it most clear for you. \n",
    "\n",
    "\n",
    "**Problem**\n",
    "\n",
    "> **Given 2 lists of ints that represents 2 polynomial equations accordingly with each num's indices. Return a list of ints that represent the multiplication of the 2 polynomial equation.s** (express the problem clearly in our own words, and in abstract terms)\n",
    "\n",
    "<br/>\n",
    "\n",
    "\n",
    "**Input**\n",
    "\n",
    "1. **A**\n",
    "2. **B**\n",
    "\n",
    "\n",
    "\n",
    "**Output**\n",
    "\n",
    "1. **poly_ans**\n",
    "\n",
    "\n",
    "<br/>\n",
    "\n",
    "Based on the above, we can now create a signature of our function:"
   ]
  },
  {
   "cell_type": "code",
   "execution_count": 1,
   "id": "frank-professor",
   "metadata": {},
   "outputs": [],
   "source": [
    "def multiply(A, B):\n",
    "    pass"
   ]
  },
  {
   "cell_type": "markdown",
   "id": "latin-choir",
   "metadata": {},
   "source": [
    "### 2. Come up with some example inputs & outputs. Try to cover all edge cases.\n",
    "\n",
    "Our function should be able to handle any set of valid inputs we pass into it. List a few scenarios here:\n",
    "\n",
    "1. **???**\n",
    "2. **???**\n",
    "3. **???**\n",
    "4. **???**\n",
    "5. **???**\n",
    "\n",
    "(add more if required)\n",
    "\n",
    "\n",
    "Create a test case of each of the above scenarios. We'll express our test cases as dictionaries, to test them easily. Each dictionary will contain 2 keys: `input` (a dictionary itself containing one key for each argument to the function and `output` (the expected result from the function). "
   ]
  },
  {
   "cell_type": "code",
   "execution_count": 2,
   "id": "fancy-exhaust",
   "metadata": {},
   "outputs": [],
   "source": [
    "test1 = {\n",
    "    'input': {\n",
    "        'A': [2, 0, 5, 7],\n",
    "        'B': [3, 4, 2]\n",
    "    },\n",
    "    'output': [6, 8, 19, 41, 38, 14]\n",
    "}"
   ]
  },
  {
   "cell_type": "code",
   "execution_count": 3,
   "id": "functional-personal",
   "metadata": {},
   "outputs": [],
   "source": [
    "test2 = {\n",
    "    'input': {\n",
    "        'A': [6, -3, 2],\n",
    "        'B': [-1, 2, 1]\n",
    "    },\n",
    "    'output': [-6, 15, -2, 1, 2]\n",
    "}"
   ]
  },
  {
   "cell_type": "code",
   "execution_count": 4,
   "id": "useful-alaska",
   "metadata": {},
   "outputs": [],
   "source": [
    "test3 = {\n",
    "    'input': {\n",
    "        'A': [-6, 0, -1],\n",
    "        'B': [-1, 0, 2]\n",
    "    },\n",
    "    'output': [6, 0, -11, 0,-2]\n",
    "}"
   ]
  },
  {
   "cell_type": "code",
   "execution_count": 5,
   "id": "split-opportunity",
   "metadata": {},
   "outputs": [],
   "source": [
    "test4 = {\n",
    "    'input': {\n",
    "        'A': [-3, 5],\n",
    "        'B': [-3, 5]\n",
    "    },\n",
    "    'output': [9, -30, 25]\n",
    "}"
   ]
  },
  {
   "cell_type": "code",
   "execution_count": 6,
   "id": "promotional-donor",
   "metadata": {},
   "outputs": [],
   "source": [
    "test5 = {\n",
    "    'input': {\n",
    "        'A': [-5, 4],\n",
    "        'B': [5, 4]\n",
    "    },\n",
    "    'output': [-25, 0, 16]\n",
    "}"
   ]
  },
  {
   "cell_type": "markdown",
   "id": "extreme-membrane",
   "metadata": {},
   "source": [
    "Let's store all the test cases in a list, for easier automated testing."
   ]
  },
  {
   "cell_type": "code",
   "execution_count": 7,
   "id": "emerging-request",
   "metadata": {},
   "outputs": [
    {
     "data": {
      "text/plain": [
       "[{'input': {'A': [2, 0, 5, 7], 'B': [3, 4, 2]},\n",
       "  'output': [6, 8, 19, 41, 38, 14]},\n",
       " {'input': {'A': [6, -3, 2], 'B': [-1, 2, 1]}, 'output': [-6, 15, -2, 1, 2]},\n",
       " {'input': {'A': [-6, 0, -1], 'B': [-1, 0, 2]}, 'output': [6, 0, -11, 0, -2]},\n",
       " {'input': {'A': [-3, 5], 'B': [-3, 5]}, 'output': [9, -30, 25]},\n",
       " {'input': {'A': [-5, 4], 'B': [5, 4]}, 'output': [-25, 0, 16]}]"
      ]
     },
     "execution_count": 7,
     "metadata": {},
     "output_type": "execute_result"
    }
   ],
   "source": [
    "tests = [test1, test2, test3, test4, test5]\n",
    "tests"
   ]
  },
  {
   "attachments": {},
   "cell_type": "markdown",
   "id": "satellite-exclusion",
   "metadata": {},
   "source": [
    "### 3. Come up with a correct solution for the problem. State it in plain English.\n",
    "\n",
    "Explain this solution in your own words below:\n",
    "\n",
    "1. **???**\n",
    "2. **???**\n",
    "3. **???**\n",
    "4. **???**\n",
    "5. **???**\n",
    "\n",
    "(add more steps if required)\n",
    "\n",
    "\n",
    "Let's save and upload our work before continuing.\n",
    "\n"
   ]
  },
  {
   "cell_type": "markdown",
   "id": "lucky-boxing",
   "metadata": {},
   "source": [
    "###  4. Implement the solution and test it using example inputs. Fix bugs, if any.\n",
    "\n",
    "Implement the solution"
   ]
  },
  {
   "cell_type": "code",
   "execution_count": 8,
   "id": "grateful-chile",
   "metadata": {},
   "outputs": [],
   "source": [
    "def multiply_basic(A, B):\n",
    "    l_ans = [0]*(len(A)+len(B)-1)\n",
    "    for i in range(len(A)):\n",
    "        for j in range(len(B)):\n",
    "            l_ans[i+j] += A[i]*B[j]\n",
    "    return l_ans"
   ]
  },
  {
   "cell_type": "markdown",
   "id": "casual-bicycle",
   "metadata": {},
   "source": [
    "Test your solution using the test cases you've defined above."
   ]
  },
  {
   "cell_type": "code",
   "execution_count": 9,
   "id": "sunset-motor",
   "metadata": {},
   "outputs": [
    {
     "data": {
      "application/javascript": "if (window.IPython && IPython.notebook.kernel) IPython.notebook.kernel.execute('jovian.utils.jupyter.get_notebook_name_saved = lambda: \"' + IPython.notebook.notebook_name + '\"')",
      "text/plain": [
       "<IPython.core.display.Javascript object>"
      ]
     },
     "metadata": {},
     "output_type": "display_data"
    }
   ],
   "source": [
    "from jovian.pythondsa import evaluate_test_cases"
   ]
  },
  {
   "cell_type": "code",
   "execution_count": 10,
   "id": "earned-sending",
   "metadata": {},
   "outputs": [
    {
     "name": "stdout",
     "output_type": "stream",
     "text": [
      "\n",
      "\u001b[1mTEST CASE #0\u001b[0m\n",
      "\n",
      "Input:\n",
      "{'A': [2, 0, 5, 7], 'B': [3, 4, 2]}\n",
      "\n",
      "Expected Output:\n",
      "[6, 8, 19, 41, 38, 14]\n",
      "\n",
      "\n",
      "Actual Output:\n",
      "[6, 8, 19, 41, 38, 14]\n",
      "\n",
      "Execution Time:\n",
      "0.008 ms\n",
      "\n",
      "Test Result:\n",
      "\u001b[92mPASSED\u001b[0m\n",
      "\n",
      "\n",
      "\u001b[1mTEST CASE #1\u001b[0m\n",
      "\n",
      "Input:\n",
      "{'A': [6, -3, 2], 'B': [-1, 2, 1]}\n",
      "\n",
      "Expected Output:\n",
      "[-6, 15, -2, 1, 2]\n",
      "\n",
      "\n",
      "Actual Output:\n",
      "[-6, 15, -2, 1, 2]\n",
      "\n",
      "Execution Time:\n",
      "0.004 ms\n",
      "\n",
      "Test Result:\n",
      "\u001b[92mPASSED\u001b[0m\n",
      "\n",
      "\n",
      "\u001b[1mTEST CASE #2\u001b[0m\n",
      "\n",
      "Input:\n",
      "{'A': [-6, 0, -1], 'B': [-1, 0, 2]}\n",
      "\n",
      "Expected Output:\n",
      "[6, 0, -11, 0, -2]\n",
      "\n",
      "\n",
      "Actual Output:\n",
      "[6, 0, -11, 0, -2]\n",
      "\n",
      "Execution Time:\n",
      "0.003 ms\n",
      "\n",
      "Test Result:\n",
      "\u001b[92mPASSED\u001b[0m\n",
      "\n",
      "\n",
      "\u001b[1mTEST CASE #3\u001b[0m\n",
      "\n",
      "Input:\n",
      "{'A': [-3, 5], 'B': [-3, 5]}\n",
      "\n",
      "Expected Output:\n",
      "[9, -30, 25]\n",
      "\n",
      "\n",
      "Actual Output:\n",
      "[9, -30, 25]\n",
      "\n",
      "Execution Time:\n",
      "0.002 ms\n",
      "\n",
      "Test Result:\n",
      "\u001b[92mPASSED\u001b[0m\n",
      "\n",
      "\n",
      "\u001b[1mTEST CASE #4\u001b[0m\n",
      "\n",
      "Input:\n",
      "{'A': [-5, 4], 'B': [5, 4]}\n",
      "\n",
      "Expected Output:\n",
      "[-25, 0, 16]\n",
      "\n",
      "\n",
      "Actual Output:\n",
      "[-25, 0, 16]\n",
      "\n",
      "Execution Time:\n",
      "0.002 ms\n",
      "\n",
      "Test Result:\n",
      "\u001b[92mPASSED\u001b[0m\n",
      "\n",
      "\n",
      "\u001b[1mSUMMARY\u001b[0m\n",
      "\n",
      "TOTAL: 5, \u001b[92mPASSED\u001b[0m: 5, \u001b[91mFAILED\u001b[0m: 0\n"
     ]
    }
   ],
   "source": [
    "results = evaluate_test_cases(multiply_basic, tests)"
   ]
  },
  {
   "cell_type": "markdown",
   "id": "associate-platform",
   "metadata": {},
   "source": [
    "### 5. Analyze the algorithm's complexity and identify inefficiencies, if any.\n",
    "\n",
    "Can you analyze the time and space complexity of this algorithm?"
   ]
  },
  {
   "cell_type": "code",
   "execution_count": 11,
   "id": "aerial-motorcycle",
   "metadata": {},
   "outputs": [],
   "source": [
    "multiply_basic_time_complexity = 'O(n^2)'"
   ]
  },
  {
   "cell_type": "code",
   "execution_count": 12,
   "id": "sustained-chicago",
   "metadata": {},
   "outputs": [],
   "source": [
    "multiply_basic_space_complexity = 'O(n)'"
   ]
  },
  {
   "cell_type": "markdown",
   "id": "honey-desire",
   "metadata": {},
   "source": [
    "### 6. Apply the right technique to overcome the inefficiency. Repeat steps 3 to 6.\n",
    "\n",
    "We can apply the divide and conquer technique to solve this problem more efficiently. Given two polynomials `A` and `B`, we can express each of them as a sum of two polynomials as follows:\n",
    "\n",
    "<img src=\"https://i.imgur.com/FjKQF5h.png\" width=\"480\">\n",
    "\n",
    "We need to compute the terms `A0 * B0`, `A1 * B0 + A0 * B1` and `A1 * B1`. This can obviously be done using 4 multiplications, but here's a way of doing it with just three multiplications:\n",
    "\n",
    "<img src=\"https://i.imgur.com/G3vD1GX.png\" width=\"480\">\n",
    "\n",
    "\n",
    "Each of the products can themselves be computed recursively. For a more detailed explanation of this approach see http://www.cse.ust.hk/~dekai/271/notes/L03/L03.pdf .\n",
    "\n",
    "\n",
    "Need help? Discuss and ask questions on the forum: https://jovian.ai/forum/c/data-structures-and-algorithms-in-python/assignment-3/89\n"
   ]
  },
  {
   "cell_type": "markdown",
   "id": "parliamentary-spray",
   "metadata": {},
   "source": [
    "### 7. Come up with a correct solution for the problem. State it in plain English.\n",
    "\n",
    "Explain the approach described above in your own words below:\n",
    "\n",
    "1. **???**\n",
    "2. **???**\n",
    "3. **???**\n",
    "4. **???**\n",
    "5. **???**\n",
    "\n",
    "(add more steps if required)\n",
    "\n",
    "\n",
    "Let's save and upload our work before continuing."
   ]
  },
  {
   "cell_type": "markdown",
   "id": "corresponding-gasoline",
   "metadata": {},
   "source": [
    "### 8. Implement the solution and test it using example inputs. Fix bugs, if any.\n",
    "\n",
    "We are now ready to implement the solution. You may find the following functions `add`, `split` and `increase_exponent` useful.\n"
   ]
  },
  {
   "cell_type": "code",
   "execution_count": 13,
   "id": "planned-budapest",
   "metadata": {},
   "outputs": [],
   "source": [
    "def add(A, B):\n",
    "    \"\"\"Add two polynomials\"\"\"\n",
    "    result = [0] * max(len(A), len(B))\n",
    "    for i in range(len(result)):\n",
    "        if i < len(A):\n",
    "            result[i] += A[i]\n",
    "        if i < len(B):\n",
    "            result[i] += B[i]\n",
    "    return result"
   ]
  },
  {
   "cell_type": "code",
   "execution_count": 14,
   "id": "amazing-sympathy",
   "metadata": {},
   "outputs": [
    {
     "data": {
      "text/plain": [
       "[1, 6, 6, 4]"
      ]
     },
     "execution_count": 14,
     "metadata": {},
     "output_type": "execute_result"
    }
   ],
   "source": [
    "add([1, 2, 3, 4], [0, 4, 3])"
   ]
  },
  {
   "cell_type": "code",
   "execution_count": 15,
   "id": "objective-stone",
   "metadata": {},
   "outputs": [],
   "source": [
    "def split(A, B):\n",
    "    \"\"\"Split each polynomial into two smaller polynomials\"\"\"\n",
    "    mid = max(len(A), len(B)) // 2\n",
    "    return  (A[:mid], A[mid:]), (B[:mid], B[mid:])"
   ]
  },
  {
   "cell_type": "code",
   "execution_count": 16,
   "id": "saving-folder",
   "metadata": {},
   "outputs": [
    {
     "data": {
      "text/plain": [
       "(([1, 2, 3], [4]), ([0, 4, 3], [6, 7, 8, 2]))"
      ]
     },
     "execution_count": 16,
     "metadata": {},
     "output_type": "execute_result"
    }
   ],
   "source": [
    "split([1, 2, 3, 4], [0, 4, 3, 6, 7, 8, 2])"
   ]
  },
  {
   "cell_type": "code",
   "execution_count": 17,
   "id": "ethical-bradford",
   "metadata": {},
   "outputs": [],
   "source": [
    "def increase_exponent(poly, n):\n",
    "    \"\"\"Multiply A by x^n\"\"\"\n",
    "    return [0] * n + poly"
   ]
  },
  {
   "cell_type": "code",
   "execution_count": 18,
   "id": "saving-arrangement",
   "metadata": {},
   "outputs": [
    {
     "data": {
      "text/plain": [
       "[0, 0, 0, 1, 2, 3, 4]"
      ]
     },
     "execution_count": 18,
     "metadata": {},
     "output_type": "execute_result"
    }
   ],
   "source": [
    "increase_exponent([1, 2, 3, 4], 3)"
   ]
  },
  {
   "cell_type": "markdown",
   "id": "under-effectiveness",
   "metadata": {},
   "source": [
    "Implement the optimized multiplication algorithm below. You may use the some or all of the helper functions defined above."
   ]
  },
  {
   "cell_type": "code",
   "execution_count": 19,
   "id": "starting-characterization",
   "metadata": {},
   "outputs": [],
   "source": [
    "def split(A, B):\n",
    "    \"\"\"Split each polynomial into two smaller polynomials\"\"\"\n",
    "    mid = max(len(A), len(B)) // 2\n",
    "    return  (A[:mid], A[mid:]), (B[:mid], B[mid:])\n",
    "\n",
    "def add(A, B):\n",
    "    \"\"\"Add two polynomials\"\"\"\n",
    "    result = [0] * max(len(A), len(B))\n",
    "    for i in range(len(result)):\n",
    "        if i < len(A):\n",
    "            result[i] += A[i]\n",
    "        if i < len(B):\n",
    "            result[i] += B[i]\n",
    "    return result\n",
    "\n",
    "def increase_exponent(poly, n):\n",
    "    \"\"\"Multiply A by x^n\"\"\"\n",
    "    return [0] * n + poly\n",
    "\n",
    "def multiply_basic(A, B):\n",
    "    l_ans = [0]*(len(A)+len(B)-1)\n",
    "    for i in range(len(A)):\n",
    "        for j in range(len(B)):\n",
    "            l_ans[i+j] += A[i]*B[j]\n",
    "    return l_ans\n",
    "\n",
    "\n",
    "def multiply_optimized(A, B):\n",
    "    if len(A) <= 1 and len(B) <= 1:\n",
    "        return multiply_basic(A, B)\n",
    "\n",
    "\n",
    "    AB = split(A, B)\n",
    "    a0, a1, b0, b1 = AB[0][0], AB[0][1], AB[1][0], AB[1][1]\n",
    "\n",
    "\n",
    "    a0_X_b0 = multiply_optimized(a0, b0) # 1X\n",
    "\n",
    "    a0_a1, b0_b1 = add(a0, a1), add(b0, b1)\n",
    "    a0_a1_X_b0_b1 = multiply_optimized(a0_a1, b0_b1) # 2X\n",
    "\n",
    "    a1_X_b1 = multiply_optimized(a1, b1) # 3X\n",
    "\n",
    "\n",
    "    first_part = a0_X_b0\n",
    "\n",
    "    s0 = a0_a1_X_b0_b1\n",
    "    s1 = [-x for x in add(a0_X_b0, a1_X_b1)]\n",
    "    second_part = increase_exponent(add(s0, s1), max(len(A)//2, len(B)//2))\n",
    "\n",
    "    size = max(len(A), len(B))\n",
    "    if size%2 != 0: size -= 1\n",
    "    third_part = increase_exponent(a1_X_b1, size)\n",
    "\n",
    "    A_X_B = add(add(first_part, second_part), third_part)\n",
    "\n",
    "    return A_X_B"
   ]
  },
  {
   "cell_type": "code",
   "execution_count": 20,
   "id": "delayed-terrace",
   "metadata": {},
   "outputs": [
    {
     "data": {
      "text/plain": [
       "[4, 11, 20, 30, 40, 26, 14, 5]"
      ]
     },
     "execution_count": 20,
     "metadata": {},
     "output_type": "execute_result"
    }
   ],
   "source": [
    "multiply_optimized([1,2,3,4,5], [4,3,2,1])"
   ]
  },
  {
   "cell_type": "markdown",
   "id": "novel-scout",
   "metadata": {},
   "source": [
    "Test your solution using the empty cells below."
   ]
  },
  {
   "cell_type": "code",
   "execution_count": 21,
   "id": "operating-ecology",
   "metadata": {},
   "outputs": [
    {
     "name": "stdout",
     "output_type": "stream",
     "text": [
      "\n",
      "\u001b[1mTEST CASE #0\u001b[0m\n",
      "\n",
      "Input:\n",
      "{'A': [2, 0, 5, 7], 'B': [3, 4, 2]}\n",
      "\n",
      "Expected Output:\n",
      "[6, 8, 19, 41, 38, 14]\n",
      "\n",
      "\n",
      "Actual Output:\n",
      "[6, 8, 19, 41, 38, 14]\n",
      "\n",
      "Execution Time:\n",
      "0.048 ms\n",
      "\n",
      "Test Result:\n",
      "\u001b[92mPASSED\u001b[0m\n",
      "\n",
      "\n",
      "\u001b[1mTEST CASE #1\u001b[0m\n",
      "\n",
      "Input:\n",
      "{'A': [6, -3, 2], 'B': [-1, 2, 1]}\n",
      "\n",
      "Expected Output:\n",
      "[-6, 15, -2, 1, 2]\n",
      "\n",
      "\n",
      "Actual Output:\n",
      "[-6, 15, -2, 1, 2]\n",
      "\n",
      "Execution Time:\n",
      "0.03 ms\n",
      "\n",
      "Test Result:\n",
      "\u001b[92mPASSED\u001b[0m\n",
      "\n",
      "\n",
      "\u001b[1mTEST CASE #2\u001b[0m\n",
      "\n",
      "Input:\n",
      "{'A': [-6, 0, -1], 'B': [-1, 0, 2]}\n",
      "\n",
      "Expected Output:\n",
      "[6, 0, -11, 0, -2]\n",
      "\n",
      "\n",
      "Actual Output:\n",
      "[6, 0, -11, 0, -2]\n",
      "\n",
      "Execution Time:\n",
      "0.029 ms\n",
      "\n",
      "Test Result:\n",
      "\u001b[92mPASSED\u001b[0m\n",
      "\n",
      "\n",
      "\u001b[1mTEST CASE #3\u001b[0m\n",
      "\n",
      "Input:\n",
      "{'A': [-3, 5], 'B': [-3, 5]}\n",
      "\n",
      "Expected Output:\n",
      "[9, -30, 25]\n",
      "\n",
      "\n",
      "Actual Output:\n",
      "[9, -30, 25]\n",
      "\n",
      "Execution Time:\n",
      "0.01 ms\n",
      "\n",
      "Test Result:\n",
      "\u001b[92mPASSED\u001b[0m\n",
      "\n",
      "\n",
      "\u001b[1mTEST CASE #4\u001b[0m\n",
      "\n",
      "Input:\n",
      "{'A': [-5, 4], 'B': [5, 4]}\n",
      "\n",
      "Expected Output:\n",
      "[-25, 0, 16]\n",
      "\n",
      "\n",
      "Actual Output:\n",
      "[-25, 0, 16]\n",
      "\n",
      "Execution Time:\n",
      "0.01 ms\n",
      "\n",
      "Test Result:\n",
      "\u001b[92mPASSED\u001b[0m\n",
      "\n",
      "\n",
      "\u001b[1mSUMMARY\u001b[0m\n",
      "\n",
      "TOTAL: 5, \u001b[92mPASSED\u001b[0m: 5, \u001b[91mFAILED\u001b[0m: 0\n"
     ]
    }
   ],
   "source": [
    "results = evaluate_test_cases(multiply_optimized, tests)"
   ]
  },
  {
   "attachments": {},
   "cell_type": "markdown",
   "id": "early-norfolk",
   "metadata": {},
   "source": [
    "### 9. Analyze the algorithm's complexity and identify inefficiencies, if any.\n",
    "\n",
    "### Time Complexity: `O(n log(n))`\n",
    "\n",
    "\n",
    "<img src=\"https://i.imgur.com/JAmZrE5.png\" style=\"background-color:silver;\">"
   ]
  },
  {
   "cell_type": "markdown",
   "id": "cedfe8b2",
   "metadata": {},
   "source": []
  }
 ],
 "metadata": {
  "kernelspec": {
   "display_name": "Python 3",
   "language": "python",
   "name": "python3"
  },
  "language_info": {
   "codemirror_mode": {
    "name": "ipython",
    "version": 3
   },
   "file_extension": ".py",
   "mimetype": "text/x-python",
   "name": "python",
   "nbconvert_exporter": "python",
   "pygments_lexer": "ipython3",
   "version": "3.11.2"
  },
  "vscode": {
   "interpreter": {
    "hash": "aee8b7b246df8f9039afb4144a1f6fd8d2ca17a180786b69acc140d282b71a49"
   }
  }
 },
 "nbformat": 4,
 "nbformat_minor": 5
}
