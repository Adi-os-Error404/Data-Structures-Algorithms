{
 "cells": [
  {
   "attachments": {},
   "cell_type": "markdown",
   "id": "difficult-valuation",
   "metadata": {},
   "source": [
    "# Assignment 3 - Divide-n-Conquer Algorithms in Python\n",
    "\n"
   ]
  },
  {
   "cell_type": "markdown",
   "id": "final-database",
   "metadata": {},
   "source": [
    "## Problem Statement - Polynomial Multiplication\n",
    "\n",
    "> Given two polynomials represented by two lists, write a function that efficiently multiplies given two polynomials. For example, the lists `[2, 0, 5, 7]` and `[3, 4, 2]` represent the polynomials $2 + 5x^2 + 7x^3$ and $3 + 4x + 2x^2$. \n",
    "> \n",
    "> Their product is \n",
    ">\n",
    "> $(2 \\times 3) + (2 \\times 4 + 0 \\times 3)x + (2 \\times 2 + 3 \\times 5 + 4 \\times 0)x^2 + (7 \\times 3 + 5 \\times 4 + 0 \\times 2)x^3 + (7 \\times 4 + 5 \\times 2)x^4 + (7 \\times 2)x^5$ i.e. \n",
    ">\n",
    ">$6 + 8x + 19x^2 + 41x^3 + 38x^4 + 14x^5$\n",
    "> \n",
    ">It can be represented by the list `[6, 8, 19, 41, 38, 14]`.\n"
   ]
  },
  {
   "attachments": {},
   "cell_type": "markdown",
   "id": "compressed-intellectual",
   "metadata": {},
   "source": [
    "## Solution\n",
    "\n",
    "\n",
    "### 1. State the problem clearly. Identify the input & output formats.\n",
    "\n",
    "While this problem is stated clearly enough, it's always useful to try and express in your own words, in a way that makes it most clear for you. \n",
    "\n",
    "\n",
    "**Problem**\n",
    "\n",
    "> **Given 2 lists of ints that represents 2 polynomial equations accordingly with each num's indices. Return a list of ints that represent the multiplication of the 2 polynomial equation.s** (express the problem clearly in our own words, and in abstract terms)\n",
    "\n",
    "<br/>\n",
    "\n",
    "\n",
    "**Input**\n",
    "\n",
    "1. **poly1**\n",
    "2. **poly2**\n",
    "\n",
    "\n",
    "\n",
    "**Output**\n",
    "\n",
    "1. **poly_ans**\n",
    "\n",
    "\n",
    "<br/>\n",
    "\n",
    "Based on the above, we can now create a signature of our function:"
   ]
  },
  {
   "cell_type": "code",
   "execution_count": 32,
   "id": "frank-professor",
   "metadata": {},
   "outputs": [],
   "source": [
    "def multiply(poly1, poly2):\n",
    "    pass"
   ]
  },
  {
   "cell_type": "markdown",
   "id": "latin-choir",
   "metadata": {},
   "source": [
    "### 2. Come up with some example inputs & outputs. Try to cover all edge cases.\n",
    "\n",
    "Our function should be able to handle any set of valid inputs we pass into it. List a few scenarios here:\n",
    "\n",
    "1. **???**\n",
    "2. **???**\n",
    "3. **???**\n",
    "4. **???**\n",
    "5. **???**\n",
    "\n",
    "(add more if required)\n",
    "\n",
    "\n",
    "Create a test case of each of the above scenarios. We'll express our test cases as dictionaries, to test them easily. Each dictionary will contain 2 keys: `input` (a dictionary itself containing one key for each argument to the function and `output` (the expected result from the function). "
   ]
  },
  {
   "cell_type": "code",
   "execution_count": 33,
   "id": "fancy-exhaust",
   "metadata": {},
   "outputs": [],
   "source": [
    "test0 = {\n",
    "    'input': {\n",
    "        'poly1': [2, 0, 5, 7],\n",
    "        'poly2': [3, 4, 2]\n",
    "    },\n",
    "    'output': [6, 8, 19, 41, 38, 14]\n",
    "}"
   ]
  },
  {
   "cell_type": "code",
   "execution_count": 34,
   "id": "featured-poster",
   "metadata": {},
   "outputs": [],
   "source": [
    "test1 = {\n",
    "    'input': {\n",
    "        'poly1': [],\n",
    "        'poly2': []\n",
    "    },\n",
    "    'output': []\n",
    "}"
   ]
  },
  {
   "cell_type": "code",
   "execution_count": 35,
   "id": "functional-personal",
   "metadata": {},
   "outputs": [],
   "source": [
    "test2 = {\n",
    "    'input': {\n",
    "        'poly1': [6, -3, 2],\n",
    "        'poly2': [-1, 2, 1]\n",
    "    },\n",
    "    'output': [-6, 15, -2, 1, 2]\n",
    "}"
   ]
  },
  {
   "cell_type": "code",
   "execution_count": 36,
   "id": "useful-alaska",
   "metadata": {},
   "outputs": [],
   "source": [
    "test3 = {\n",
    "    'input': {\n",
    "        'poly1': [-6, 0, -1],\n",
    "        'poly2': [-1, 0, 2]\n",
    "    },\n",
    "    'output': [6, 0, -11, 0,-2]\n",
    "}"
   ]
  },
  {
   "cell_type": "code",
   "execution_count": 37,
   "id": "split-opportunity",
   "metadata": {},
   "outputs": [],
   "source": [
    "test4 = {\n",
    "    'input': {\n",
    "        'poly1': [-3, 5],\n",
    "        'poly2': [-3, 5]\n",
    "    },\n",
    "    'output': [9, -30, 25]\n",
    "}"
   ]
  },
  {
   "cell_type": "code",
   "execution_count": 38,
   "id": "promotional-donor",
   "metadata": {},
   "outputs": [],
   "source": [
    "test5 = {\n",
    "    'input': {\n",
    "        'poly1': [-5, 4],\n",
    "        'poly2': [5, 4]\n",
    "    },\n",
    "    'output': [-25, 0, 16]\n",
    "}"
   ]
  },
  {
   "cell_type": "markdown",
   "id": "extreme-membrane",
   "metadata": {},
   "source": [
    "Let's store all the test cases in a list, for easier automated testing."
   ]
  },
  {
   "cell_type": "code",
   "execution_count": 39,
   "id": "emerging-request",
   "metadata": {},
   "outputs": [
    {
     "data": {
      "text/plain": [
       "[{'input': {'poly1': [2, 0, 5, 7], 'poly2': [3, 4, 2]},\n",
       "  'output': [6, 8, 19, 41, 38, 14]},\n",
       " {'input': {'poly1': [], 'poly2': []}, 'output': []},\n",
       " {'input': {'poly1': [6, -3, 2], 'poly2': [-1, 2, 1]},\n",
       "  'output': [-6, 15, -2, 1, 2]},\n",
       " {'input': {'poly1': [-6, 0, -1], 'poly2': [-1, 0, 2]},\n",
       "  'output': [6, 0, -11, 0, -2]},\n",
       " {'input': {'poly1': [-3, 5], 'poly2': [-3, 5]}, 'output': [9, -30, 25]},\n",
       " {'input': {'poly1': [-5, 4], 'poly2': [5, 4]}, 'output': [-25, 0, 16]}]"
      ]
     },
     "execution_count": 39,
     "metadata": {},
     "output_type": "execute_result"
    }
   ],
   "source": [
    "tests = [test0, test1, test2, test3, test4, test5]\n",
    "tests"
   ]
  },
  {
   "attachments": {},
   "cell_type": "markdown",
   "id": "satellite-exclusion",
   "metadata": {},
   "source": [
    "### 3. Come up with a correct solution for the problem. State it in plain English.\n",
    "\n",
    "Explain this solution in your own words below:\n",
    "\n",
    "1. **???**\n",
    "2. **???**\n",
    "3. **???**\n",
    "4. **???**\n",
    "5. **???**\n",
    "\n",
    "(add more steps if required)\n",
    "\n",
    "\n",
    "Let's save and upload our work before continuing.\n",
    "\n"
   ]
  },
  {
   "cell_type": "markdown",
   "id": "lucky-boxing",
   "metadata": {},
   "source": [
    "###  4. Implement the solution and test it using example inputs. Fix bugs, if any.\n",
    "\n",
    "Implement the solution"
   ]
  },
  {
   "cell_type": "code",
   "execution_count": 40,
   "id": "grateful-chile",
   "metadata": {},
   "outputs": [],
   "source": [
    "def multiply_basic(poly1, poly2):\n",
    "    l_ans = [0]*(len(poly1)+len(poly2)-1)\n",
    "    for i in range(len(poly1)):\n",
    "        for j in range(len(poly2)):\n",
    "            l_ans[i+j] += poly1[i]*poly2[j]\n",
    "    return l_ans"
   ]
  },
  {
   "cell_type": "markdown",
   "id": "casual-bicycle",
   "metadata": {},
   "source": [
    "Test your solution using the test cases you've defined above."
   ]
  },
  {
   "cell_type": "code",
   "execution_count": 41,
   "id": "sunset-motor",
   "metadata": {},
   "outputs": [],
   "source": [
    "from jovian.pythondsa import evaluate_test_cases"
   ]
  },
  {
   "cell_type": "code",
   "execution_count": 42,
   "id": "earned-sending",
   "metadata": {},
   "outputs": [
    {
     "name": "stdout",
     "output_type": "stream",
     "text": [
      "\n",
      "\u001b[1mTEST CASE #0\u001b[0m\n",
      "\n",
      "Input:\n",
      "{'poly1': [2, 0, 5, 7], 'poly2': [3, 4, 2]}\n",
      "\n",
      "Expected Output:\n",
      "[6, 8, 19, 41, 38, 14]\n",
      "\n",
      "\n",
      "Actual Output:\n",
      "[6, 8, 19, 41, 38, 14]\n",
      "\n",
      "Execution Time:\n",
      "0.009 ms\n",
      "\n",
      "Test Result:\n",
      "\u001b[92mPASSED\u001b[0m\n",
      "\n",
      "\n",
      "\u001b[1mTEST CASE #1\u001b[0m\n",
      "\n",
      "Input:\n",
      "{'poly1': [], 'poly2': []}\n",
      "\n",
      "Expected Output:\n",
      "[]\n",
      "\n",
      "\n",
      "Actual Output:\n",
      "[]\n",
      "\n",
      "Execution Time:\n",
      "0.002 ms\n",
      "\n",
      "Test Result:\n",
      "\u001b[92mPASSED\u001b[0m\n",
      "\n",
      "\n",
      "\u001b[1mTEST CASE #2\u001b[0m\n",
      "\n",
      "Input:\n",
      "{'poly1': [6, -3, 2], 'poly2': [-1, 2, 1]}\n",
      "\n",
      "Expected Output:\n",
      "[-6, 15, -2, 1, 2]\n",
      "\n",
      "\n",
      "Actual Output:\n",
      "[-6, 15, -2, 1, 2]\n",
      "\n",
      "Execution Time:\n",
      "0.003 ms\n",
      "\n",
      "Test Result:\n",
      "\u001b[92mPASSED\u001b[0m\n",
      "\n",
      "\n",
      "\u001b[1mTEST CASE #3\u001b[0m\n",
      "\n",
      "Input:\n",
      "{'poly1': [-6, 0, -1], 'poly2': [-1, 0, 2]}\n",
      "\n",
      "Expected Output:\n",
      "[6, 0, -11, 0, -2]\n",
      "\n",
      "\n",
      "Actual Output:\n",
      "[6, 0, -11, 0, -2]\n",
      "\n",
      "Execution Time:\n",
      "0.003 ms\n",
      "\n",
      "Test Result:\n",
      "\u001b[92mPASSED\u001b[0m\n",
      "\n",
      "\n",
      "\u001b[1mTEST CASE #4\u001b[0m\n",
      "\n",
      "Input:\n",
      "{'poly1': [-3, 5], 'poly2': [-3, 5]}\n",
      "\n",
      "Expected Output:\n",
      "[9, -30, 25]\n",
      "\n",
      "\n",
      "Actual Output:\n",
      "[9, -30, 25]\n",
      "\n",
      "Execution Time:\n",
      "0.002 ms\n",
      "\n",
      "Test Result:\n",
      "\u001b[92mPASSED\u001b[0m\n",
      "\n",
      "\n",
      "\u001b[1mTEST CASE #5\u001b[0m\n",
      "\n",
      "Input:\n",
      "{'poly1': [-5, 4], 'poly2': [5, 4]}\n",
      "\n",
      "Expected Output:\n",
      "[-25, 0, 16]\n",
      "\n",
      "\n",
      "Actual Output:\n",
      "[-25, 0, 16]\n",
      "\n",
      "Execution Time:\n",
      "0.002 ms\n",
      "\n",
      "Test Result:\n",
      "\u001b[92mPASSED\u001b[0m\n",
      "\n",
      "\n",
      "\u001b[1mSUMMARY\u001b[0m\n",
      "\n",
      "TOTAL: 6, \u001b[92mPASSED\u001b[0m: 6, \u001b[91mFAILED\u001b[0m: 0\n"
     ]
    }
   ],
   "source": [
    "results = evaluate_test_cases(multiply_basic, tests)"
   ]
  },
  {
   "cell_type": "markdown",
   "id": "associate-platform",
   "metadata": {},
   "source": [
    "### 5. Analyze the algorithm's complexity and identify inefficiencies, if any.\n",
    "\n",
    "Can you analyze the time and space complexity of this algorithm?"
   ]
  },
  {
   "cell_type": "code",
   "execution_count": 56,
   "id": "aerial-motorcycle",
   "metadata": {},
   "outputs": [],
   "source": [
    "multiply_basic_time_complexity = 'O(n^2)'"
   ]
  },
  {
   "cell_type": "code",
   "execution_count": 58,
   "id": "sustained-chicago",
   "metadata": {},
   "outputs": [],
   "source": [
    "multiply_basic_space_complexity = 'O(n)'"
   ]
  },
  {
   "cell_type": "markdown",
   "id": "honey-desire",
   "metadata": {},
   "source": [
    "### 6. Apply the right technique to overcome the inefficiency. Repeat steps 3 to 6.\n",
    "\n",
    "We can apply the divide and conquer technique to solve this problem more efficiently. Given two polynomials `A` and `B`, we can express each of them as a sum of two polynomials as follows:\n",
    "\n",
    "<img src=\"https://i.imgur.com/FjKQF5h.png\" width=\"480\">\n",
    "\n",
    "We need to compute the terms `A0 * B0`, `A1 * B0 + A0 * B1` and `A1 * B1`. This can obviously be done using 4 multiplications, but here's a way of doing it with just three multiplications:\n",
    "\n",
    "<img src=\"https://i.imgur.com/G3vD1GX.png\" width=\"480\">\n",
    "\n",
    "\n",
    "Each of the products can themselves be computed recursively. For a more detailed explanation of this approach see http://www.cse.ust.hk/~dekai/271/notes/L03/L03.pdf .\n",
    "\n",
    "\n",
    "Need help? Discuss and ask questions on the forum: https://jovian.ai/forum/c/data-structures-and-algorithms-in-python/assignment-3/89\n"
   ]
  },
  {
   "cell_type": "markdown",
   "id": "parliamentary-spray",
   "metadata": {},
   "source": [
    "### 7. Come up with a correct solution for the problem. State it in plain English.\n",
    "\n",
    "Explain the approach described above in your own words below:\n",
    "\n",
    "1. **???**\n",
    "2. **???**\n",
    "3. **???**\n",
    "4. **???**\n",
    "5. **???**\n",
    "\n",
    "(add more steps if required)\n",
    "\n",
    "\n",
    "Let's save and upload our work before continuing."
   ]
  },
  {
   "cell_type": "markdown",
   "id": "corresponding-gasoline",
   "metadata": {},
   "source": [
    "### 8. Implement the solution and test it using example inputs. Fix bugs, if any.\n",
    "\n",
    "We are now ready to implement the solution. You may find the following functions `add`, `split` and `increase_exponent` useful.\n"
   ]
  },
  {
   "cell_type": "code",
   "execution_count": 59,
   "id": "planned-budapest",
   "metadata": {},
   "outputs": [],
   "source": [
    "def add(poly1, poly2):\n",
    "    \"\"\"Add two polynomials\"\"\"\n",
    "    result = [0] * max(len(poly1), len(poly2))\n",
    "    for i in range(len(result)):\n",
    "        if i < len(poly1):\n",
    "            result[i] += poly1[i]\n",
    "        if i < len(poly2):\n",
    "            result[i] += poly2[i]\n",
    "    return result"
   ]
  },
  {
   "cell_type": "code",
   "execution_count": null,
   "id": "69d537cb",
   "metadata": {},
   "outputs": [],
   "source": []
  },
  {
   "cell_type": "code",
   "execution_count": 60,
   "id": "amazing-sympathy",
   "metadata": {},
   "outputs": [
    {
     "data": {
      "text/plain": [
       "[1, 6, 6, 4]"
      ]
     },
     "execution_count": 60,
     "metadata": {},
     "output_type": "execute_result"
    }
   ],
   "source": [
    "add([1, 2, 3, 4], [0, 4, 3])"
   ]
  },
  {
   "cell_type": "code",
   "execution_count": 61,
   "id": "objective-stone",
   "metadata": {},
   "outputs": [],
   "source": [
    "def split(poly1, poly2):\n",
    "    \"\"\"Split each polynomial into two smaller polynomials\"\"\"\n",
    "    mid = max(len(poly1), len(poly2)) // 2\n",
    "    return  (poly1[:mid], poly1[mid:]), (poly2[:mid], poly2[mid:])"
   ]
  },
  {
   "cell_type": "code",
   "execution_count": 62,
   "id": "saving-folder",
   "metadata": {},
   "outputs": [
    {
     "data": {
      "text/plain": [
       "(([1, 2, 3], [4]), ([0, 4, 3], [6, 7, 8, 2]))"
      ]
     },
     "execution_count": 62,
     "metadata": {},
     "output_type": "execute_result"
    }
   ],
   "source": [
    "split([1, 2, 3, 4], [0, 4, 3, 6, 7, 8, 2])"
   ]
  },
  {
   "cell_type": "code",
   "execution_count": 63,
   "id": "ethical-bradford",
   "metadata": {},
   "outputs": [],
   "source": [
    "def increase_exponent(poly, n):\n",
    "    \"\"\"Multiply poly1 by x^n\"\"\"\n",
    "    return [0] * n + poly"
   ]
  },
  {
   "cell_type": "code",
   "execution_count": 64,
   "id": "saving-arrangement",
   "metadata": {},
   "outputs": [
    {
     "data": {
      "text/plain": [
       "[0, 0, 0, 1, 2, 3, 4]"
      ]
     },
     "execution_count": 64,
     "metadata": {},
     "output_type": "execute_result"
    }
   ],
   "source": [
    "increase_exponent([1, 2, 3, 4], 3)"
   ]
  },
  {
   "cell_type": "markdown",
   "id": "under-effectiveness",
   "metadata": {},
   "source": [
    "Implement the optimized multiplication algorithm below. You may use the some or all of the helper functions defined above."
   ]
  },
  {
   "cell_type": "code",
   "execution_count": 55,
   "id": "starting-characterization",
   "metadata": {},
   "outputs": [],
   "source": [
    "def multiply_optimized(poly1, poly2):\n",
    "    ???"
   ]
  },
  {
   "cell_type": "code",
   "execution_count": null,
   "id": "delayed-terrace",
   "metadata": {},
   "outputs": [],
   "source": []
  },
  {
   "cell_type": "markdown",
   "id": "novel-scout",
   "metadata": {},
   "source": [
    "Test your solution using the empty cells below."
   ]
  },
  {
   "cell_type": "code",
   "execution_count": null,
   "id": "operating-ecology",
   "metadata": {},
   "outputs": [],
   "source": []
  },
  {
   "cell_type": "code",
   "execution_count": null,
   "id": "adverse-tamil",
   "metadata": {},
   "outputs": [],
   "source": []
  },
  {
   "cell_type": "code",
   "execution_count": null,
   "id": "local-pharmacology",
   "metadata": {},
   "outputs": [],
   "source": []
  },
  {
   "cell_type": "code",
   "execution_count": null,
   "id": "treated-hayes",
   "metadata": {},
   "outputs": [],
   "source": []
  },
  {
   "cell_type": "code",
   "execution_count": null,
   "id": "maritime-yorkshire",
   "metadata": {},
   "outputs": [],
   "source": []
  },
  {
   "cell_type": "code",
   "execution_count": null,
   "id": "southwest-aluminum",
   "metadata": {},
   "outputs": [],
   "source": []
  },
  {
   "cell_type": "markdown",
   "id": "a63a00bd",
   "metadata": {},
   "source": []
  },
  {
   "attachments": {},
   "cell_type": "markdown",
   "id": "early-norfolk",
   "metadata": {},
   "source": [
    "### (Optional) 9. Analyze the algorithm's complexity and identify inefficiencies, if any.\n",
    "\n",
    "Can you analyze the time and space complexity of this algorithm? \n",
    "\n",
    "Hint: See the tree of subproblems below ([source](https://myithelpcentral.blogspot.com/2015/09/o-logn-notation-explanation-for-binary.html)). Substitute the right values for `n` and `b` to determine the time complexity.\n",
    "\n",
    "<img src=\"https://i.imgur.com/JAmZrE5.png\" style=\"background-color:silver;\">"
   ]
  }
 ],
 "metadata": {
  "kernelspec": {
   "display_name": "Python 3",
   "language": "python",
   "name": "python3"
  },
  "language_info": {
   "codemirror_mode": {
    "name": "ipython",
    "version": 3
   },
   "file_extension": ".py",
   "mimetype": "text/x-python",
   "name": "python",
   "nbconvert_exporter": "python",
   "pygments_lexer": "ipython3",
   "version": "3.11.2"
  },
  "vscode": {
   "interpreter": {
    "hash": "aee8b7b246df8f9039afb4144a1f6fd8d2ca17a180786b69acc140d282b71a49"
   }
  }
 },
 "nbformat": 4,
 "nbformat_minor": 5
}
