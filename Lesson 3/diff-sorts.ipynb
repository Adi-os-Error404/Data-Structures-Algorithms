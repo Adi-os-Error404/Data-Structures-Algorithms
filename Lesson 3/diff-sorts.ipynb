{
 "cells": [
  {
   "attachments": {},
   "cell_type": "markdown",
   "metadata": {},
   "source": [
    "# Sorting Algorithms"
   ]
  },
  {
   "cell_type": "code",
   "execution_count": 5,
   "metadata": {},
   "outputs": [],
   "source": [
    "# TEST CASE\n",
    "test = {\n",
    "    'input': {\n",
    "        'nums': [5, -12, 2, 6, 1, 23, 7, 7, -12, 6, 12, 1, -243, 1, 0]\n",
    "    },\n",
    "    'output': [-243, -12, -12, 0, 1, 1, 1, 2, 5, 6, 6, 7, 7, 12, 23]\n",
    "}\n",
    "from jovian.pythondsa import evaluate_test_case"
   ]
  },
  {
   "attachments": {},
   "cell_type": "markdown",
   "metadata": {},
   "source": [
    "## Bubble Sort\n",
    "\n",
    "#### Time Complexity (wort-case):      `O(n^2)`\n",
    "#### Time Complexity (average-case):   `O(n^2)`\n",
    "#### Time Complexity (best-case):      `O(n)`\n",
    "#### Space Complexity:                 `O(1)`\n",
    "<br>\n",
    "\n",
    "## Insertion Sort\n",
    "\n",
    "#### Time Complexity (wort-case):      `O(n^2)`\n",
    "#### Time Complexity (average-case):   `O(n^2)`\n",
    "#### Time Complexity (best-case):      `O(n^2)`\n",
    "#### Space Complexity:                 `O(1)`\n",
    "<br>\n",
    "\n",
    "### Insertion Sort is `FASTER` than Bubble Sort\n",
    "![](https://www.baeldung.com/wp-content/uploads/sites/4/2021/04/ins-vs-bubble.png)\n",
    "\n"
   ]
  },
  {
   "cell_type": "code",
   "execution_count": 73,
   "metadata": {},
   "outputs": [],
   "source": [
    "def bubble_sort(nums):\n",
    "    nums = nums[:]\n",
    "\n",
    "    swapped = False\n",
    "    for i in range(len(nums)-1):\n",
    "        for j in range(len(nums)-i-1):\n",
    "            if nums[j] > nums[j+1]:\n",
    "                nums[j], nums[j+1] = nums[j+1], nums[j]\n",
    "                swapped = True\n",
    "        if not swapped:\n",
    "            return nums\n",
    "    return nums"
   ]
  },
  {
   "cell_type": "code",
   "execution_count": 74,
   "metadata": {},
   "outputs": [],
   "source": [
    "def insertion_sort(nums):\n",
    "    nums = nums[:]\n",
    "\n",
    "    for i in range(1, len(nums)):\n",
    "        cur = nums.pop(i)\n",
    "        j = i-1\n",
    "        while j >= 0 and cur < nums[j]:\n",
    "            j -= 1\n",
    "        nums.insert(j+1, cur)\n",
    "    return nums"
   ]
  },
  {
   "cell_type": "code",
   "execution_count": 75,
   "metadata": {},
   "outputs": [
    {
     "name": "stdout",
     "output_type": "stream",
     "text": [
      "\n",
      "Input:\n",
      "{'nums': [5, -12, 2, 6, 1, 23, 7, 7, -12, 6, 12, 1, -243, 1, 0]}\n",
      "\n",
      "Expected Output:\n",
      "[-243, -12, -12, 0, 1, 1, 1, 2, 5, 6, 6, 7, 7, 12, 23]\n",
      "\n",
      "\n",
      "Actual Output:\n",
      "[-243, -12, -12, 0, 1, 1, 1, 2, 5, 6, 6, 7, 7, 12, 23]\n",
      "\n",
      "Execution Time:\n",
      "0.018 ms\n",
      "\n",
      "Test Result:\n",
      "\u001b[92mPASSED\u001b[0m\n",
      "\n",
      "\n",
      "Input:\n",
      "{'nums': [5, -12, 2, 6, 1, 23, 7, 7, -12, 6, 12, 1, -243, 1, 0]}\n",
      "\n",
      "Expected Output:\n",
      "[-243, -12, -12, 0, 1, 1, 1, 2, 5, 6, 6, 7, 7, 12, 23]\n",
      "\n",
      "\n",
      "Actual Output:\n",
      "[-243, -12, -12, 0, 1, 1, 1, 2, 5, 6, 6, 7, 7, 12, 23]\n",
      "\n",
      "Execution Time:\n",
      "0.01 ms\n",
      "\n",
      "Test Result:\n",
      "\u001b[92mPASSED\u001b[0m\n",
      "\n"
     ]
    },
    {
     "data": {
      "text/plain": [
       "([-243, -12, -12, 0, 1, 1, 1, 2, 5, 6, 6, 7, 7, 12, 23], True, 0.01)"
      ]
     },
     "execution_count": 75,
     "metadata": {},
     "output_type": "execute_result"
    }
   ],
   "source": [
    "evaluate_test_case(bubble_sort, test)\n",
    "evaluate_test_case(insertion_sort, test)"
   ]
  },
  {
   "cell_type": "markdown",
   "metadata": {},
   "source": []
  }
 ],
 "metadata": {
  "kernelspec": {
   "display_name": "Python 3",
   "language": "python",
   "name": "python3"
  },
  "language_info": {
   "codemirror_mode": {
    "name": "ipython",
    "version": 3
   },
   "file_extension": ".py",
   "mimetype": "text/x-python",
   "name": "python",
   "nbconvert_exporter": "python",
   "pygments_lexer": "ipython3",
   "version": "3.11.2"
  },
  "orig_nbformat": 4,
  "vscode": {
   "interpreter": {
    "hash": "aee8b7b246df8f9039afb4144a1f6fd8d2ca17a180786b69acc140d282b71a49"
   }
  }
 },
 "nbformat": 4,
 "nbformat_minor": 2
}
