{
 "cells": [
  {
   "attachments": {},
   "cell_type": "markdown",
   "metadata": {},
   "source": [
    "# Sorting Algorithms"
   ]
  },
  {
   "cell_type": "code",
   "execution_count": 24,
   "metadata": {},
   "outputs": [],
   "source": [
    "# TEST CASES\n",
    "test = {\n",
    "    'input': {\n",
    "        'nums': [5, -12, 2, 6, 1, 23, 7, 7, -12, 6, 12, 1, -243, 1, 0]\n",
    "    },\n",
    "    'output': [-243, -12, -12, 0, 1, 1, 1, 2, 5, 6, 6, 7, 7, 12, 23]\n",
    "}\n",
    "\n",
    "import random\n",
    "in_list = list(range(10000))\n",
    "out_list = list(range(10000))\n",
    "random.shuffle(in_list)\n",
    "big_test = {\n",
    "    'input': {\n",
    "        'nums': in_list\n",
    "    },\n",
    "    'output': out_list\n",
    "}\n",
    "\n",
    "from jovian.pythondsa import evaluate_test_case"
   ]
  },
  {
   "attachments": {},
   "cell_type": "markdown",
   "metadata": {},
   "source": [
    "## Bubble Sort\n",
    "\n",
    "#### Time Complexity (wort-case):      `O(n^2)`\n",
    "#### Time Complexity (average-case):   `O(n^2)`\n",
    "#### Time Complexity (best-case):      `O(n)`\n",
    "#### Space Complexity:                 `O(1)`\n",
    "<br>\n",
    "\n",
    "## Insertion Sort\n",
    "\n",
    "#### Time Complexity (wort-case):      `O(n^2)`\n",
    "#### Time Complexity (average-case):   `O(n^2)`\n",
    "#### Time Complexity (best-case):      `O(n^2)`\n",
    "#### Space Complexity:                 `O(1)`\n",
    "<br>\n",
    "\n",
    "### Insertion Sort is `FASTER` than Bubble Sort\n",
    "![](https://www.baeldung.com/wp-content/uploads/sites/4/2021/04/ins-vs-bubble.png)\n",
    "\n"
   ]
  },
  {
   "cell_type": "code",
   "execution_count": 19,
   "metadata": {},
   "outputs": [],
   "source": [
    "def bubble_sort(nums):\n",
    "    nums = nums[:]\n",
    "\n",
    "    swapped = False\n",
    "    for i in range(len(nums)-1):\n",
    "        for j in range(len(nums)-i-1):\n",
    "            if nums[j] > nums[j+1]:\n",
    "                nums[j], nums[j+1] = nums[j+1], nums[j]\n",
    "                swapped = True\n",
    "        if not swapped:\n",
    "            return nums\n",
    "    return nums"
   ]
  },
  {
   "cell_type": "code",
   "execution_count": 20,
   "metadata": {},
   "outputs": [],
   "source": [
    "def insertion_sort(nums):\n",
    "    nums = nums[:]\n",
    "\n",
    "    for i in range(1, len(nums)):\n",
    "        cur = nums.pop(i)\n",
    "        j = i-1\n",
    "        while j >= 0 and cur < nums[j]:\n",
    "            j -= 1\n",
    "        nums.insert(j+1, cur)\n",
    "    return nums"
   ]
  },
  {
   "cell_type": "code",
   "execution_count": 21,
   "metadata": {},
   "outputs": [
    {
     "name": "stdout",
     "output_type": "stream",
     "text": [
      "\n",
      "Input:\n",
      "{'nums': [5, -12, 2, 6, 1, 23, 7, 7, -12, 6, 12, 1, -243, 1, 0]}\n",
      "\n",
      "Expected Output:\n",
      "[-243, -12, -12, 0, 1, 1, 1, 2, 5, 6, 6, 7, 7, 12, 23]\n",
      "\n",
      "\n",
      "Actual Output:\n",
      "[-243, -12, -12, 0, 1, 1, 1, 2, 5, 6, 6, 7, 7, 12, 23]\n",
      "\n",
      "Execution Time:\n",
      "0.019 ms\n",
      "\n",
      "Test Result:\n",
      "\u001b[92mPASSED\u001b[0m\n",
      "\n",
      "\n",
      "Input:\n",
      "{'nums': [5, -12, 2, 6, 1, 23, 7, 7, -12, 6, 12, 1, -243, 1, 0]}\n",
      "\n",
      "Expected Output:\n",
      "[-243, -12, -12, 0, 1, 1, 1, 2, 5, 6, 6, 7, 7, 12, 23]\n",
      "\n",
      "\n",
      "Actual Output:\n",
      "[-243, -12, -12, 0, 1, 1, 1, 2, 5, 6, 6, 7, 7, 12, 23]\n",
      "\n",
      "Execution Time:\n",
      "0.011 ms\n",
      "\n",
      "Test Result:\n",
      "\u001b[92mPASSED\u001b[0m\n",
      "\n"
     ]
    },
    {
     "data": {
      "text/plain": [
       "([-243, -12, -12, 0, 1, 1, 1, 2, 5, 6, 6, 7, 7, 12, 23], True, 0.011)"
      ]
     },
     "execution_count": 21,
     "metadata": {},
     "output_type": "execute_result"
    }
   ],
   "source": [
    "evaluate_test_case(bubble_sort, test)\n",
    "evaluate_test_case(insertion_sort, test)"
   ]
  },
  {
   "attachments": {},
   "cell_type": "markdown",
   "metadata": {},
   "source": [
    "## Merge Sort\n",
    "\n",
    "<img src=\"https://upload.wikimedia.org/wikipedia/commons/thumb/e/e6/Merge_sort_algorithm_diagram.svg/2560px-Merge_sort_algorithm_diagram.svg.png\" width=\"480\">\n",
    "\n",
    "\n",
    "#### Time Complexity (wort-case):      `O(n log n)`\n",
    "#### Time Complexity (average-case):   `O(n log n)`\n",
    "#### Time Complexity (best-case):      `O(n log n?)`\n",
    "#### Space Complexity:                 `O(n)`"
   ]
  },
  {
   "cell_type": "code",
   "execution_count": 22,
   "metadata": {},
   "outputs": [],
   "source": [
    "def merge(l_sorted, r_sorted):\n",
    "    l, r, merged = 0, 0, []\n",
    "    while l < len(l_sorted) and r < len(r_sorted):\n",
    "        if l_sorted[l] <= r_sorted[r]:\n",
    "            merged.append(l_sorted[l])\n",
    "            l+=1\n",
    "        elif l_sorted[l] > r_sorted[r]:\n",
    "            merged.append(r_sorted[r])\n",
    "            r+=1\n",
    "    return merged + l_sorted[l:] + r_sorted[r:]\n",
    "\n",
    "def merge_sort(nums):\n",
    "    if len(nums) <= 1:\n",
    "        return nums\n",
    "    mid_i = len(nums)//2\n",
    "    return merge(   merge_sort(nums[:mid_i]),   merge_sort(nums[mid_i:])    )"
   ]
  },
  {
   "cell_type": "code",
   "execution_count": 31,
   "metadata": {},
   "outputs": [
    {
     "name": "stdout",
     "output_type": "stream",
     "text": [
      "\n",
      "Input:\n",
      "{'nums': [5, -12, 2, 6, 1, 23, 7, 7, -12, 6, 12, 1, -243, 1, 0]}\n",
      "\n",
      "Expected Output:\n",
      "[-243, -12, -12, 0, 1, 1, 1, 2, 5, 6, 6, 7, 7, 12, 23]\n",
      "\n",
      "\n",
      "Actual Output:\n",
      "[-243, -12, -12, 0, 1, 1, 1, 2, 5, 6, 6, 7, 7, 12, 23]\n",
      "\n",
      "Execution Time:\n",
      "0.023 ms\n",
      "\n",
      "Test Result:\n",
      "\u001b[92mPASSED\u001b[0m\n",
      "\n"
     ]
    },
    {
     "data": {
      "text/plain": [
       "([-243, -12, -12, 0, 1, 1, 1, 2, 5, 6, 6, 7, 7, 12, 23], True, 0.023)"
      ]
     },
     "execution_count": 31,
     "metadata": {},
     "output_type": "execute_result"
    }
   ],
   "source": [
    "evaluate_test_case(merge_sort, test)"
   ]
  },
  {
   "cell_type": "code",
   "execution_count": null,
   "metadata": {},
   "outputs": [],
   "source": []
  },
  {
   "cell_type": "code",
   "execution_count": 37,
   "metadata": {},
   "outputs": [
    {
     "name": "stdout",
     "output_type": "stream",
     "text": [
      "Bubble Sort:\t 4162.431 ms\n",
      "Insertion Sort:\t 988.838 ms\n",
      "Merge Sort:\t 20.965 ms\n"
     ]
    }
   ],
   "source": [
    "bubble_time = evaluate_test_case(bubble_sort, big_test, False)[2]\n",
    "insert_time = evaluate_test_case(insertion_sort, big_test, False)[2]\n",
    "merge_time = evaluate_test_case(merge_sort, big_test, False)[2]\n",
    "\n",
    "print(\"Bubble Sort:\\t\", bubble_time, \"ms\")\n",
    "print(\"Insertion Sort:\\t\", insert_time, \"ms\")\n",
    "print(\"Merge Sort:\\t\", merge_time, \"ms\")"
   ]
  },
  {
   "cell_type": "code",
   "execution_count": null,
   "metadata": {},
   "outputs": [],
   "source": []
  }
 ],
 "metadata": {
  "kernelspec": {
   "display_name": "Python 3",
   "language": "python",
   "name": "python3"
  },
  "language_info": {
   "codemirror_mode": {
    "name": "ipython",
    "version": 3
   },
   "file_extension": ".py",
   "mimetype": "text/x-python",
   "name": "python",
   "nbconvert_exporter": "python",
   "pygments_lexer": "ipython3",
   "version": "3.11.2"
  },
  "orig_nbformat": 4,
  "vscode": {
   "interpreter": {
    "hash": "aee8b7b246df8f9039afb4144a1f6fd8d2ca17a180786b69acc140d282b71a49"
   }
  }
 },
 "nbformat": 4,
 "nbformat_minor": 2
}
