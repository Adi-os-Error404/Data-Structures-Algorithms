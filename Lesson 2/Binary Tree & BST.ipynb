{
 "cells": [
  {
   "attachments": {},
   "cell_type": "markdown",
   "metadata": {},
   "source": [
    "# Classes"
   ]
  },
  {
   "cell_type": "code",
   "execution_count": 243,
   "metadata": {},
   "outputs": [],
   "source": [
    "class User:\n",
    "\n",
    "    def __init__(self, username, name, email):\n",
    "        self.username = username\n",
    "        self.name = name\n",
    "        self.email = email\n",
    "    \n",
    "\n",
    "    def __repr__(self):\n",
    "        return \"User(username='{}', name='{}', email='{}')\".format(self.username, self.name, self.email)\n",
    "    \n",
    "    \n",
    "    def __str__(self):\n",
    "        return \"User Details:\\nUsername: {} \\t Name: {} \\t Email: {}\".format(self.username, self.name, self.email)"
   ]
  },
  {
   "cell_type": "code",
   "execution_count": 244,
   "metadata": {},
   "outputs": [
    {
     "name": "stdout",
     "output_type": "stream",
     "text": [
      "__repr__():\n",
      "User(username='adi_13', name='Aditya Patel', email='example1@gmail.com')\n",
      "\n",
      "__str__():\n",
      "User Details:\n",
      "Username: adi_13 \t Name: Aditya Patel \t Email: example1@gmail.com\n"
     ]
    }
   ],
   "source": [
    "user0 = User('adi_13', 'Aditya Patel', 'example1@gmail.com')\n",
    "\n",
    "print(\"__repr__():\\n\" + repr(user0))\n",
    "print(\"\")\n",
    "print(\"__str__():\\n\" + str(user0))"
   ]
  },
  {
   "cell_type": "code",
   "execution_count": 245,
   "metadata": {},
   "outputs": [],
   "source": [
    "aakash = User('aakash', 'Aakash Rai', 'aakash@example.com')\n",
    "biraj = User('biraj', 'Biraj Das', 'biraj@example.com')\n",
    "hemanth = User('hemanth', 'Hemanth Jain', 'hemanth@example.com')\n",
    "jadhesh = User('jadhesh', 'Jadhesh Verma', 'jadhesh@example.com')\n",
    "siddhant = User('siddhant', 'Siddhant Sinha', 'siddhant@example.com')\n",
    "sonaksh = User('sonaksh', 'Sonaksh Kumar', 'sonaksh@example.com')\n",
    "vishal = User('vishal', 'Vishal Goel', 'vishal@example.com')"
   ]
  },
  {
   "cell_type": "code",
   "execution_count": 251,
   "metadata": {},
   "outputs": [],
   "source": [
    "class UserDatabase:\n",
    "\n",
    "    def __init__(self):\n",
    "        self.users = []\n",
    "        \n",
    "        \n",
    "    def insert_user(self, user):\n",
    "        if len(self.users) == 0:\n",
    "            self.users.append(user)\n",
    "        else:\n",
    "            for i in range(len(self.users)):\n",
    "                if self.users[i].username > user.username:\n",
    "                    self.users.insert(i, user)\n",
    "                    break\n",
    "\n",
    "        \n",
    "    def find_user(self, username):\n",
    "        for i in range(len(self.users)):\n",
    "            if self.users[i].username == username:\n",
    "                return self.users[i]\n",
    "        return (\"Username with '{}' does not exist\".format(username))\n",
    "\n",
    "\n",
    "    def update_user(self, user):\n",
    "        user_found = self.find_user(user.username)\n",
    "        user_found.name = user.name\n",
    "        user_found.email = user.email\n",
    "\n",
    "\n",
    "    def list_of_users(self):\n",
    "        return self.users\n",
    "    \n",
    "    '''\n",
    "    1. Insert:  O(N)\n",
    "    2. Find:    O(N)\n",
    "    3. Update:  O(N)\n",
    "    4. List:    O(1)\n",
    "    '''"
   ]
  },
  {
   "cell_type": "code",
   "execution_count": 252,
   "metadata": {},
   "outputs": [],
   "source": [
    "database = UserDatabase()\n",
    "database.insert_user(vishal)\n",
    "database.insert_user(hemanth)\n",
    "database.insert_user(sonaksh)\n",
    "database.insert_user(siddhant)\n",
    "database.insert_user(aakash)\n",
    "database.insert_user(jadhesh)\n",
    "database.insert_user(biraj)"
   ]
  },
  {
   "cell_type": "code",
   "execution_count": 253,
   "metadata": {},
   "outputs": [
    {
     "name": "stdout",
     "output_type": "stream",
     "text": [
      "User Details:\n",
      "Username: aakash \t Name: akash \t Email: akash@example.com\n",
      "\n",
      "Username with 'adi' does not exist\n"
     ]
    }
   ],
   "source": [
    "print(database.find_user(\"aakash\"))\n",
    "print('')\n",
    "print(database.find_user(\"adi\"))"
   ]
  },
  {
   "cell_type": "code",
   "execution_count": 254,
   "metadata": {},
   "outputs": [
    {
     "name": "stdout",
     "output_type": "stream",
     "text": [
      "User Details:\n",
      "Username: aakash \t Name: akash \t Email: akash@example.com\n"
     ]
    }
   ],
   "source": [
    "updated_aakash = User('aakash', 'akash', 'akash@example.com')\n",
    "database.update_user(updated_aakash)\n",
    "print(database.find_user(\"aakash\"))"
   ]
  },
  {
   "cell_type": "code",
   "execution_count": 255,
   "metadata": {},
   "outputs": [
    {
     "data": {
      "text/plain": [
       "[User(username='aakash', name='akash', email='akash@example.com'),\n",
       " User(username='biraj', name='Biraj Das', email='biraj@example.com'),\n",
       " User(username='hemanth', name='Hemanth Jain', email='hemanth@example.com'),\n",
       " User(username='jadhesh', name='Jadhesh Verma', email='jadhesh@example.com'),\n",
       " User(username='siddhant', name='Siddhant Sinha', email='siddhant@example.com'),\n",
       " User(username='sonaksh', name='Sonaksh Kumar', email='sonaksh@example.com'),\n",
       " User(username='vishal', name='Vishal Goel', email='vishal@example.com')]"
      ]
     },
     "execution_count": 255,
     "metadata": {},
     "output_type": "execute_result"
    }
   ],
   "source": [
    "database.list_of_users()"
   ]
  },
  {
   "attachments": {},
   "cell_type": "markdown",
   "metadata": {},
   "source": [
    "# Binary Tree & Binary Search Tree (BST)\n",
    "\n",
    "![](https://i.imgur.com/lVqP63n.png)\n",
    "<br>\n",
    "\n",
    "1. **Keys and Values**: <br>`Keys = Usernam(strs`) & `Values = Users(objs)`<br>\n",
    "\n",
    "2. **Binary Search Tree (BST)**: <br>If the **left subtree's key** of any node is `smaller` and the **right subtree's key** of any node is `bigger` than its **parent tree**, that tree is called a `binary search tree (BST)`.<br>\n",
    "\n",
    "3. **Balanced Tree**: <br>A tree is **balanced** when it does not skew too heavily to one side or the other. \n",
    "The left and right subtrees of any node shouldn't differ in height/depth by more than `1 level`.<br><br>\n",
    "\n",
    "\n",
    "### Height of a Binary Tree\n",
    "\n",
    "##### The number of levels in a tree is called its height. As you can tell from the picture above, each level of a tree contains twice as many nodes as the previous level. \n",
    "\n",
    "For a tree of **height** `k`, here's a list of the number of nodes at each level:\n",
    "\n",
    "Level 0: `1`\n",
    "\n",
    "Level 1: `2`\n",
    "\n",
    "Level 2: `4` i.e. `2^2`\n",
    "\n",
    "Level 3: `8` i.e. `2^3` ...\n",
    "\n",
    "Level k-1: `2^(k-1)`\n",
    "\n",
    "<br>\n",
    "If the total **number of nodes** in the tree is `N`, then it follows that<br>\n",
    "\n",
    "`Number of node = N`\n",
    "<br><br>\n",
    "```\n",
    "N = 1 + 2^1 + 2^2 + 2^3 + ... + 2^(k-1)\n",
    "```\n",
    "\n",
    "\n",
    "We can simplify this equation by adding `1` on each side:\n",
    "\n",
    "```\n",
    "N + 1 = 1 + 1 + 2^1 + 2^2 + 2^3 + ... + 2^(k-1) \n",
    "\n",
    "N + 1 = 2^1 + 2^1 + 2^2+ 2^3 + ... + 2^(k-1) \n",
    "\n",
    "N + 1 = = 2^2 + 2^2 + 2^3 + ... + 2^(k-1)\n",
    "\n",
    "N + 1 = = 2^3 + 2^3 + ... + 2^(k-1)\n",
    "\n",
    "...\n",
    "\n",
    "N + 1 = 2^(k-1) + 2^(k-1)\n",
    "\n",
    "N + 1 = 2^k\n",
    "\n",
    "k = log(N + 1) <= log(N) + 1\n",
    "\n",
    "Height = k\n",
    "\n",
    "```\n",
    "\n",
    "Thus, to store `N` records we require a balanced binary search tree (BST) of height no larger than `log(N) + 1`.\n",
    "\n",
    "Thus, the `insert`, `find` and `update` functions in a `Balanced BST` have time complexity `O(log N)`, since they all involve traversing a single path down from the root of the tree."
   ]
  },
  {
   "cell_type": "markdown",
   "metadata": {},
   "source": []
  }
 ],
 "metadata": {
  "kernelspec": {
   "display_name": "Python 3",
   "language": "python",
   "name": "python3"
  },
  "language_info": {
   "codemirror_mode": {
    "name": "ipython",
    "version": 3
   },
   "file_extension": ".py",
   "mimetype": "text/x-python",
   "name": "python",
   "nbconvert_exporter": "python",
   "pygments_lexer": "ipython3",
   "version": "3.11.2"
  },
  "orig_nbformat": 4,
  "vscode": {
   "interpreter": {
    "hash": "aee8b7b246df8f9039afb4144a1f6fd8d2ca17a180786b69acc140d282b71a49"
   }
  }
 },
 "nbformat": 4,
 "nbformat_minor": 2
}
