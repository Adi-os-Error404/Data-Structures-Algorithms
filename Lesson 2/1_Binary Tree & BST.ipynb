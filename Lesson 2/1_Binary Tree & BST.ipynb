{
 "cells": [
  {
   "attachments": {},
   "cell_type": "markdown",
   "metadata": {},
   "source": [
    "# Classes"
   ]
  },
  {
   "cell_type": "code",
   "execution_count": 1,
   "metadata": {},
   "outputs": [],
   "source": [
    "class User:\n",
    "\n",
    "    def __init__(self, username, name, email):\n",
    "        self.username = username\n",
    "        self.name = name\n",
    "        self.email = email\n",
    "    \n",
    "\n",
    "    def __repr__(self):\n",
    "        return \"User(username='{}', name='{}', email='{}')\".format(self.username, self.name, self.email)\n",
    "    \n",
    "    \n",
    "    def __str__(self):\n",
    "        return \"User Details:\\nUsername: {} \\t Name: {} \\t Email: {}\".format(self.username, self.name, self.email)"
   ]
  },
  {
   "cell_type": "code",
   "execution_count": 2,
   "metadata": {},
   "outputs": [
    {
     "name": "stdout",
     "output_type": "stream",
     "text": [
      "__repr__():\n",
      "User(username='adi_13', name='Aditya Patel', email='example1@gmail.com')\n",
      "\n",
      "__str__():\n",
      "User Details:\n",
      "Username: adi_13 \t Name: Aditya Patel \t Email: example1@gmail.com\n"
     ]
    }
   ],
   "source": [
    "user0 = User('adi_13', 'Aditya Patel', 'example1@gmail.com')\n",
    "\n",
    "print(\"__repr__():\\n\" + repr(user0))\n",
    "print(\"\")\n",
    "print(\"__str__():\\n\" + str(user0))"
   ]
  },
  {
   "cell_type": "code",
   "execution_count": 3,
   "metadata": {},
   "outputs": [],
   "source": [
    "aakash = User('aakash', 'Aakash Rai', 'aakash@example.com')\n",
    "biraj = User('biraj', 'Biraj Das', 'biraj@example.com')\n",
    "hemanth = User('hemanth', 'Hemanth Jain', 'hemanth@example.com')\n",
    "jadhesh = User('jadhesh', 'Jadhesh Verma', 'jadhesh@example.com')\n",
    "siddhant = User('siddhant', 'Siddhant Sinha', 'siddhant@example.com')\n",
    "sonaksh = User('sonaksh', 'Sonaksh Kumar', 'sonaksh@example.com')\n",
    "vishal = User('vishal', 'Vishal Goel', 'vishal@example.com')"
   ]
  },
  {
   "cell_type": "code",
   "execution_count": 4,
   "metadata": {},
   "outputs": [],
   "source": [
    "class UserDatabase:\n",
    "\n",
    "    def __init__(self):\n",
    "        self.users = []\n",
    "        \n",
    "        \n",
    "    def insert_user(self, user):\n",
    "        if len(self.users) == 0:\n",
    "            self.users.append(user)\n",
    "        else:\n",
    "            for i in range(len(self.users)):\n",
    "                if self.users[i].username > user.username:\n",
    "                    self.users.insert(i, user)\n",
    "                    break\n",
    "\n",
    "        \n",
    "    def find_user(self, username):\n",
    "        for i in range(len(self.users)):\n",
    "            if self.users[i].username == username:\n",
    "                return self.users[i]\n",
    "        return (\"Username with '{}' does not exist\".format(username))\n",
    "\n",
    "\n",
    "    def update_user(self, user):\n",
    "        user_found = self.find_user(user.username)\n",
    "        user_found.name = user.name\n",
    "        user_found.email = user.email\n",
    "\n",
    "\n",
    "    def list_of_users(self):\n",
    "        return self.users\n",
    "    \n",
    "    '''\n",
    "    TIME COMPLEXITIES:\n",
    "    1. Insert:  O(N)\n",
    "    2. Find:    O(N)\n",
    "    3. Update:  O(N)\n",
    "    4. List:    O(1)\n",
    "    '''"
   ]
  },
  {
   "cell_type": "code",
   "execution_count": 5,
   "metadata": {},
   "outputs": [],
   "source": [
    "database = UserDatabase()\n",
    "database.insert_user(vishal)\n",
    "database.insert_user(hemanth)\n",
    "database.insert_user(sonaksh)\n",
    "database.insert_user(siddhant)\n",
    "database.insert_user(aakash)\n",
    "database.insert_user(jadhesh)\n",
    "database.insert_user(biraj)"
   ]
  },
  {
   "cell_type": "code",
   "execution_count": 6,
   "metadata": {},
   "outputs": [
    {
     "name": "stdout",
     "output_type": "stream",
     "text": [
      "User Details:\n",
      "Username: aakash \t Name: Aakash Rai \t Email: aakash@example.com\n",
      "\n",
      "Username with 'adi' does not exist\n"
     ]
    }
   ],
   "source": [
    "print(database.find_user(\"aakash\"))\n",
    "print('')\n",
    "print(database.find_user(\"adi\"))"
   ]
  },
  {
   "cell_type": "code",
   "execution_count": 7,
   "metadata": {},
   "outputs": [
    {
     "name": "stdout",
     "output_type": "stream",
     "text": [
      "User Details:\n",
      "Username: aakash \t Name: akash \t Email: akash@example.com\n"
     ]
    }
   ],
   "source": [
    "updated_aakash = User('aakash', 'akash', 'akash@example.com')\n",
    "database.update_user(updated_aakash)\n",
    "print(database.find_user(\"aakash\"))"
   ]
  },
  {
   "cell_type": "code",
   "execution_count": 8,
   "metadata": {},
   "outputs": [
    {
     "name": "stdout",
     "output_type": "stream",
     "text": [
      "User Details:\n",
      "Username: aakash \t Name: akash \t Email: akash@example.com \n",
      "\n",
      "User Details:\n",
      "Username: biraj \t Name: Biraj Das \t Email: biraj@example.com \n",
      "\n",
      "User Details:\n",
      "Username: hemanth \t Name: Hemanth Jain \t Email: hemanth@example.com \n",
      "\n",
      "User Details:\n",
      "Username: jadhesh \t Name: Jadhesh Verma \t Email: jadhesh@example.com \n",
      "\n",
      "User Details:\n",
      "Username: siddhant \t Name: Siddhant Sinha \t Email: siddhant@example.com \n",
      "\n",
      "User Details:\n",
      "Username: sonaksh \t Name: Sonaksh Kumar \t Email: sonaksh@example.com \n",
      "\n",
      "User Details:\n",
      "Username: vishal \t Name: Vishal Goel \t Email: vishal@example.com \n",
      "\n"
     ]
    }
   ],
   "source": [
    "for user in database.list_of_users():\n",
    "    print(user, '\\n')"
   ]
  },
  {
   "attachments": {},
   "cell_type": "markdown",
   "metadata": {},
   "source": [
    "# Binary Tree & Binary Search Tree (BST)\n",
    "\n",
    "![](https://i.imgur.com/lVqP63n.png)\n",
    "<br>\n",
    "\n",
    "1. **Keys and Values**: <br>`Keys = Usernam(strs`) & `Values = Users(objs)`<br>\n",
    "\n",
    "2. **Binary Search Tree (BST)**: <br>If the **left subtree's key** of any node is `smaller` and the **right subtree's key** of any node is `bigger` than its **parent tree**, that tree is called a `binary search tree (BST)`.<br>\n",
    "\n",
    "3. **Balanced Tree**: <br>A tree is **balanced** when it does not skew too heavily to one side or the other. \n",
    "The left and right subtrees of any node shouldn't differ in height/depth by more than `1 level`.<br><br>\n",
    "\n",
    "\n",
    "### Height of a Binary Tree\n",
    "\n",
    "##### The number of levels in a tree is called its height. As you can tell from the picture above, each level of a tree contains twice as many nodes as the previous level. \n",
    "\n",
    "For a tree of **height** `k`, here's a list of the number of nodes at each level:\n",
    "\n",
    "Level 0: `1`\n",
    "\n",
    "Level 1: `2`\n",
    "\n",
    "Level 2: `4` i.e. `2^2`\n",
    "\n",
    "Level 3: `8` i.e. `2^3` ...\n",
    "\n",
    "Level k-1: `2^(k-1)`\n",
    "\n",
    "<br>\n",
    "If the total **number of nodes** in the tree is `N`, then it follows that<br>\n",
    "\n",
    "`Number of node = N`\n",
    "<br><br>\n",
    "```\n",
    "N = 1 + 2^1 + 2^2 + 2^3 + ... + 2^(k-1)\n",
    "```\n",
    "\n",
    "\n",
    "We can simplify this equation by adding `1` on each side:\n",
    "\n",
    "```\n",
    "N + 1 = 1 + 1 + 2^1 + 2^2 + 2^3 + ... + 2^(k-1) \n",
    "\n",
    "N + 1 = 2^1 + 2^1 + 2^2+ 2^3 + ... + 2^(k-1) \n",
    "\n",
    "N + 1 = = 2^2 + 2^2 + 2^3 + ... + 2^(k-1)\n",
    "\n",
    "N + 1 = = 2^3 + 2^3 + ... + 2^(k-1)\n",
    "\n",
    "...\n",
    "\n",
    "N + 1 = 2^(k-1) + 2^(k-1)\n",
    "\n",
    "N + 1 = 2^k\n",
    "\n",
    "k = log(N + 1) <= log(N) + 1\n",
    "\n",
    "Height = k\n",
    "\n",
    "```\n",
    "\n",
    "Thus, to store `N` records we require a balanced binary search tree (BST) of height no larger than `log(N) + 1`.\n",
    "\n",
    "Thus, the `insert`, `find` and `update` functions in a `Balanced BST` have time complexity `O(log N)`, since they all involve traversing a single path down from the root of the tree."
   ]
  },
  {
   "cell_type": "code",
   "execution_count": 9,
   "metadata": {},
   "outputs": [],
   "source": [
    "class TreeNode:\n",
    "    \n",
    "    def __init__(self, key):\n",
    "        self.key = key\n",
    "        self.right = None\n",
    "        self.left = None\n",
    "\n",
    "\n",
    "\n",
    "    def display_tree(self, space='|    ', level=0):\n",
    "        if self is None:\n",
    "            print(space*level + '∅')\n",
    "            return\n",
    "\n",
    "        if self.left is None and self.right is None:\n",
    "            print(space*level + str(self.key))\n",
    "            return\n",
    "        \n",
    "        TreeNode.display_tree(self.right, space, level+1)\n",
    "        print(space*level + str(self.key))\n",
    "        TreeNode.display_tree(self.left,space, level+1)   \n",
    "\n",
    "\n",
    "\n",
    "    def tree_to_tuple(self):\n",
    "        if self is None:\n",
    "            return None\n",
    "        \n",
    "        if self.left is None and self.right is None:\n",
    "            return self.key\n",
    "        \n",
    "        left = TreeNode.tree_to_tuple(self.left)\n",
    "        mid = self.key\n",
    "        right = TreeNode.tree_to_tuple(self.right)\n",
    "\n",
    "        return (left, mid, right)\n",
    "    \n",
    "\n",
    "\n",
    "    @staticmethod #this function is static because self is not used\n",
    "    def tuple_to_tree(data):\n",
    "        if data is None:\n",
    "            node = None\n",
    "\n",
    "        elif isinstance(data, tuple) and len(data) == 3:\n",
    "            node = TreeNode(data[1])\n",
    "            node.left = TreeNode.tuple_to_tree(data[0])\n",
    "            node.right = TreeNode.tuple_to_tree(data[2])\n",
    "\n",
    "        else:\n",
    "            node = TreeNode(data)\n",
    "\n",
    "        return node\n",
    "    \n",
    "\n",
    "\n",
    "    #Think recursively: CURRENT LEFT RIGHT\n",
    "    def preorder_traversal(self): \n",
    "        if self is None:\n",
    "            return []\n",
    "        \n",
    "        root = [self.key]\n",
    "        left_root = TreeNode.preorder_traversal(self.left)\n",
    "        right_root = TreeNode.preorder_traversal(self.right)\n",
    "\n",
    "        return(root + left_root + right_root)\n",
    "    \n",
    "    \n",
    "    #Think recursively: LEFT CURRENT RIGHT\n",
    "    def inorder_traversal(self):\n",
    "        if self is None:\n",
    "            return []\n",
    "        \n",
    "        root = [self.key]\n",
    "        left_root = TreeNode.inorder_traversal(self.left)\n",
    "        right_root = TreeNode.inorder_traversal(self.right)\n",
    "\n",
    "        return(left_root + root + right_root)\n",
    "    \n",
    "\n",
    "    #Think recursively: LEFT RIGHT CURRENT\n",
    "    def postorder_traversal(self):\n",
    "        if self is None:\n",
    "            return []\n",
    "        \n",
    "        root = [self.key]\n",
    "        left_root = TreeNode.postorder_traversal(self.left)\n",
    "        right_root = TreeNode.postorder_traversal(self.right)\n",
    "\n",
    "        return(left_root + right_root + root)\n",
    "    \n",
    "\n",
    "\n",
    "    def height_or_max_depth(self):\n",
    "        if self is None:\n",
    "            return 0\n",
    "        \n",
    "        left_subtree = TreeNode.height_or_max_depth(self.left)\n",
    "        right_subtree = TreeNode.height_or_max_depth(self.right)\n",
    "\n",
    "        return 1 + max(left_subtree, right_subtree)\n",
    "    \n",
    "\n",
    "    def min_depth(self):\n",
    "        if self is None:\n",
    "            return 0\n",
    "        \n",
    "        left_subtree = TreeNode.min_depth(self.left)\n",
    "        right_subtree = TreeNode.min_depth(self.right)\n",
    "\n",
    "        #in a SUBTREE, EITHER of ONE SIDE can be '∅', so min() would NOT work; since, '∅' returns 0, max() will work to ignore '∅'\n",
    "        if self.left is None or self.right is None:\n",
    "            return 1 + max(left_subtree, right_subtree)\n",
    "        else:\n",
    "            return 1 + min(left_subtree, right_subtree)\n",
    "    \n",
    "\n",
    "    def tot_nodes(self):\n",
    "        if self is None:\n",
    "            return 0\n",
    "        \n",
    "        left_subtree = TreeNode.tot_nodes(self.left)\n",
    "        right_subtree = TreeNode.tot_nodes(self.right)\n",
    "\n",
    "        return 1 + left_subtree + right_subtree\n",
    "\n",
    "\n",
    "    def diameter_of_tree(self):\n",
    "        def height_max_depth(self):\n",
    "            if self is None:\n",
    "                return 0\n",
    "            left_subtree = height_max_depth(self.left)\n",
    "            right_subtree = height_max_depth(self.right)\n",
    "            return 1 + max(left_subtree, right_subtree)\n",
    "        \n",
    "        if self is None:\n",
    "            return 0\n",
    "        l_max_depth = height_max_depth(self.left)\n",
    "        r_max_depth = height_max_depth(self.right)\n",
    "        cur_diameter = l_max_depth + r_max_depth\n",
    "        \n",
    "        l_diameter = TreeNode.diameter_of_tree(self.left)\n",
    "        r_diameter = TreeNode.diameter_of_tree(self.right)\n",
    "\n",
    "        return max(cur_diameter, l_diameter, r_diameter)\n"
   ]
  },
  {
   "attachments": {},
   "cell_type": "markdown",
   "metadata": {},
   "source": [
    "<img src=\"https://i.imgur.com/d7djJAf.png\" width=\"540\">"
   ]
  },
  {
   "cell_type": "code",
   "execution_count": 10,
   "metadata": {},
   "outputs": [],
   "source": [
    "n0 = TreeNode(2)\n",
    "n1 = TreeNode(3)\n",
    "n2 = TreeNode(1)\n",
    "n3 = TreeNode(5)\n",
    "n4 = TreeNode(3)\n",
    "n5 = TreeNode(4)\n",
    "n6 = TreeNode(7)\n",
    "n7 = TreeNode(6)\n",
    "n8 = TreeNode(8)\n",
    "\n",
    "n0.left = n1 #comment to see differene in diam()\n",
    "n1.left = n2 #comment to see differene in diam()\n",
    "n0.right = n3\n",
    "n3.left = n4\n",
    "n4.right = n5\n",
    "n3.right = n6\n",
    "n6.left = n7\n",
    "n6.right = n8\n",
    "binary_tree = n0"
   ]
  },
  {
   "cell_type": "code",
   "execution_count": 11,
   "metadata": {},
   "outputs": [
    {
     "name": "stdout",
     "output_type": "stream",
     "text": [
      "\n",
      "Binary Tree:\n",
      "\n",
      "|    |    |    8\n",
      "|    |    7\n",
      "|    |    |    6\n",
      "|    5\n",
      "|    |    |    4\n",
      "|    |    3\n",
      "|    |    |    ∅\n",
      "2\n",
      "|    |    ∅\n",
      "|    3\n",
      "|    |    1\n",
      "\n",
      "\n",
      "pre-order:\t[2, 3, 1, 5, 3, 4, 7, 6, 8]\n",
      "in-order:\t[1, 3, 2, 3, 4, 5, 6, 7, 8]\n",
      "post-order:\t[1, 3, 4, 3, 6, 8, 7, 5, 2]\n"
     ]
    }
   ],
   "source": [
    "print('\\nBinary Tree:\\n')\n",
    "binary_tree.display_tree()\n",
    "print('')\n",
    "\n",
    "print('')\n",
    "print('pre-order:\\t'+ str(binary_tree.preorder_traversal()))\n",
    "print('in-order:\\t'+ str(binary_tree.inorder_traversal()))\n",
    "print('post-order:\\t'+ str(binary_tree.postorder_traversal()))"
   ]
  },
  {
   "cell_type": "code",
   "execution_count": 12,
   "metadata": {},
   "outputs": [
    {
     "name": "stdout",
     "output_type": "stream",
     "text": [
      "\n",
      "Height / Max Depth:\t4\n",
      "\n",
      "Min Depth:\t3\n",
      "\n",
      "Total Nodes:\t9\n",
      "\n",
      "Dimaeter of the Tree:\t5\n"
     ]
    }
   ],
   "source": [
    "print('\\nHeight / Max Depth:\\t'+ str(binary_tree.height_or_max_depth()))\n",
    "\n",
    "print('')\n",
    "print('Min Depth:\\t'+ str(binary_tree.min_depth()))\n",
    "\n",
    "print('')\n",
    "print('Total Nodes:\\t'+ str(binary_tree.tot_nodes()))\n",
    "\n",
    "print('')\n",
    "print('Dimaeter of the Tree:\\t'+ str(binary_tree.diameter_of_tree()))"
   ]
  },
  {
   "attachments": {},
   "cell_type": "markdown",
   "metadata": {},
   "source": [
    "# Binary Search Tree (BST)\n",
    "\n",
    "A binary search tree or BST is a binary tree that satisfies the following conditions:\n",
    "\n",
    "1. The LEFT subtree of any node only contains nodes with keys LESS than the node's key\n",
    "\n",
    "2. The RIGHT subtree of any node only contains nodes with keys GREATER than the node's key"
   ]
  },
  {
   "attachments": {},
   "cell_type": "markdown",
   "metadata": {},
   "source": [
    "### Write a function to:\n",
    "\n",
    "> Check if a **binary tree** `is` a **binary search tree (BST)**.\n",
    "\n",
    "> Find the **maximum key** in a binary tree.\n",
    "\n",
    "> Find the **minimum key** in a binary tree."
   ]
  },
  {
   "cell_type": "code",
   "execution_count": 13,
   "metadata": {},
   "outputs": [],
   "source": [
    "# THINK RECURSIVELY means: START from the END\n",
    "# In a Recursive Function, start with the final return, of the iterative version of func; the start of the while loop is everthing after the first return in the recursive func\n",
    "# ASSUME THAT THE TREE IS NOT BALANCED (Edge Case: a tree is skewed)\n",
    "\n",
    "def is_tree_bst(tree_node):\n",
    "    def remove_none(nums):\n",
    "        new_nums = []\n",
    "        for num in nums:\n",
    "            if num != None:\n",
    "                new_nums.append(num)\n",
    "        return new_nums\n",
    "\n",
    "    if tree_node is None:\n",
    "        return ( True,    None,    None )\n",
    "    #returns(is_cur_bst, cur_min, cur_max)\n",
    "    \n",
    "    is_l_bst = is_tree_bst(tree_node.left)[0]\n",
    "    l_min = is_tree_bst(tree_node.left)[1]\n",
    "    l_max = is_tree_bst(tree_node.left)[2]\n",
    "\n",
    "    is_r_bst = is_tree_bst(tree_node.right)[0]\n",
    "    r_min = is_tree_bst(tree_node.right)[1]\n",
    "    r_max = is_tree_bst(tree_node.right)[2]\n",
    "    \n",
    "\n",
    "    is_cur_bst = False\n",
    "    cur_min = min(remove_none([l_min, tree_node.key, r_min]))\n",
    "    cur_max = max(remove_none([r_max, tree_node.key, l_max]))\n",
    "\n",
    "    #THINK RECURSIVELY that all subtrees have to be BST\n",
    "    if is_l_bst == True and is_r_bst == True:\n",
    "        # Check is the left_most_max_key is less than the parent_key\n",
    "        # AND\n",
    "        # Check is the right_most_min_key is greater than the parent_key \n",
    "        # THINK RECURSIVERLY for every parent_key\n",
    "        if ((l_max is None or tree_node.key > l_max)  and  (r_min is None or tree_node.key < r_min)):\n",
    "\n",
    "            is_cur_bst = True\n",
    "\n",
    "\n",
    "    return (is_cur_bst, cur_min, cur_max)"
   ]
  },
  {
   "cell_type": "code",
   "execution_count": 14,
   "metadata": {},
   "outputs": [
    {
     "name": "stdout",
     "output_type": "stream",
     "text": [
      "\n",
      "|    |    |    8\n",
      "|    |    7\n",
      "|    |    |    6\n",
      "|    5\n",
      "|    |    |    4\n",
      "|    |    3\n",
      "|    |    |    ∅\n",
      "2\n",
      "|    |    ∅\n",
      "|    3\n",
      "|    |    1\n",
      "\n",
      "Is Tree BST:\tFalse\n",
      "Tree's MIN key:\t  1\n",
      "Tree's MAX key:\t  8 \n"
     ]
    }
   ],
   "source": [
    "tree1 = TreeNode.tuple_to_tree(((1, 3, None), 2, ((None, 3, 4), 5, (6, 7, 8))))\n",
    "\n",
    "print('')\n",
    "tree1.display_tree()\n",
    "print('')\n",
    "\n",
    "is_tree1_bst, tree1_min, tree1_max = is_tree_bst(tree1)\n",
    "\n",
    "print(\"Is Tree BST:\\t{}\\nTree's MIN key:\\t  {}\\nTree's MAX key:\\t  {} \".format(is_tree1_bst, tree1_min, tree1_max))"
   ]
  },
  {
   "cell_type": "code",
   "execution_count": 15,
   "metadata": {},
   "outputs": [
    {
     "name": "stdout",
     "output_type": "stream",
     "text": [
      "\n",
      "   |       |    vishal\n",
      "   |    sonaksh\n",
      "   |       |    siddhant\n",
      "jadhesh\n",
      "   |       |    hemanth\n",
      "   |    biraj\n",
      "   |       |    aakash\n",
      "\n",
      "Is Tree BST:\t  True\n",
      "Tree's MIN key:\t  aakash\n",
      "Tree's MAX key:\t  vishal \n"
     ]
    }
   ],
   "source": [
    "tree2 = TreeNode.tuple_to_tree((('aakash', 'biraj', 'hemanth')  , 'jadhesh', ('siddhant', 'sonaksh', 'vishal')))\n",
    "\n",
    "print('')\n",
    "tree2.display_tree('   |    ')\n",
    "print('')\n",
    "\n",
    "is_tree2_bst, tree2_min, tree2_max = is_tree_bst(tree2)\n",
    "\n",
    "print(\"Is Tree BST:\\t  {}\\nTree's MIN key:\\t  {}\\nTree's MAX key:\\t  {} \".format(is_tree2_bst, tree2_min, tree2_max))\n"
   ]
  },
  {
   "cell_type": "code",
   "execution_count": 16,
   "metadata": {},
   "outputs": [
    {
     "name": "stdout",
     "output_type": "stream",
     "text": [
      "\n",
      "   |       |    vishal\n",
      "   |    sonaksh\n",
      "   |       |    siddhant\n",
      "jadhesh\n",
      "   |       |    hemanth\n",
      "   |    biraj\n",
      "   |       |    aakash\n",
      "\n",
      "\n",
      "pre-order:\t['jadhesh', 'biraj', 'aakash', 'hemanth', 'sonaksh', 'siddhant', 'vishal']\n",
      "\n",
      "in-order:\t['aakash', 'biraj', 'hemanth', 'jadhesh', 'siddhant', 'sonaksh', 'vishal']\n",
      "\n",
      "post-order:\t['aakash', 'hemanth', 'biraj', 'siddhant', 'vishal', 'sonaksh', 'jadhesh']\n",
      "\n",
      "\n",
      "Height / Max Depth:\t3\n",
      "\n",
      "Min Depth:\t3\n",
      "\n",
      "Total Nodes:\t7\n",
      "\n",
      "Dimaeter of the Tree:\t4\n"
     ]
    }
   ],
   "source": [
    "print('')\n",
    "tree2.display_tree('   |    ')\n",
    "print('\\n')\n",
    "\n",
    "print('pre-order:\\t'+ str(tree2.preorder_traversal()))\n",
    "print('')\n",
    "print('in-order:\\t'+ str(tree2.inorder_traversal()))\n",
    "print('')\n",
    "print('post-order:\\t'+ str(tree2.postorder_traversal()))\n",
    "print('')\n",
    "\n",
    "print('\\nHeight / Max Depth:\\t'+ str(tree2.height_or_max_depth()))\n",
    "\n",
    "print('')\n",
    "print('Min Depth:\\t'+ str(tree2.min_depth()))\n",
    "\n",
    "print('')\n",
    "print('Total Nodes:\\t'+ str(tree2.tot_nodes()))\n",
    "\n",
    "print('')\n",
    "print('Dimaeter of the Tree:\\t'+ str(tree2.diameter_of_tree()))"
   ]
  },
  {
   "attachments": {},
   "cell_type": "markdown",
   "metadata": {},
   "source": [
    "## Binary Search Tree (BST) Class"
   ]
  },
  {
   "cell_type": "code",
   "execution_count": 17,
   "metadata": {},
   "outputs": [],
   "source": [
    "class BSTNode():\n",
    "\n",
    "    def __init__(self, key, value=None):\n",
    "        # key = key/representation of an obj, like username\n",
    "        # value = obj, like User\n",
    "        self.key = key\n",
    "        self.value = value\n",
    "        self.left = None\n",
    "        self.right = None\n",
    "        self.parent = None\n",
    "\n",
    "\n",
    "    def display_BST(self, space='   |   ', level=0):\n",
    "        if self is None:\n",
    "            print(space*level + '∅')\n",
    "            return\n",
    "\n",
    "        if self.left is None and self.right is None:\n",
    "            print(space*level + str(self.key))\n",
    "            return\n",
    "        \n",
    "        BSTNode.display_BST(self.right, space, level+1)\n",
    "        print(space*level + str(self.key))\n",
    "        BSTNode.display_BST(self.left,space, level+1)\n",
    "\n",
    "\n",
    "    # TIME COMPLEXITY of the funcs below: O(log N) + O(N) = O(N)\n",
    "    # IF the BST is completely skewed/unbalanced, all nodes are visited once, so O(N)\n",
    "    # IF the BST is compelely balanced, nodes are visited like binary search, so O(log N)\n",
    "\n",
    "    def insert_node(self, new_bst_key, new_bst_val):\n",
    "        if self is None:\n",
    "            self = BSTNode(new_bst_key, new_bst_val)\n",
    "\n",
    "        elif new_bst_key < self.key:\n",
    "            self.left = BSTNode.insert_node(self.left, new_bst_key, new_bst_val)\n",
    "            self.left.parent = self\n",
    "            \n",
    "        elif new_bst_key > self.key:\n",
    "            self.right = BSTNode.insert_node(self.right, new_bst_key, new_bst_val)\n",
    "            self.right.parent = self\n",
    "\n",
    "        return self\n",
    "    \n",
    "\n",
    "    def find_node(self, key):\n",
    "        if self is None:\n",
    "            return None\n",
    "        \n",
    "        elif key == self.key:\n",
    "            return self\n",
    "        \n",
    "        elif key < self.key:\n",
    "            return BSTNode.find_node(self.left, key)\n",
    "\n",
    "        elif key > self.key:\n",
    "            return BSTNode.find_node(self.right, key)\n",
    "        \n",
    "\n",
    "    def update_node(self, key, value):\n",
    "        target = BSTNode.find_node(self, key)\n",
    "\n",
    "        if target is not None:\n",
    "            target.value = value\n",
    "\n",
    "\n",
    "    #TIME COMPLEXITY= O(N)\n",
    "    #All nodes are visited once\n",
    "    def list_all_nodes(self):\n",
    "        #in-order traversal\n",
    "        if self is None:\n",
    "            return []\n",
    "        return BSTNode.list_all_nodes(self.left) + [(self.key, self.value)] + BSTNode.list_all_nodes(self.right)\n",
    "    "
   ]
  },
  {
   "attachments": {},
   "cell_type": "markdown",
   "metadata": {},
   "source": [
    "### Lets create this BST\n",
    "\n",
    "<img src=\"https://i.imgur.com/JZeF9ix.png\" width=\"520\">"
   ]
  },
  {
   "cell_type": "code",
   "execution_count": 18,
   "metadata": {},
   "outputs": [
    {
     "name": "stdout",
     "output_type": "stream",
     "text": [
      "   |      |   vishal\n",
      "   |   sonaksh\n",
      "   |      |   siddhant\n",
      "jadhesh\n",
      "   |      |   hemanth\n",
      "   |   biraj\n",
      "   |      |   aakash\n"
     ]
    }
   ],
   "source": [
    "aakash = User('aakash', 'Aakash Rai', 'aakash@example.com')\n",
    "biraj = User('biraj', 'Biraj Das', 'biraj@example.com')\n",
    "hemanth = User('hemanth', 'Hemanth Jain', 'hemanth@example.com')\n",
    "jadhesh = User('jadhesh', 'Jadhesh Verma', 'jadhesh@example.com')\n",
    "siddhant = User('siddhant', 'Siddhant Sinha', 'siddhant@example.com')\n",
    "sonaksh = User('sonaksh', 'Sonaksh Kumar', 'sonaksh@example.com')\n",
    "vishal = User('vishal', 'Vishal Goel', 'vishal@example.com')\n",
    "\n",
    "\n",
    "BST_tree = BSTNode(jadhesh.username, jadhesh)\n",
    "\n",
    "BST_tree.insert_node(biraj.username, biraj)\n",
    "BST_tree.insert_node(sonaksh.username, sonaksh)\n",
    "BST_tree.insert_node(aakash.username, aakash)\n",
    "BST_tree.insert_node(hemanth.username, hemanth)\n",
    "BST_tree.insert_node(siddhant.username, siddhant)\n",
    "BST_tree.insert_node(vishal.username, vishal)\n",
    "\n",
    "BST_tree.display_BST()"
   ]
  },
  {
   "cell_type": "code",
   "execution_count": 19,
   "metadata": {},
   "outputs": [
    {
     "name": "stdout",
     "output_type": "stream",
     "text": [
      "User Details:\n",
      "Username: aakash \t Name: Aakash Rai \t Email: aakash@example.com\n",
      "\n",
      "None\n"
     ]
    }
   ],
   "source": [
    "print(BST_tree.find_node(aakash.username).value)\n",
    "print(\"\")\n",
    "print(BST_tree.find_node(\"Adi\"))"
   ]
  },
  {
   "cell_type": "code",
   "execution_count": 20,
   "metadata": {},
   "outputs": [
    {
     "name": "stdout",
     "output_type": "stream",
     "text": [
      "Updated User Details:\n",
      "Username: aakash \t Name: Aakash Rai \t Email: new@example.com\n"
     ]
    }
   ],
   "source": [
    "new_val = User('aakash', 'Aakash Rai', 'new@example.com')\n",
    "BST_tree.update_node(new_val.username, new_val)\n",
    "\n",
    "print(\"Updated\", BST_tree.find_node(aakash.username).value)"
   ]
  },
  {
   "cell_type": "code",
   "execution_count": 21,
   "metadata": {},
   "outputs": [
    {
     "data": {
      "text/plain": [
       "[('aakash',\n",
       "  User(username='aakash', name='Aakash Rai', email='new@example.com')),\n",
       " ('biraj',\n",
       "  User(username='biraj', name='Biraj Das', email='biraj@example.com')),\n",
       " ('hemanth',\n",
       "  User(username='hemanth', name='Hemanth Jain', email='hemanth@example.com')),\n",
       " ('jadhesh',\n",
       "  User(username='jadhesh', name='Jadhesh Verma', email='jadhesh@example.com')),\n",
       " ('siddhant',\n",
       "  User(username='siddhant', name='Siddhant Sinha', email='siddhant@example.com')),\n",
       " ('sonaksh',\n",
       "  User(username='sonaksh', name='Sonaksh Kumar', email='sonaksh@example.com')),\n",
       " ('vishal',\n",
       "  User(username='vishal', name='Vishal Goel', email='vishal@example.com'))]"
      ]
     },
     "execution_count": 21,
     "metadata": {},
     "output_type": "execute_result"
    }
   ],
   "source": [
    "BST_tree.list_all_nodes()"
   ]
  },
  {
   "attachments": {},
   "cell_type": "markdown",
   "metadata": {},
   "source": [
    "## Balanced Binary Trees\n",
    "\n",
    "> Write a function to determine if a binary tree is balanced."
   ]
  },
  {
   "cell_type": "code",
   "execution_count": 22,
   "metadata": {},
   "outputs": [],
   "source": [
    "def is_balanced(root):\n",
    "    if root is None:\n",
    "        return True, 0\n",
    "    \n",
    "    l_subtree, l_depth = is_balanced(root.left)\n",
    "    r_subtree, r_depth = is_balanced(root.right)\n",
    "\n",
    "    is_cur_balanced = False\n",
    "    if (l_subtree and r_subtree) and abs(l_depth-r_depth) <= 1:\n",
    "        is_cur_balanced = True\n",
    "\n",
    "    return is_cur_balanced, 1 + max(l_depth, r_depth)"
   ]
  },
  {
   "attachments": {},
   "cell_type": "markdown",
   "metadata": {},
   "source": [
    "Is BST Balanced? <br/><br/>\n",
    "<img src=\"https://i.imgur.com/JZeF9ix.png\" width=\"520\">"
   ]
  },
  {
   "cell_type": "code",
   "execution_count": 23,
   "metadata": {},
   "outputs": [
    {
     "data": {
      "text/plain": [
       "(True, 3)"
      ]
     },
     "execution_count": 23,
     "metadata": {},
     "output_type": "execute_result"
    }
   ],
   "source": [
    "is_balanced(BST_tree)"
   ]
  },
  {
   "attachments": {},
   "cell_type": "markdown",
   "metadata": {},
   "source": [
    "Is this BST Balanced?\n",
    "<br><br>\n",
    "<img src=\"https://i.imgur.com/LlOT712.png\" width=\"520\">"
   ]
  },
  {
   "cell_type": "code",
   "execution_count": 24,
   "metadata": {},
   "outputs": [
    {
     "data": {
      "text/plain": [
       "(True, 4)"
      ]
     },
     "execution_count": 24,
     "metadata": {},
     "output_type": "execute_result"
    }
   ],
   "source": [
    "BST_tree.insert_node('tanya', User('tanya', 'Tanya R', 'tanya@example.com'))\n",
    "is_balanced(BST_tree)"
   ]
  },
  {
   "attachments": {},
   "cell_type": "markdown",
   "metadata": {},
   "source": [
    "## Good LeetCode Problem\n",
    "\n",
    "https://leetcode.com/problems/check-completeness-of-a-binary-tree/\n",
    "\n",
    "Solved through `DFS approach`:<br>\n",
    "Comparing the indexes to the tot nodes will get the solution\n",
    "<br><br>\n",
    "\n",
    "**Index display for each node in the Tree:**\n",
    "\n",
    "                    i = 0\n",
    "                      /   \\\n",
    "                     /     \\\n",
    "                    1       2\n",
    "                   / \\     / \\\n",
    "                  3   4   5   6\n",
    "\n",
    "<br/>\n",
    "\n",
    ">Left child node's index =  `(2 * parent index) + 1`<br><br>\n",
    ">Right child node's index = `(2 * parent index) + 2`"
   ]
  },
  {
   "cell_type": "code",
   "execution_count": 25,
   "metadata": {},
   "outputs": [],
   "source": [
    "class Solution:\n",
    "    def isCompleteTree(self, root) -> bool:\n",
    "\n",
    "        def count_nodes(node):\n",
    "            if node is None:\n",
    "                 return 0\n",
    "            return 1 + count_nodes(node.left) + count_nodes(node.right)\n",
    "        \n",
    "        tot_nodes = count_nodes(root)\n",
    "\n",
    "\n",
    "        def compare_index(node, index):\n",
    "            if node is None:\n",
    "                return True\n",
    "\n",
    "            elif index >= tot_nodes:\n",
    "                return False\n",
    "            \n",
    "            l_sub_check = compare_index(node.left, 2*index + 1)\n",
    "            r_sub_check = compare_index(node.right, 2*index + 2)\n",
    "\n",
    "            if l_sub_check and r_sub_check:\n",
    "                return True\n",
    "\n",
    "        return compare_index(root, 0)"
   ]
  },
  {
   "attachments": {},
   "cell_type": "markdown",
   "metadata": {},
   "source": [
    "## Unbalanced BST\n",
    "\n",
    "<img src=\"https://i.imgur.com/lP5Thct.png\" width=\"520\">"
   ]
  },
  {
   "cell_type": "code",
   "execution_count": 26,
   "metadata": {},
   "outputs": [
    {
     "name": "stdout",
     "output_type": "stream",
     "text": [
      "\n",
      "Unbalanced BST:\n",
      "\n",
      "   |      |      |      |      |      |   vishal\n",
      "   |      |      |      |      |   sonaksh\n",
      "   |      |      |      |      |      |   ∅\n",
      "   |      |      |      |   siddhant\n",
      "   |      |      |      |      |   ∅\n",
      "   |      |      |   jadhesh\n",
      "   |      |      |      |   ∅\n",
      "   |      |   hemanth\n",
      "   |      |      |   ∅\n",
      "   |   biraj\n",
      "   |      |   ∅\n",
      "aakash\n",
      "   |   ∅\n",
      "\n",
      "Is BST Balanced:(False, 7)\n"
     ]
    }
   ],
   "source": [
    "unbalanced_BST = BSTNode(aakash.username, aakash)\n",
    "unbalanced_BST.insert_node(biraj.username, biraj)\n",
    "unbalanced_BST.insert_node(hemanth.username, hemanth)\n",
    "unbalanced_BST.insert_node(jadhesh.username, jadhesh)\n",
    "unbalanced_BST.insert_node(siddhant.username, siddhant)\n",
    "unbalanced_BST.insert_node(sonaksh.username, sonaksh)\n",
    "unbalanced_BST.insert_node(vishal.username, vishal)\n",
    "\n",
    "print(\"\\nUnbalanced BST:\\n\")\n",
    "unbalanced_BST.display_BST()\n",
    "print('\\nIs BST Balanced:' + str(is_balanced(unbalanced_BST)))"
   ]
  },
  {
   "attachments": {},
   "cell_type": "markdown",
   "metadata": {},
   "source": [
    "## Balanced Binary Search Trees\n",
    "\n",
    "> Write a function to `create a balanced BST` from `a sorted list/array `of key-value pairs."
   ]
  },
  {
   "cell_type": "code",
   "execution_count": 27,
   "metadata": {},
   "outputs": [],
   "source": [
    "def make_balanced_bst(data_arr):    \n",
    "    def binary_recur(data_arr, lo, hi, parent):\n",
    "        if lo > hi:\n",
    "            return None\n",
    "        \n",
    "        mid = (lo+hi)//2\n",
    "        key = data_arr[mid][0]\n",
    "        val = data_arr[mid][1]\n",
    "\n",
    "        root = BSTNode(key, val)\n",
    "        root.parent = parent\n",
    "        root.left = binary_recur(data_arr, lo, mid-1, root)\n",
    "        root.right = binary_recur(data_arr, mid+1, hi, root)\n",
    "        return root\n",
    "    \n",
    "    return binary_recur(data_arr, 0, len(data_arr)-1, None)\n"
   ]
  },
  {
   "cell_type": "code",
   "execution_count": 28,
   "metadata": {},
   "outputs": [
    {
     "name": "stdout",
     "output_type": "stream",
     "text": [
      "   |      |   vishal\n",
      "   |   sonaksh\n",
      "   |      |   siddhant\n",
      "jadhesh\n",
      "   |      |   hemanth\n",
      "   |   biraj\n",
      "   |      |   aakash\n"
     ]
    }
   ],
   "source": [
    "data = [(user.username, user) for user in database.list_of_users()]\n",
    "bst = make_balanced_bst(data)\n",
    "bst.display_BST()"
   ]
  },
  {
   "attachments": {},
   "cell_type": "markdown",
   "metadata": {},
   "source": [
    "## Balancing an Unbalanced BST\n",
    "\n",
    "> Write a function to `balance` an `unbalanced binary search tree`."
   ]
  },
  {
   "cell_type": "code",
   "execution_count": 29,
   "metadata": {},
   "outputs": [],
   "source": [
    "def balance_bst(root):\n",
    "    data = root.list_all_nodes() #BST_Class func - inorder trav -> []\n",
    "    return make_balanced_bst(data)"
   ]
  },
  {
   "cell_type": "code",
   "execution_count": 30,
   "metadata": {},
   "outputs": [
    {
     "name": "stdout",
     "output_type": "stream",
     "text": [
      "\n",
      "Unbalanced:\n",
      "\n",
      "   |      |      |      |      |      |   vishal\n",
      "   |      |      |      |      |   sonaksh\n",
      "   |      |      |      |      |      |   ∅\n",
      "   |      |      |      |   siddhant\n",
      "   |      |      |      |      |   ∅\n",
      "   |      |      |   jadhesh\n",
      "   |      |      |      |   ∅\n",
      "   |      |   hemanth\n",
      "   |      |      |   ∅\n",
      "   |   biraj\n",
      "   |      |   ∅\n",
      "aakash\n",
      "   |   ∅\n",
      "\n",
      "\n",
      "\n",
      "Balanced:\n",
      "\n",
      "   |      |   vishal\n",
      "   |   sonaksh\n",
      "   |      |   siddhant\n",
      "jadhesh\n",
      "   |      |   hemanth\n",
      "   |   biraj\n",
      "   |      |   aakash\n"
     ]
    }
   ],
   "source": [
    "print(\"\\nUnbalanced:\\n\")\n",
    "unbalanced_BST.display_BST()\n",
    "\n",
    "balanced_BST = balance_bst(unbalanced_BST)\n",
    "\n",
    "print(\"\\n\\n\\nBalanced:\\n\")\n",
    "balanced_BST.display_BST()"
   ]
  },
  {
   "attachments": {},
   "cell_type": "markdown",
   "metadata": {},
   "source": [
    "## After every insertion, we can balance the tree. This way the tree will remain balanced.\n",
    "\n",
    "`Complexity of the various operations in a Balanced BST:`\n",
    "\n",
    ">After every insert, balance_bst() can be called, so Find and Update can have Time Complexities\n",
    "* Insert - O(log N) + O(N) = O(N)\n",
    "* Find - O(log N)\n",
    "* Update - O(log N)\n",
    "* List all - O(N)"
   ]
  },
  {
   "attachments": {},
   "cell_type": "markdown",
   "metadata": {},
   "source": [
    "### Find & Update in **Balanced BST** is is 300,000 times faster than **Normal BST**, if there is a database of **100 millions users**\n",
    "\n",
    ">To speed up insertions, we may choose to perform the `balancing periodically` (e.g. **once every 1000 insertions**).<br><br>\n",
    ">This way, `most insertions will be O(log N)`, **but** `every 1000th insertion will take a few seconds, as the Time Complexity would be O(N)` .\n",
    "\n",
    ">Another options is to `rebalance the tree periodically at the end of every hour`.\n"
   ]
  }
 ],
 "metadata": {
  "kernelspec": {
   "display_name": "Python 3",
   "language": "python",
   "name": "python3"
  },
  "language_info": {
   "codemirror_mode": {
    "name": "ipython",
    "version": 3
   },
   "file_extension": ".py",
   "mimetype": "text/x-python",
   "name": "python",
   "nbconvert_exporter": "python",
   "pygments_lexer": "ipython3",
   "version": "3.11.2 (v3.11.2:878ead1ac1, Feb  7 2023, 10:02:41) [Clang 13.0.0 (clang-1300.0.29.30)]"
  },
  "orig_nbformat": 4,
  "vscode": {
   "interpreter": {
    "hash": "aee8b7b246df8f9039afb4144a1f6fd8d2ca17a180786b69acc140d282b71a49"
   }
  }
 },
 "nbformat": 4,
 "nbformat_minor": 2
}
