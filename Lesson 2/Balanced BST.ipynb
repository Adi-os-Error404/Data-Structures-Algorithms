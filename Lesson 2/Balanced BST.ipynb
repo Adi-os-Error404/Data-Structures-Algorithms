{
 "cells": [
  {
   "attachments": {},
   "cell_type": "markdown",
   "metadata": {},
   "source": [
    "# A Python-Friendly Treemap \n",
    "\n",
    "We are now ready to return to our original problem statement.\n",
    "\n",
    "> **QUESTION 1**: As a senior backend engineer at Jovian, you are tasked with developing a fast in-memory data structure to manage profile information (username, name and email) for 100 million users. It should allow the following operations to be performed efficiently:\n",
    "> \n",
    "> 1. **Insert** the profile information for a new user.\n",
    "> 2. **Find** the profile information of a user, given their username\n",
    "> 3. **Update** the profile information of a user, given their usrname\n",
    "> 5. **List** all the users of the platform, sorted by username\n",
    ">\n",
    "> You can assume that usernames are unique. \n",
    "\n",
    "\n",
    "\n",
    "We can create a generic class `TreeMap` which supports all the operations specified in the original problem statement in a python-friendly manner."
   ]
  },
  {
   "cell_type": "code",
   "execution_count": 503,
   "metadata": {},
   "outputs": [],
   "source": [
    "class User:\n",
    "\n",
    "    def __init__(self, username, name, email):\n",
    "        self.username = username\n",
    "        self.name = name\n",
    "        self.email = email\n",
    "    \n",
    "\n",
    "    def __repr__(self):\n",
    "        return \"User(username='{}', name='{}', email='{}')\".format(self.username, self.name, self.email)\n",
    "    \n",
    "    \n",
    "    def __str__(self):\n",
    "        return \"User Details:\\nUsername: {} \\t Name: {} \\t Email: {}\".format(self.username, self.name, self.email)"
   ]
  },
  {
   "cell_type": "code",
   "execution_count": 504,
   "metadata": {},
   "outputs": [],
   "source": [
    "class BSTNode():\n",
    "\n",
    "    def __init__(self, key, value=None):\n",
    "        self.key = key # key = key/representation of an obj, like username\n",
    "        self.value = value # value = obj, like User\n",
    "        self.left = None\n",
    "        self.right = None\n",
    "        self.parent = None\n",
    "        \n",
    "\n",
    "    def display_BST(self, space='   |   ', level=0):\n",
    "        if self is None:\n",
    "            print(space*level + '∅')\n",
    "            return\n",
    "\n",
    "        if self.left is None and self.right is None:\n",
    "            print(space*level + str(self.key))\n",
    "            return\n",
    "        \n",
    "        BSTNode.display_BST(self.right, space, level+1)\n",
    "        print(space*level + str(self.key))\n",
    "        BSTNode.display_BST(self.left,space, level+1)\n",
    "\n",
    "\n",
    "    def insert_node(self, new_bst_key, new_bst_val):\n",
    "        if self is None:\n",
    "            self = BSTNode(new_bst_key, new_bst_val)\n",
    "\n",
    "        elif new_bst_key < self.key:\n",
    "            self.left = BSTNode.insert_node(self.left, new_bst_key, new_bst_val)\n",
    "            self.left.parent = self\n",
    "            \n",
    "        elif new_bst_key > self.key:\n",
    "            self.right = BSTNode.insert_node(self.right, new_bst_key, new_bst_val)\n",
    "            self.right.parent = self\n",
    "        \n",
    "        return self\n",
    "    \n",
    "\n",
    "    def find_node(self, key):\n",
    "        if self is None:\n",
    "            return None\n",
    "        \n",
    "        elif key == self.key:\n",
    "            return self\n",
    "        \n",
    "        elif key < self.key:\n",
    "            return BSTNode.find_node(self.left, key)\n",
    "\n",
    "        elif key > self.key:\n",
    "            return BSTNode.find_node(self.right, key)\n",
    "        \n",
    "\n",
    "    def update_node(self, key, value):\n",
    "        target = BSTNode.find_node(self, key)\n",
    "\n",
    "        if target is not None:\n",
    "            target.value = value\n",
    "\n",
    "\n",
    "    def list_all_nodes(self): #in-order traversal \n",
    "        if self is None:\n",
    "            return []\n",
    "        return BSTNode.list_all_nodes(self.left) + [(self.key, self.value)] + BSTNode.list_all_nodes(self.right)\n",
    "    \n",
    "\n",
    "    def get_height(self):\n",
    "        if self is None:\n",
    "            return 0\n",
    "        return 1 + max(BSTNode.get_height(self.left), BSTNode.get_height(self.right))\n",
    "\n",
    "    "
   ]
  },
  {
   "cell_type": "code",
   "execution_count": 505,
   "metadata": {},
   "outputs": [],
   "source": [
    "def make_balanced_bst(data_arr):    \n",
    "    def binary_recur(data_arr, lo, hi, parent):\n",
    "        if lo > hi:\n",
    "            return None\n",
    "        \n",
    "        mid = (lo+hi)//2\n",
    "        key = data_arr[mid][0]\n",
    "        val = data_arr[mid][1]\n",
    "\n",
    "        root = BSTNode(key, val)\n",
    "        root.parent = parent\n",
    "        root.left = binary_recur(data_arr, lo, mid-1, root)\n",
    "        root.right = binary_recur(data_arr, mid+1, hi, root)\n",
    "        return root\n",
    "    \n",
    "    return binary_recur(data_arr, 0, len(data_arr)-1, None)\n",
    "\n",
    "def balance_bst(root):\n",
    "    data = root.list_all_nodes() #BST_Class func - inorder trav -> []\n",
    "    return make_balanced_bst(data)\n"
   ]
  },
  {
   "cell_type": "code",
   "execution_count": 506,
   "metadata": {},
   "outputs": [],
   "source": [
    "class TreeMap():\n",
    "\n",
    "    def __init__(self):\n",
    "        self.root = None\n",
    "\n",
    "    def __setitem__(self, key, value):\n",
    "        node = BSTNode.find_node(self.root, key)\n",
    "        if not node: #insert\n",
    "            self.root = BSTNode.insert_node(self.root, key, value)\n",
    "            self.root = balance_bst(self.root)\n",
    "        else: #update\n",
    "            BSTNode.update_node(self.root, key, value)\n",
    "\n",
    "\n",
    "    def __getitem__(self, key): # obj[key] returns value -> obj.__getitem__(self, key)\n",
    "        node = BSTNode.find_node(self.root, key)\n",
    "        return node.value if node else None\n",
    "\n",
    "    def __iter__(self): # iteratable func -> can iterate over an obj\n",
    "        return (x for x in BSTNode.list_all_nodes(self.root))\n",
    "\n",
    "\n",
    "    def __len__(self):\n",
    "        return BSTNode.get_height(self.root)\n",
    "\n",
    "\n",
    "    def display(self):\n",
    "        return BSTNode.display_BST(self.root)"
   ]
  },
  {
   "cell_type": "code",
   "execution_count": 507,
   "metadata": {},
   "outputs": [
    {
     "name": "stdout",
     "output_type": "stream",
     "text": [
      "∅\n"
     ]
    }
   ],
   "source": [
    "aakash = User('aakash', 'Aakash Rai', 'aakash@example.com')\n",
    "biraj = User('biraj', 'Biraj Das', 'biraj@example.com')\n",
    "hemanth = User('hemanth', 'Hemanth Jain', 'hemanth@example.com')\n",
    "jadhesh = User('jadhesh', 'Jadhesh Verma', 'jadhesh@example.com')\n",
    "siddhant = User('siddhant', 'Siddhant Sinha', 'siddhant@example.com')\n",
    "sonaksh = User('sonaksh', 'Sonaksh Kumar', 'sonaksh@example.com')\n",
    "vishal = User('vishal', 'Vishal Goel', 'vishal@example.com')\n",
    "\n",
    "treemap = TreeMap()\n",
    "treemap.display()"
   ]
  },
  {
   "cell_type": "code",
   "execution_count": 508,
   "metadata": {},
   "outputs": [
    {
     "name": "stdout",
     "output_type": "stream",
     "text": [
      "   |      |   vishal\n",
      "   |   sonaksh\n",
      "   |      |   siddhant\n",
      "jadhesh\n",
      "   |      |   hemanth\n",
      "   |   biraj\n",
      "   |      |   aakash\n"
     ]
    }
   ],
   "source": [
    "#Insert and Display\n",
    "treemap['aakash'] = aakash\n",
    "treemap['biraj'] = biraj\n",
    "treemap['hemanth'] = hemanth\n",
    "treemap['jadhesh'] = jadhesh\n",
    "treemap['siddhant'] = siddhant\n",
    "treemap['sonaksh'] = sonaksh\n",
    "treemap['vishal'] = vishal\n",
    "treemap.display()"
   ]
  },
  {
   "cell_type": "code",
   "execution_count": 509,
   "metadata": {},
   "outputs": [
    {
     "data": {
      "text/plain": [
       "3"
      ]
     },
     "execution_count": 509,
     "metadata": {},
     "output_type": "execute_result"
    }
   ],
   "source": [
    "len(treemap)"
   ]
  },
  {
   "cell_type": "code",
   "execution_count": 510,
   "metadata": {},
   "outputs": [
    {
     "data": {
      "text/plain": [
       "[('aakash',\n",
       "  User(username='aakash', name='Aakash Rai', email='aakash@example.com')),\n",
       " ('biraj',\n",
       "  User(username='biraj', name='Biraj Das', email='biraj@example.com')),\n",
       " ('hemanth',\n",
       "  User(username='hemanth', name='Hemanth Jain', email='hemanth@example.com')),\n",
       " ('jadhesh',\n",
       "  User(username='jadhesh', name='Jadhesh Verma', email='jadhesh@example.com')),\n",
       " ('siddhant',\n",
       "  User(username='siddhant', name='Siddhant Sinha', email='siddhant@example.com')),\n",
       " ('sonaksh',\n",
       "  User(username='sonaksh', name='Sonaksh Kumar', email='sonaksh@example.com')),\n",
       " ('vishal',\n",
       "  User(username='vishal', name='Vishal Goel', email='vishal@example.com'))]"
      ]
     },
     "execution_count": 510,
     "metadata": {},
     "output_type": "execute_result"
    }
   ],
   "source": [
    "#Iter\n",
    "list(treemap)"
   ]
  },
  {
   "cell_type": "code",
   "execution_count": 511,
   "metadata": {},
   "outputs": [
    {
     "name": "stdout",
     "output_type": "stream",
     "text": [
      "aakash User Details:\n",
      "Username: aakash \t Name: Aakash Rai \t Email: aakash@example.com\n",
      "biraj User Details:\n",
      "Username: biraj \t Name: Biraj Das \t Email: biraj@example.com\n",
      "hemanth User Details:\n",
      "Username: hemanth \t Name: Hemanth Jain \t Email: hemanth@example.com\n",
      "jadhesh User Details:\n",
      "Username: jadhesh \t Name: Jadhesh Verma \t Email: jadhesh@example.com\n",
      "siddhant User Details:\n",
      "Username: siddhant \t Name: Siddhant Sinha \t Email: siddhant@example.com\n",
      "sonaksh User Details:\n",
      "Username: sonaksh \t Name: Sonaksh Kumar \t Email: sonaksh@example.com\n",
      "vishal User Details:\n",
      "Username: vishal \t Name: Vishal Goel \t Email: vishal@example.com\n"
     ]
    }
   ],
   "source": [
    "#Iter\n",
    "for key, value in treemap:\n",
    "    print(key, value)"
   ]
  },
  {
   "cell_type": "code",
   "execution_count": 512,
   "metadata": {},
   "outputs": [
    {
     "name": "stdout",
     "output_type": "stream",
     "text": [
      "User Details:\n",
      "Username: aakash \t Name: Aakash N S \t Email: aakashns@example.com \n",
      "\n",
      "User Details:\n",
      "Username: vishal \t Name: Vishal Goel \t Email: vishal@example.com\n"
     ]
    }
   ],
   "source": [
    "# Update and Find:\n",
    "treemap['aakash'] = User(username='aakash', name='Aakash N S', email='aakashns@example.com')\n",
    "\n",
    "print(treemap['aakash'],\"\\n\")\n",
    "print(treemap['vishal'])"
   ]
  }
 ],
 "metadata": {
  "kernelspec": {
   "display_name": "Python 3",
   "language": "python",
   "name": "python3"
  },
  "language_info": {
   "codemirror_mode": {
    "name": "ipython",
    "version": 3
   },
   "file_extension": ".py",
   "mimetype": "text/x-python",
   "name": "python",
   "nbconvert_exporter": "python",
   "pygments_lexer": "ipython3",
   "version": "3.11.2"
  },
  "orig_nbformat": 4,
  "vscode": {
   "interpreter": {
    "hash": "aee8b7b246df8f9039afb4144a1f6fd8d2ca17a180786b69acc140d282b71a49"
   }
  }
 },
 "nbformat": 4,
 "nbformat_minor": 2
}
