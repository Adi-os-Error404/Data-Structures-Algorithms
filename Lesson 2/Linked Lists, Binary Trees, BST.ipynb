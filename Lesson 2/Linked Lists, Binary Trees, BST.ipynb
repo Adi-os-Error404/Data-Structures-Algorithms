{
 "cells": [
  {
   "attachments": {},
   "cell_type": "markdown",
   "metadata": {},
   "source": [
    "# Linked Lists\n",
    "\n",
    "A linked list is a _data structure_ used for storing a sequence of elements. It's data with some structure (the sequence).\n",
    "\n",
    "![](https://cdn.programiz.com/sites/tutorial2program/files/linked-list-concept_0.png)"
   ]
  },
  {
   "cell_type": "code",
   "execution_count": 50,
   "metadata": {},
   "outputs": [],
   "source": [
    "class Node():\n",
    "    \n",
    "    def __init__(self, data):\n",
    "        self.data = data\n",
    "        self.next = None\n"
   ]
  },
  {
   "cell_type": "code",
   "execution_count": 51,
   "metadata": {},
   "outputs": [],
   "source": [
    "class LinkedList():\n",
    "\n",
    "    def __init__(self):\n",
    "        self.head = None\n",
    "\n",
    "\n",
    "    def append(self, node_data):\n",
    "        if self.head is None:\n",
    "            self.head = Node(node_data)\n",
    "        else:\n",
    "            cur_node = self.head\n",
    "            while cur_node.next is not None:\n",
    "                cur_node = cur_node.next\n",
    "            cur_node.next = Node(node_data)\n",
    "    \n",
    "\n",
    "    def print_linked_list(self):\n",
    "        cur_node = self.head\n",
    "        l = []\n",
    "        while cur_node is not None:\n",
    "            l.append(cur_node.data)\n",
    "            cur_node = cur_node.next\n",
    "        print(l)\n",
    "\n",
    "\n",
    "    def get_length(self):\n",
    "        i = 0\n",
    "        cur_node = self.head\n",
    "        while cur_node is not None:\n",
    "            i += 1\n",
    "            cur_node = cur_node.next\n",
    "        return i\n",
    "    \n",
    "\n",
    "    def get_node_data_pos(self, pos):\n",
    "        i = 0\n",
    "        cur_node = self.head\n",
    "        while cur_node is not None:\n",
    "            if pos == i:\n",
    "                return cur_node.data\n",
    "            i += 1\n",
    "            cur_node = cur_node.next\n",
    "\n",
    "    "
   ]
  },
  {
   "cell_type": "code",
   "execution_count": 52,
   "metadata": {},
   "outputs": [],
   "source": [
    "def reverse_iteratively(head):\n",
    "        cur_node = head\n",
    "        prev_node = None\n",
    "\n",
    "        while cur_node is not None:\n",
    "            nxt_node = cur_node.next\n",
    "            cur_node.next = prev_node\n",
    "            prev_node = cur_node\n",
    "            cur_node = nxt_node\n",
    "            \n",
    "        return prev_node"
   ]
  },
  {
   "cell_type": "code",
   "execution_count": 53,
   "metadata": {},
   "outputs": [],
   "source": [
    "def reverse_recursively(head):\n",
    "    cur_node = head\n",
    "    prev_node = None\n",
    "    \n",
    "    def recur(cur, prev):\n",
    "        if cur is None:\n",
    "            return prev\n",
    "        nxt = cur.next\n",
    "        cur.next = prev\n",
    "        return(recur(nxt, cur))\n",
    "    \n",
    "    return recur(cur_node, prev_node)\n",
    "    "
   ]
  },
  {
   "cell_type": "code",
   "execution_count": 54,
   "metadata": {},
   "outputs": [
    {
     "name": "stdout",
     "output_type": "stream",
     "text": [
      "[5, 4, 3, 2, 1]\n",
      "[1, 2, 3, 4, 5]\n"
     ]
    }
   ],
   "source": [
    "linked_list = LinkedList()\n",
    "linked_list.append(1)\n",
    "linked_list.append(2)\n",
    "linked_list.append(3)\n",
    "linked_list.append(4)\n",
    "linked_list.append(5)\n",
    "\n",
    "linked_list.head = reverse_iteratively(linked_list.head)\n",
    "linked_list.print_linked_list()\n",
    "linked_list.head = reverse_recursively(linked_list.head)\n",
    "linked_list.print_linked_list()"
   ]
  }
 ],
 "metadata": {
  "kernelspec": {
   "display_name": "Python 3",
   "language": "python",
   "name": "python3"
  },
  "language_info": {
   "codemirror_mode": {
    "name": "ipython",
    "version": 3
   },
   "file_extension": ".py",
   "mimetype": "text/x-python",
   "name": "python",
   "nbconvert_exporter": "python",
   "pygments_lexer": "ipython3",
   "version": "3.11.2"
  },
  "orig_nbformat": 4,
  "vscode": {
   "interpreter": {
    "hash": "aee8b7b246df8f9039afb4144a1f6fd8d2ca17a180786b69acc140d282b71a49"
   }
  }
 },
 "nbformat": 4,
 "nbformat_minor": 2
}
