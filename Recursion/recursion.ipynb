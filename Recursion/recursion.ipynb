{
 "cells": [
  {
   "attachments": {},
   "cell_type": "markdown",
   "metadata": {},
   "source": [
    "# Recursion\n",
    "\n",
    "#### A function that calls itself, until it hits some condition which stops calling itself\n",
    "\n",
    "#### All these functions are called in a `Call Stack` (like a $beaker$), the base case call is located at the bottom of Call Stack\n",
    "\n",
    "#### If the `Call Stack` runs out of memory, its called `Stack Overflow` (like $water$ $overflowing$ from a $beaker$)"
   ]
  },
  {
   "cell_type": "code",
   "execution_count": null,
   "metadata": {},
   "outputs": [],
   "source": [
    "def recur():\n",
    "    # base case/condition:\n",
    "        # return something or nothing\n",
    "    \n",
    "    # return recur()\n",
    "    pass"
   ]
  },
  {
   "attachments": {},
   "cell_type": "markdown",
   "metadata": {},
   "source": [
    "### String Reversal:\n",
    "\n",
    "Ex: 'abc' -> 'cba'"
   ]
  },
  {
   "cell_type": "code",
   "execution_count": null,
   "metadata": {},
   "outputs": [],
   "source": [
    "def reverse_string(some_string):\n",
    "    if some_string == \"\":\n",
    "        return \"\"\n",
    "    \n",
    "    return reverse_string( some_string[1:] )  +  some_string[0]"
   ]
  },
  {
   "cell_type": "code",
   "execution_count": null,
   "metadata": {},
   "outputs": [],
   "source": [
    "string_test = 'a'\n",
    "print(string_test[1:] == '')\n",
    "print('abc ->', reverse_string(\"abc\"))"
   ]
  },
  {
   "attachments": {},
   "cell_type": "markdown",
   "metadata": {},
   "source": [
    "### Palindrome:\n",
    "\n",
    "Ex: kayak, abccba"
   ]
  },
  {
   "cell_type": "code",
   "execution_count": null,
   "metadata": {},
   "outputs": [],
   "source": [
    "def is_palindrome(word):\n",
    "    # Smallest base-case OR stopping condition\n",
    "    if len(word) <= 1:\n",
    "        return True\n",
    "    \n",
    "    # Call the func again - Do something to shrink the current word\n",
    "    if word[0] == word[-1]:\n",
    "        return is_palindrome(word[1:-1])\n",
    "    \n",
    "    # Do something if the current word is not palindrome\n",
    "    return False"
   ]
  },
  {
   "cell_type": "code",
   "execution_count": null,
   "metadata": {},
   "outputs": [],
   "source": [
    "print('kayak:', is_palindrome('kayak'))\n",
    "print('abcde:', is_palindrome('abcde'))"
   ]
  },
  {
   "attachments": {},
   "cell_type": "markdown",
   "metadata": {},
   "source": [
    "### Integer to Binary:\n",
    "\n",
    "Ex: 29 -> 11101\n",
    "\n",
    "> 29//2=14; rem =1 /\\\n",
    ">                       \n",
    "> 14 // 2=7; rem = 0 |\n",
    "> \n",
    "> 7 // 2 = 3; rem = 1 |\n",
    "> \n",
    "> 3 // 2 = 1; rem = 1 |\n",
    "> \n",
    "> 1 // 2 = 0; rem = 1 |"
   ]
  },
  {
   "cell_type": "code",
   "execution_count": null,
   "metadata": {},
   "outputs": [],
   "source": [
    "def int_to_bi(num):\n",
    "    # base-case\n",
    "    if num // 2 == 0:\n",
    "        return str(num%2)\n",
    "    \n",
    "    # recursiver call\n",
    "    return int_to_bi(num//2) + str(num%2)"
   ]
  },
  {
   "cell_type": "code",
   "execution_count": null,
   "metadata": {},
   "outputs": [],
   "source": [
    "print('29 ->', int_to_bi(29))"
   ]
  },
  {
   "attachments": {},
   "cell_type": "markdown",
   "metadata": {},
   "source": [
    "### Sum of Natural Numbers\n",
    "\n",
    "Ex: 10 -> 55\n",
    "\n",
    "> 10 -> 1, 2, 3, 4, 5, 6, 7, 8, 9, 10\n",
    ">\n",
    "> 10 -> 1 + 2 + 3 + 4 + 5 + 6 + 7 + 8 + 9 + 10\n",
    ">\n",
    "> 10 -> 55"
   ]
  },
  {
   "cell_type": "code",
   "execution_count": null,
   "metadata": {},
   "outputs": [],
   "source": [
    "def sum_natural_nums(num):\n",
    "    # base-case\n",
    "    if num <= 1:\n",
    "        return 1\n",
    "    \n",
    "    #recursive call\n",
    "    return sum_natural_nums(num-1) + num"
   ]
  },
  {
   "cell_type": "code",
   "execution_count": null,
   "metadata": {},
   "outputs": [],
   "source": [
    "print('10 ->', sum_natural_nums(10))"
   ]
  },
  {
   "attachments": {},
   "cell_type": "markdown",
   "metadata": {},
   "source": [
    "<br>\n",
    "\n",
    "## Divide & Conquer:\n",
    "\n",
    "#### (1) __Divide__ the problem into several sub-problems\n",
    "#### (2) __Conquer__ the sub-problems by solving them $recursively$\n",
    "#### (3) __Combine__ the sub-solutions to get solution to the sub-problems\n",
    "<br>"
   ]
  },
  {
   "attachments": {},
   "cell_type": "markdown",
   "metadata": {},
   "source": [
    "### Binary Search\n",
    "\n",
    "Ex: nums = [1, 2, 3, 4, 5, 6, 7]; find 6's index\n",
    "\n",
    "> -> Binary Search returns __5__"
   ]
  },
  {
   "cell_type": "code",
   "execution_count": 202,
   "metadata": {},
   "outputs": [],
   "source": [
    "def binary_search(nums, x, lo=None, hi=None):\n",
    "    def condition(mid, nums, x):\n",
    "        if nums[mid] == x:\n",
    "            if mid > 0 and nums[mid-1] == x:\n",
    "                return 'left'\n",
    "            else:\n",
    "                return 'found'\n",
    "        elif nums[mid] > x and nums[-1] > x:\n",
    "            return 'left'\n",
    "        elif nums[mid] < x and nums[-1] > x:\n",
    "            return 'right'\n",
    "    \n",
    "    \n",
    "    if lo is None and hi is None:\n",
    "        lo, hi = 0, len(nums)-1\n",
    "    mid = (lo+hi)//2\n",
    "    direct = condition(mid, nums, x)\n",
    "\n",
    "    # if not found:\n",
    "    if lo > hi:\n",
    "        return None\n",
    "\n",
    "    # base-case\n",
    "    elif direct == 'found': \n",
    "        return mid\n",
    "    #recursive call\n",
    "    elif direct == 'left':\n",
    "        return binary_search(nums, x, lo, mid-1)\n",
    "    elif direct == 'right':\n",
    "        return binary_search(nums, x, mid+1, hi)\n",
    "    "
   ]
  },
  {
   "cell_type": "code",
   "execution_count": 209,
   "metadata": {},
   "outputs": [
    {
     "name": "stdout",
     "output_type": "stream",
     "text": [
      "nums: [2,2,3,4,5,5,5,6]; 5's index 4\n"
     ]
    }
   ],
   "source": [
    "print('nums: [2,2,3,4,5,5,5,6]; 5\\'s index', binary_search([2,2,3,4,5,5,5,6], 5))"
   ]
  },
  {
   "cell_type": "code",
   "execution_count": 211,
   "metadata": {},
   "outputs": [
    {
     "name": "stdout",
     "output_type": "stream",
     "text": [
      "nums: [2,2,3,4,5,5,5,6]; 0's index None\n"
     ]
    }
   ],
   "source": [
    "print('nums: [2,2,3,4,5,5,5,6]; 0\\'s index', binary_search([2,2,3,4,5,5,5,6], 0))"
   ]
  },
  {
   "cell_type": "code",
   "execution_count": null,
   "metadata": {},
   "outputs": [],
   "source": []
  }
 ],
 "metadata": {
  "kernelspec": {
   "display_name": "Python 3",
   "language": "python",
   "name": "python3"
  },
  "language_info": {
   "codemirror_mode": {
    "name": "ipython",
    "version": 3
   },
   "file_extension": ".py",
   "mimetype": "text/x-python",
   "name": "python",
   "nbconvert_exporter": "python",
   "pygments_lexer": "ipython3",
   "version": "3.11.2"
  },
  "orig_nbformat": 4,
  "vscode": {
   "interpreter": {
    "hash": "aee8b7b246df8f9039afb4144a1f6fd8d2ca17a180786b69acc140d282b71a49"
   }
  }
 },
 "nbformat": 4,
 "nbformat_minor": 2
}
