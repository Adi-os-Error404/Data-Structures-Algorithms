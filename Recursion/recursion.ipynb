{
 "cells": [
  {
   "attachments": {},
   "cell_type": "markdown",
   "metadata": {},
   "source": [
    "# Recursion\n",
    "\n",
    "#### A function that calls itself, until it hits some condition which stops calling itself\n",
    "\n",
    "#### All these functions are called in a `Call Stack` (like a $beaker$), the base case call is located at the bottom of Call Stack\n",
    "\n",
    "#### If the `Call Stack` runs out of memory, its called `Stack Overflow` (like $water$ $overflowing$ from a $beaker$)"
   ]
  },
  {
   "cell_type": "code",
   "execution_count": 1,
   "metadata": {},
   "outputs": [],
   "source": [
    "def recur():\n",
    "    # base case/condition:\n",
    "        # return something or nothing\n",
    "    \n",
    "    # return recur()\n",
    "    pass"
   ]
  },
  {
   "attachments": {},
   "cell_type": "markdown",
   "metadata": {},
   "source": [
    "### String Reversal:\n",
    "\n",
    "Ex: 'abc' -> 'cba'"
   ]
  },
  {
   "cell_type": "code",
   "execution_count": 2,
   "metadata": {},
   "outputs": [],
   "source": [
    "def reverse_string(some_string):\n",
    "    if some_string == \"\":\n",
    "        return \"\"\n",
    "    \n",
    "    return reverse_string( some_string[1:] )  +  some_string[0]"
   ]
  },
  {
   "cell_type": "code",
   "execution_count": 3,
   "metadata": {},
   "outputs": [
    {
     "name": "stdout",
     "output_type": "stream",
     "text": [
      "True\n",
      "abc -> cba\n"
     ]
    }
   ],
   "source": [
    "string_test = 'a'\n",
    "print(string_test[1:] == '')\n",
    "print('abc ->', reverse_string(\"abc\"))"
   ]
  },
  {
   "attachments": {},
   "cell_type": "markdown",
   "metadata": {},
   "source": [
    "### Palindrome:\n",
    "\n",
    "Ex: kayak, abccba"
   ]
  },
  {
   "cell_type": "code",
   "execution_count": 4,
   "metadata": {},
   "outputs": [],
   "source": [
    "def is_palindrome(word):\n",
    "    # Smallest base-case OR stopping condition\n",
    "    if len(word) <= 1:\n",
    "        return True\n",
    "    \n",
    "    # Call the func again - Do something to shrink the current word\n",
    "    if word[0] == word[-1]:\n",
    "        return is_palindrome(word[1:-1])\n",
    "    \n",
    "    # Do something if the current word is not palindrome\n",
    "    return False"
   ]
  },
  {
   "cell_type": "code",
   "execution_count": 5,
   "metadata": {},
   "outputs": [
    {
     "name": "stdout",
     "output_type": "stream",
     "text": [
      "kayak: True\n",
      "abcde: False\n"
     ]
    }
   ],
   "source": [
    "print('kayak:', is_palindrome('kayak'))\n",
    "print('abcde:', is_palindrome('abcde'))"
   ]
  },
  {
   "attachments": {},
   "cell_type": "markdown",
   "metadata": {},
   "source": [
    "### Integer to Binary:\n",
    "\n",
    "Ex: 29 -> 11101\n",
    "\n",
    "> 29//2=14; rem =1 /\\\n",
    ">                       \n",
    "> 14 // 2=7; rem = 0 |\n",
    "> \n",
    "> 7 // 2 = 3; rem = 1 |\n",
    "> \n",
    "> 3 // 2 = 1; rem = 1 |\n",
    "> \n",
    "> 1 // 2 = 0; rem = 1 |"
   ]
  },
  {
   "cell_type": "code",
   "execution_count": 6,
   "metadata": {},
   "outputs": [],
   "source": [
    "def int_to_bi(num):\n",
    "    # base-case\n",
    "    if num // 2 == 0:\n",
    "        return str(num%2)\n",
    "    \n",
    "    # recursiver call\n",
    "    return int_to_bi(num//2) + str(num%2)"
   ]
  },
  {
   "cell_type": "code",
   "execution_count": 7,
   "metadata": {},
   "outputs": [
    {
     "name": "stdout",
     "output_type": "stream",
     "text": [
      "29 -> 11101\n"
     ]
    }
   ],
   "source": [
    "print('29 ->', int_to_bi(29))"
   ]
  },
  {
   "attachments": {},
   "cell_type": "markdown",
   "metadata": {},
   "source": [
    "### Sum of Natural Numbers:\n",
    "\n",
    "Ex: 10 -> 55\n",
    "\n",
    "> 10 -> 1, 2, 3, 4, 5, 6, 7, 8, 9, 10\n",
    ">\n",
    "> 10 -> 1 + 2 + 3 + 4 + 5 + 6 + 7 + 8 + 9 + 10\n",
    ">\n",
    "> 10 -> 55"
   ]
  },
  {
   "cell_type": "code",
   "execution_count": 8,
   "metadata": {},
   "outputs": [],
   "source": [
    "def sum_natural_nums(num):\n",
    "    # base-case\n",
    "    if num <= 1:\n",
    "        return 1\n",
    "    \n",
    "    #recursive call\n",
    "    return sum_natural_nums(num-1) + num"
   ]
  },
  {
   "cell_type": "code",
   "execution_count": 9,
   "metadata": {},
   "outputs": [
    {
     "name": "stdout",
     "output_type": "stream",
     "text": [
      "10 -> 55\n"
     ]
    }
   ],
   "source": [
    "print('10 ->', sum_natural_nums(10))"
   ]
  },
  {
   "attachments": {},
   "cell_type": "markdown",
   "metadata": {},
   "source": [
    "<br>\n",
    "\n",
    "## Divide & Conquer:\n",
    "\n",
    "#### (1) __Divide__ the problem into several sub-problems\n",
    "#### (2) __Conquer__ the sub-problems by solving them $recursively$\n",
    "#### (3) __Combine__ the sub-solutions to get solution to the sub-problems\n",
    "<br>"
   ]
  },
  {
   "attachments": {},
   "cell_type": "markdown",
   "metadata": {},
   "source": [
    "### Binary Search:\n",
    "\n",
    "Ex: nums = [1, 2, 3, 4, 5, 6, 7]; find 6's index\n",
    "\n",
    "> -> Binary Search returns __5__"
   ]
  },
  {
   "cell_type": "code",
   "execution_count": 10,
   "metadata": {},
   "outputs": [],
   "source": [
    "def binary_search(nums, x, lo=None, hi=None):\n",
    "    def condition(mid, nums, x):\n",
    "        if nums[mid] == x:\n",
    "            if mid > 0 and nums[mid-1] == x:\n",
    "                return 'left'\n",
    "            else:\n",
    "                return 'found'\n",
    "        elif nums[mid] > x and nums[-1] > x:\n",
    "            return 'left'\n",
    "        elif nums[mid] < x and nums[-1] > x:\n",
    "            return 'right'\n",
    "    \n",
    "    \n",
    "    if lo is None and hi is None:\n",
    "        lo, hi = 0, len(nums)-1\n",
    "    mid = (lo+hi)//2\n",
    "    direct = condition(mid, nums, x)\n",
    "\n",
    "    # if not found:\n",
    "    if lo > hi:\n",
    "        return None\n",
    "\n",
    "    # base-case\n",
    "    elif direct == 'found': \n",
    "        return mid\n",
    "    #recursive call\n",
    "    elif direct == 'left':\n",
    "        return binary_search(nums, x, lo, mid-1)\n",
    "    elif direct == 'right':\n",
    "        return binary_search(nums, x, mid+1, hi)\n",
    "    "
   ]
  },
  {
   "cell_type": "code",
   "execution_count": 11,
   "metadata": {},
   "outputs": [
    {
     "name": "stdout",
     "output_type": "stream",
     "text": [
      "nums: [2,2,3,4,5,5,5,6]; 5's index: 4\n"
     ]
    }
   ],
   "source": [
    "print('nums: [2,2,3,4,5,5,5,6]; 5\\'s index:', binary_search([2,2,3,4,5,5,5,6], 5))"
   ]
  },
  {
   "cell_type": "code",
   "execution_count": 12,
   "metadata": {},
   "outputs": [
    {
     "name": "stdout",
     "output_type": "stream",
     "text": [
      "nums: [2,2,3,4,5,5,5,6]; 0's index: None\n"
     ]
    }
   ],
   "source": [
    "print('nums: [2,2,3,4,5,5,5,6]; 0\\'s index:', binary_search([2,2,3,4,5,5,5,6], 0))"
   ]
  },
  {
   "attachments": {},
   "cell_type": "markdown",
   "metadata": {},
   "source": [
    "### Fibonacci Sequence(Non-Optimized):\n",
    "\n",
    "Ex: Find the 7th num in the Fibonacci Sequence\n",
    "\n",
    ">Fib: 0, 1, 1, 2, 3, 5, 8, 13, 21, 34, ...\n",
    ">\n",
    ">5th num in fib: 13"
   ]
  },
  {
   "cell_type": "code",
   "execution_count": 13,
   "metadata": {},
   "outputs": [],
   "source": [
    "def find_fib(index):\n",
    "    # base case:\n",
    "    if index <= 1:\n",
    "        return index\n",
    "    \n",
    "    # recursive call:\n",
    "    return find_fib(index-1) + find_fib(index-2)"
   ]
  },
  {
   "cell_type": "code",
   "execution_count": 14,
   "metadata": {},
   "outputs": [
    {
     "name": "stdout",
     "output_type": "stream",
     "text": [
      "F(7): 13\n"
     ]
    }
   ],
   "source": [
    "print('F(7):', find_fib(7))"
   ]
  },
  {
   "attachments": {},
   "cell_type": "markdown",
   "metadata": {},
   "source": [
    "### Merge Sort:\n",
    "\n",
    "Ex: [4, 1, 3, 2, 0, -1, 7, 10, 20] -> [-1, 0, 1, 2, 3, 4, 7, 10, 20]"
   ]
  },
  {
   "cell_type": "code",
   "execution_count": 15,
   "metadata": {},
   "outputs": [],
   "source": [
    "def merge_sort(nums):\n",
    "    def merge(l_sub, r_sub):\n",
    "        l, r, merged = 0, 0, []\n",
    "\n",
    "        while l < len(l_sub) and r < len(r_sub):\n",
    "            if l_sub[l] <= r_sub[r]:\n",
    "                merged.append(l_sub[l])\n",
    "                l+=1\n",
    "            elif r_sub[r] < l_sub[l]:\n",
    "                merged.append(r_sub[r])\n",
    "                r+=1\n",
    "        return merged + l_sub[l:] + r_sub[r:]\n",
    "    \n",
    "    # base-case:\n",
    "    if len(nums) <= 1:\n",
    "        return nums\n",
    "    # recursive call:\n",
    "    l_sub = merge_sort(nums[:len(nums)//2])\n",
    "    r_sub = merge_sort(nums[len(nums)//2:])\n",
    "    return merge(l_sub, r_sub)"
   ]
  },
  {
   "cell_type": "code",
   "execution_count": 16,
   "metadata": {},
   "outputs": [
    {
     "name": "stdout",
     "output_type": "stream",
     "text": [
      "[4, 1, 3, 2, 0, -1, 7, 10, 20] -> [-1, 0, 1, 2, 3, 4, 7, 10, 20]\n"
     ]
    }
   ],
   "source": [
    "nums = [4, 1, 3, 2, 0, -1, 7, 10, 20]\n",
    "print(\"{} -> {}\".format(nums, merge_sort(nums)))"
   ]
  },
  {
   "attachments": {},
   "cell_type": "markdown",
   "metadata": {},
   "source": [
    "### Linked List Reversal\n",
    "\n",
    "Linked List: `(1)-->(2)-->(3)-->(4)-->(5)`\n",
    "\n",
    "Reversed List: `(1)<--(2)<--(3)<--(4)<--(5)`"
   ]
  },
  {
   "cell_type": "code",
   "execution_count": 141,
   "metadata": {},
   "outputs": [],
   "source": [
    "class Node():\n",
    "    def __init__(self, data):\n",
    "        self.data = data\n",
    "        self.next = None\n",
    "\n",
    "class LinkedList():\n",
    "    def __init__(self):\n",
    "        self.head = None\n",
    "\n",
    "\n",
    "    # ------ITERATIVE FUNCTIONS------\n",
    "\n",
    "    def iter_add_nodes(self, new_node):\n",
    "        if self.head is None:\n",
    "            self.head = new_node\n",
    "        else:\n",
    "            cur_node = self.head\n",
    "            while cur_node.next is not None:\n",
    "                cur_node = cur_node.next\n",
    "            cur_node.next = new_node\n",
    "\n",
    "\n",
    "    def iter_print(self):\n",
    "        cur_node = self.head\n",
    "        ls = []\n",
    "        while cur_node is not None:\n",
    "            ls.append(cur_node.data)\n",
    "            cur_node = cur_node.next\n",
    "        print(ls)\n",
    "\n",
    "    \n",
    "    def iter_length(self):\n",
    "        i = 0\n",
    "        cur_node = self.head\n",
    "        while cur_node is not None:\n",
    "            i+=1\n",
    "            cur_node = cur_node.next\n",
    "        return i\n",
    "    \n",
    "\n",
    "    def iter_node_data_at(self, index):\n",
    "        if self.iter_length() <= index:\n",
    "            return -1\n",
    "        \n",
    "        cur_node = self.head\n",
    "        i=0\n",
    "        while cur_node is not None:\n",
    "            if index == i:\n",
    "                return cur_node.data\n",
    "            i+=1\n",
    "            cur_node = cur_node.next\n",
    "\n",
    "\n",
    "    def iter_reverse(self):\n",
    "        prev_node = None\n",
    "        cur_node = self.head\n",
    "        while cur_node is not None:\n",
    "            nxt_node = cur_node.next\n",
    "            \n",
    "            cur_node.next = prev_node\n",
    "\n",
    "            prev_node = cur_node\n",
    "            cur_node = nxt_node\n",
    "            \n",
    "        self.head = prev_node\n",
    "        \n",
    "\n",
    "    # ------RECURSIVE FUNCTIONS------\n",
    "\n",
    "    def recur_add_nodes(self, new_node):\n",
    "        def recur(node):\n",
    "            if node.next is None:\n",
    "                return node\n",
    "            return recur(node.next)\n",
    "        \n",
    "        if self.head is None:\n",
    "            self.head = new_node\n",
    "        else:\n",
    "            last_node = recur(self.head)\n",
    "            last_node.next = new_node\n",
    "\n",
    "\n",
    "    def recur_print(self):\n",
    "        def recur(node):\n",
    "            if node.next is None:\n",
    "                return [node.data]\n",
    "            return [node.data] + recur(node.next)\n",
    "        \n",
    "        print(recur(self.head))\n",
    "\n",
    "\n",
    "    def recur_length(self):\n",
    "        def recur(node):\n",
    "            if node.next is None:\n",
    "                return 1\n",
    "            return 1 + recur(node.next)\n",
    "        \n",
    "        return recur(self.head)\n",
    "    \n",
    "\n",
    "    def recur_node_data_at(self, index):\n",
    "        def recur(node, cur_index):\n",
    "            if cur_index == index:\n",
    "                return node.data\n",
    "            cur_index+=1\n",
    "            return recur(node.next, cur_index)\n",
    "\n",
    "        if self.recur_length() <= index:\n",
    "            return -1\n",
    "        return recur(self.head, 0)\n",
    "\n",
    "\n",
    "    def recur_reverse(self):\n",
    "        def recur(cur_node, prev_node):\n",
    "            if cur_node is None:\n",
    "                return prev_node\n",
    "            \n",
    "            nxt_node = cur_node.next\n",
    "            cur_node.next = prev_node\n",
    "            return recur(nxt_node, cur_node)\n",
    "        \n",
    "        return recur(self.head, None)\n",
    "    "
   ]
  },
  {
   "cell_type": "code",
   "execution_count": 142,
   "metadata": {},
   "outputs": [
    {
     "name": "stdout",
     "output_type": "stream",
     "text": [
      "[1, 2, 3, 4, 5]\n",
      "Length of Linked List: 5\n",
      "Node's data at index-4: 5\n",
      "[5, 4, 3, 2, 1]\n"
     ]
    }
   ],
   "source": [
    "linked_list = LinkedList()\n",
    "linked_list.recur_add_nodes(Node(1))\n",
    "linked_list.recur_add_nodes(Node(2))\n",
    "linked_list.recur_add_nodes(Node(3))\n",
    "linked_list.recur_add_nodes(Node(4))\n",
    "linked_list.recur_add_nodes(Node(5))\n",
    "\n",
    "linked_list.recur_print()\n",
    "print(\"Length of Linked List: {}\".format(linked_list.recur_length()))\n",
    "print(\"Node's data at index-4: {}\".format(linked_list.recur_node_data_at(4)))\n",
    "\n",
    "linked_list.iter_reverse()\n",
    "linked_list.recur_print()"
   ]
  },
  {
   "cell_type": "code",
   "execution_count": null,
   "metadata": {},
   "outputs": [],
   "source": []
  }
 ],
 "metadata": {
  "kernelspec": {
   "display_name": "Python 3",
   "language": "python",
   "name": "python3"
  },
  "language_info": {
   "codemirror_mode": {
    "name": "ipython",
    "version": 3
   },
   "file_extension": ".py",
   "mimetype": "text/x-python",
   "name": "python",
   "nbconvert_exporter": "python",
   "pygments_lexer": "ipython3",
   "version": "3.11.2"
  },
  "orig_nbformat": 4,
  "vscode": {
   "interpreter": {
    "hash": "aee8b7b246df8f9039afb4144a1f6fd8d2ca17a180786b69acc140d282b71a49"
   }
  }
 },
 "nbformat": 4,
 "nbformat_minor": 2
}
