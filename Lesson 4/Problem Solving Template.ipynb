{
 "cells": [
  {
   "attachments": {},
   "cell_type": "markdown",
   "id": "47ec1f87",
   "metadata": {},
   "source": [
    "# Dynamic Programming \n"
   ]
  },
  {
   "attachments": {},
   "cell_type": "markdown",
   "id": "65ac2c0f",
   "metadata": {},
   "source": [
    "## 0/1 Knapsack Problem\n",
    "\n",
    "Greedy:\n",
    "\n",
    "https://youtu.be/oTTzNMHM05I\n",
    "\n",
    "<br/>\n",
    "DP:\n",
    "\n",
    "https://youtu.be/nLmhmB6NzcM\n",
    "\n",
    "https://youtu.be/zRza99HPvkQ\n",
    "\n",
    "<br/>\n",
    "Recur:\n",
    "\n",
    "https://youtu.be/yV1d-b_NeK8\n",
    "<br/>\n",
    "\n",
    "#### Problem statement\n",
    "\n",
    "> You’re in charge of selecting a football (soccer) team from a large pool of players. Each player has a cost, and a rating. You have a limited budget. What is the highest total rating of a team that fits within your budget. Assume that there’s no minimum or maximum team size.\n",
    "\n",
    "<br/>\n",
    "\n",
    "General problemm statemnt:\n",
    "\n",
    "> Given n elements, each of which has a weight and a profit, determine the maximum profit that can be obtained by selecting a subset of the elements weighing no more than w.\n",
    "\n",
    "<img src=\"https://i.imgur.com/4O919vu.png\" width=\"600\">\n",
    "\n",
    "\n"
   ]
  },
  {
   "attachments": {},
   "cell_type": "markdown",
   "id": "cede29b4",
   "metadata": {},
   "source": [
    "## Solution\n",
    "<hr><br>\n",
    "\n",
    "### 1. State the problem clearly. Identify the input & output formats.\n",
    "<br>\n",
    "\n",
    "**Problem**\n",
    "\n",
    "> **There are 'n' elements (n players). Each element (player) has stats like profit (rating of the player) and weight (cost of the player). The goal is to find the maximum profit (rating) by picking the elements (players) which depends on the given capacity (budget = sum of picked player's cost/weight).**\n",
    "\n",
    "<br/>\n",
    "\n",
    "\n",
    "**Input**\n",
    "\n",
    "1. **profits (ratings of player)**\n",
    "2. **weights (costs of player)**\n",
    "3. **capacity (total budjet)**\n",
    "\n",
    "<br>\n",
    "\n",
    "**Output**\n",
    "\n",
    "1. **max_profit (maximum ratings of players within the budjet)**\n",
    "\n",
    "<br/>\n",
    "\n",
    "Based on the above, we can now create a signature of our function:"
   ]
  },
  {
   "cell_type": "code",
   "execution_count": 2,
   "id": "b618d1a4",
   "metadata": {},
   "outputs": [],
   "source": [
    "def maximise_profit(profits, weights, capacity):\n",
    "    pass"
   ]
  },
  {
   "attachments": {},
   "cell_type": "markdown",
   "id": "d9d55881",
   "metadata": {},
   "source": [
    "<hr><br>\n",
    "\n",
    "### 2. Come up with some example inputs & outputs. Try to cover all edge cases.\n",
    "\n",
    "\n",
    "1. Some generic test cases\n",
    "2. All the elements can be included\n",
    "3. None of the elements can be included\n",
    "4. Only one of the elements can be included\n",
    "5. ???\n"
   ]
  },
  {
   "cell_type": "code",
   "execution_count": 2,
   "id": "29e19467",
   "metadata": {},
   "outputs": [],
   "source": [
    "test0 = {\n",
    "    'input': {\n",
    "        'capacity': 165,\n",
    "        'weights': [23, 31, 29, 44, 53, 38, 63, 85, 89, 82],\n",
    "        'profits': [92, 57, 49, 68, 60, 43, 67, 84, 87, 72]\n",
    "    },\n",
    "    'output': 309\n",
    "}\n",
    "\n",
    "test1 = {\n",
    "    'input': {\n",
    "        'capacity': 3,\n",
    "        'weights': [4, 5, 6],\n",
    "        'profits': [1, 2, 3]\n",
    "    },\n",
    "    'output': 0\n",
    "}\n",
    "\n",
    "test2 = {\n",
    "    'input': {\n",
    "        'capacity': 4,\n",
    "        'weights': [4, 5, 1],\n",
    "        'profits': [1, 2, 3]\n",
    "    },\n",
    "    'output': 3\n",
    "}\n",
    "\n",
    "test3 = {\n",
    "    'input': {\n",
    "        'capacity': 170,\n",
    "        'weights': [41, 50, 49, 59, 55, 57, 60],\n",
    "        'profits': [442, 525, 511, 593, 546, 564, 617]\n",
    "    },\n",
    "    'output': 1735\n",
    "}\n",
    "\n",
    "test4 = {\n",
    "    'input': {\n",
    "        'capacity': 15,\n",
    "        'weights': [4, 5, 6],\n",
    "        'profits': [1, 2, 3]\n",
    "    },\n",
    "    'output': 6\n",
    "}\n",
    "\n",
    "test5 = {\n",
    "    'input': {\n",
    "        'capacity': 15,\n",
    "        'weights': [4, 5, 1, 3, 2, 5],\n",
    "        'profits': [2, 3, 1, 5, 4, 7]\n",
    "    },\n",
    "    'output': 19\n",
    "}\n",
    "\n",
    "tests = [test0, test1, test2, test3, test4, test5]"
   ]
  },
  {
   "cell_type": "markdown",
   "id": "1ca49628",
   "metadata": {},
   "source": [
    "<hr><br>\n",
    "\n",
    "### 3. Come up with a correct solution for the problem. State it in plain English.\n",
    "\n",
    "1. **???**\n",
    "2. **???**\n",
    "3. **???**\n",
    "4. **???**\n",
    "5. **???**\n",
    "\n",
    "(add more steps if required)\n"
   ]
  },
  {
   "cell_type": "markdown",
   "id": "be9fa298",
   "metadata": {},
   "source": [
    "<hr><br>\n",
    "\n",
    "###  4. Implement the solution and test it using example inputs. Fix bugs, if any."
   ]
  },
  {
   "cell_type": "code",
   "execution_count": 5,
   "id": "55cd026e",
   "metadata": {},
   "outputs": [],
   "source": [
    "# Implement"
   ]
  },
  {
   "cell_type": "code",
   "execution_count": null,
   "id": "75844eca",
   "metadata": {},
   "outputs": [],
   "source": [
    "#   from jovian.pythondsa import evaluate_test_cases\n",
    "#   evaluate_test_cases(function, tests)"
   ]
  },
  {
   "cell_type": "markdown",
   "id": "69e9a951",
   "metadata": {},
   "source": [
    "<hr><br>\n",
    "\n",
    "### 5. Analyze the algorithm's complexity and identify inefficiencies, if any."
   ]
  },
  {
   "cell_type": "markdown",
   "id": "efade488",
   "metadata": {},
   "source": [
    "<hr><br>\n",
    "\n",
    "### 6. Apply the right technique to overcome the inefficiency. Repeat steps 3 to 6."
   ]
  }
 ],
 "metadata": {
  "kernelspec": {
   "display_name": "Python 3 (ipykernel)",
   "language": "python",
   "name": "python3"
  },
  "language_info": {
   "codemirror_mode": {
    "name": "ipython",
    "version": 3
   },
   "file_extension": ".py",
   "mimetype": "text/x-python",
   "name": "python",
   "nbconvert_exporter": "python",
   "pygments_lexer": "ipython3",
   "version": "3.11.2"
  },
  "vscode": {
   "interpreter": {
    "hash": "aee8b7b246df8f9039afb4144a1f6fd8d2ca17a180786b69acc140d282b71a49"
   }
  }
 },
 "nbformat": 4,
 "nbformat_minor": 5
}
