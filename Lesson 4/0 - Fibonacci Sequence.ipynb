{
 "cells": [
  {
   "attachments": {},
   "cell_type": "markdown",
   "metadata": {},
   "source": [
    "![](https://images.twinkl.co.uk/tr/raw/upload/u/ux/fibonacci_ver_1.png)"
   ]
  },
  {
   "attachments": {},
   "cell_type": "markdown",
   "metadata": {},
   "source": [
    "## A function ___fib(i)___ will take in an index (i), and will return the (i<sup>th</sup>) fibonacci number in the sequence.\n",
    "<hr>\n",
    "\n",
    "### We have to solve it in 3 different ways to get the best time complexity.\n",
    "### 1. Recusion (tree): $O(2^n)$\n",
    "### 2. Memoization (tree): $O(n)$\n",
    "### 3. Tabulation (sotring-bottom up): $O(n)$\n",
    "\n",
    "<hr><br>"
   ]
  },
  {
   "attachments": {},
   "cell_type": "markdown",
   "metadata": {},
   "source": [
    "## 1. Recusion:\n",
    "\n",
    "![](https://i.stack.imgur.com/2dxLl.png)\n",
    "\n",
    "##### To get the $i^{th}$ num in the fib seq, we need the num before ($i^{th}$-1) and the num before that ($i^{th}$-2).\n",
    "\n",
    "##### In recusion, we solve these two numbers, 2 times, making a repetition for a solution that we have already solved for, making the...\n",
    "### Time Complecity: $O(2^n)$"
   ]
  },
  {
   "cell_type": "code",
   "execution_count": 10,
   "metadata": {},
   "outputs": [],
   "source": [
    "def fib_recursion(i):\n",
    "    # base case\n",
    "    if i == 0 or i == 1:\n",
    "        return 1\n",
    "    \n",
    "    # recusive call\n",
    "    return fib_recursion(i-1) + fib_recursion(i-2)"
   ]
  },
  {
   "cell_type": "code",
   "execution_count": 11,
   "metadata": {},
   "outputs": [
    {
     "name": "stdout",
     "output_type": "stream",
     "text": [
      "1\t|\t1\t|\t2\t|\t3\t|\t5\t|\t8\t|\t13\t|\t21\t|\t\n"
     ]
    }
   ],
   "source": [
    "fib_seq = ''\n",
    "for i in range(8):\n",
    "    fib_seq += str(fib_recursion(i)) + '\\t|\\t'\n",
    "print(fib_seq)"
   ]
  },
  {
   "attachments": {},
   "cell_type": "markdown",
   "metadata": {},
   "source": [
    "## 2. Memoization:\n",
    "\n",
    "![](https://i.stack.imgur.com/2dxLl.png)\n",
    "\n",
    "##### If we are able to memorize the calculation for every subtree, we can call $fib(i-1)$ in $O(n)$ time and $fib(i-2)$ in $O(1)$ time, making the...\n",
    "\n",
    "### Time Complecity: $O(n)$"
   ]
  },
  {
   "cell_type": "code",
   "execution_count": 12,
   "metadata": {},
   "outputs": [],
   "source": [
    "def fib_recursion(i):\n",
    "    if i == 0 or i == 1:\n",
    "        return 1\n",
    "    return fib_recursion(i-1) + fib_recursion(i-2)\n",
    "\n",
    "\n",
    "def fib_memoization(i):\n",
    "    memo = {}\n",
    "    def recurse(index):\n",
    "        key = str(index)\n",
    "\n",
    "        if key in memo:\n",
    "            return memo[key]\n",
    "        \n",
    "        elif index == 0 or index == 1:\n",
    "            memo[key] = 1\n",
    "        \n",
    "        else:\n",
    "            memo[key] = recurse(index-1) + recurse(index-2)\n",
    "\n",
    "        return memo[key]\n",
    "    \n",
    "    return recurse(i)"
   ]
  },
  {
   "cell_type": "code",
   "execution_count": 13,
   "metadata": {},
   "outputs": [
    {
     "name": "stdout",
     "output_type": "stream",
     "text": [
      "1\t|\t1\t|\t2\t|\t3\t|\t5\t|\t8\t|\t13\t|\t21\t|\t\n"
     ]
    }
   ],
   "source": [
    "fib_seq = ''\n",
    "for i in range(8):\n",
    "    fib_seq += str(fib_memoization(i)) + '\\t|\\t'\n",
    "print(fib_seq)"
   ]
  },
  {
   "attachments": {},
   "cell_type": "markdown",
   "metadata": {},
   "source": [
    "## 2. Tabulation (Bottom Up):\n",
    "\n",
    "##### Instead of using recusion, if we are able to memorize/store these data in a table ___iteratively___ it will be faster.\n",
    "\n",
    "\n",
    "##### Although it will have the same Time Complexity, but it would still be faster than Memoization as Bottom Up will be using iteration instead of recusion, meaning no trees.\n",
    "\n",
    "### Time Complecity: $O(n)$"
   ]
  },
  {
   "cell_type": "code",
   "execution_count": 14,
   "metadata": {},
   "outputs": [],
   "source": [
    "def fib_dp(i):\n",
    "    tab = [None]*(i+2)\n",
    "\n",
    "    def fill_tab(i):\n",
    "        if i == 0:\n",
    "            tab[i] = 0\n",
    "\n",
    "        elif i == 1 or i == 2:\n",
    "            tab[i] = 1\n",
    "            \n",
    "        else:\n",
    "            tab[i] = tab[i-1] + tab[i-2]\n",
    "\n",
    "    for x in range(len(tab)):\n",
    "        fill_tab(x)\n",
    "        \n",
    "    #print(tab)\n",
    "    return tab[-1]"
   ]
  },
  {
   "cell_type": "code",
   "execution_count": 15,
   "metadata": {},
   "outputs": [
    {
     "name": "stdout",
     "output_type": "stream",
     "text": [
      "1\t|\t1\t|\t2\t|\t3\t|\t5\t|\t8\t|\t13\t|\t21\t|\t\n"
     ]
    }
   ],
   "source": [
    "fib_seq = ''\n",
    "for i in range(8):\n",
    "    fib_seq += str(fib_dp(i)) + '\\t|\\t'\n",
    "print(fib_seq)"
   ]
  },
  {
   "attachments": {},
   "cell_type": "markdown",
   "metadata": {},
   "source": [
    "### Lets compare how long it take for all the 3 approcahes:"
   ]
  },
  {
   "attachments": {},
   "cell_type": "markdown",
   "metadata": {},
   "source": [
    "#### 1. Recusion: $O(2^n)$ --> ___19.5 s___\n",
    "#### 2. Memoization: $O(n)$ --> ___27.9 µs___\n",
    "#### 3. Tabulation: $O(n)$ --> ___12.9 µs___"
   ]
  },
  {
   "cell_type": "code",
   "execution_count": 16,
   "metadata": {},
   "outputs": [
    {
     "name": "stdout",
     "output_type": "stream",
     "text": [
      "CPU times: user 17.7 s, sys: 141 ms, total: 17.9 s\n",
      "Wall time: 17.9 s\n"
     ]
    },
    {
     "data": {
      "text/plain": [
       "165580141"
      ]
     },
     "execution_count": 16,
     "metadata": {},
     "output_type": "execute_result"
    }
   ],
   "source": [
    "%%time\n",
    "fib_recursion(40)"
   ]
  },
  {
   "cell_type": "code",
   "execution_count": 17,
   "metadata": {},
   "outputs": [
    {
     "name": "stdout",
     "output_type": "stream",
     "text": [
      "CPU times: user 24 µs, sys: 0 ns, total: 24 µs\n",
      "Wall time: 25.7 µs\n"
     ]
    },
    {
     "data": {
      "text/plain": [
       "165580141"
      ]
     },
     "execution_count": 17,
     "metadata": {},
     "output_type": "execute_result"
    }
   ],
   "source": [
    "%%time\n",
    "fib_memoization(40)"
   ]
  },
  {
   "cell_type": "code",
   "execution_count": 18,
   "metadata": {},
   "outputs": [
    {
     "name": "stdout",
     "output_type": "stream",
     "text": [
      "CPU times: user 11 µs, sys: 4 µs, total: 15 µs\n",
      "Wall time: 16.2 µs\n"
     ]
    },
    {
     "data": {
      "text/plain": [
       "165580141"
      ]
     },
     "execution_count": 18,
     "metadata": {},
     "output_type": "execute_result"
    }
   ],
   "source": [
    "%%time\n",
    "fib_dp(40)"
   ]
  }
 ],
 "metadata": {
  "kernelspec": {
   "display_name": "Python 3",
   "language": "python",
   "name": "python3"
  },
  "language_info": {
   "codemirror_mode": {
    "name": "ipython",
    "version": 3
   },
   "file_extension": ".py",
   "mimetype": "text/x-python",
   "name": "python",
   "nbconvert_exporter": "python",
   "pygments_lexer": "ipython3",
   "version": "3.11.4 (v3.11.4:d2340ef257, Jun  6 2023, 19:15:51) [Clang 13.0.0 (clang-1300.0.29.30)]"
  },
  "orig_nbformat": 4,
  "vscode": {
   "interpreter": {
    "hash": "aee8b7b246df8f9039afb4144a1f6fd8d2ca17a180786b69acc140d282b71a49"
   }
  }
 },
 "nbformat": 4,
 "nbformat_minor": 2
}
